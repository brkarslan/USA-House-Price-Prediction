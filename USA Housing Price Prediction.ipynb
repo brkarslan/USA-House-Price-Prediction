{
 "cells": [
  {
   "cell_type": "markdown",
   "id": "0951cea3-2076-482a-9e2a-1e7612d26f5f",
   "metadata": {},
   "source": [
    "# Import Library"
   ]
  },
  {
   "cell_type": "code",
   "execution_count": 1,
   "id": "ab203c04",
   "metadata": {},
   "outputs": [],
   "source": [
    "import pandas as pd \n",
    "import numpy as np\n",
    "import matplotlib.pyplot as plt\n",
    "import seaborn as sns \n",
    "import scipy.stats as stats\n",
    "\n",
    "plt.rcParams[\"figure.figsize\"] = (10,6)\n",
    "import warnings\n",
    "warnings.filterwarnings(\"ignore\")\n",
    "pd.set_option('display.float_format', lambda x: '%.5f' % x)\n"
   ]
  },
  {
   "cell_type": "markdown",
   "id": "55c78ff5-7728-4a03-9e18-1a3fb11a7ec3",
   "metadata": {},
   "source": [
    "# Read Dataset"
   ]
  },
  {
   "cell_type": "code",
   "execution_count": 2,
   "id": "759cfb8d",
   "metadata": {},
   "outputs": [],
   "source": [
    "df = pd.read_csv(\"USA_Housing.csv\")"
   ]
  },
  {
   "cell_type": "markdown",
   "id": "702fc477-6ccc-46f0-b5b3-f9e8814ae962",
   "metadata": {},
   "source": [
    "# Data Preparation"
   ]
  },
  {
   "cell_type": "code",
   "execution_count": 3,
   "id": "f9fe214e",
   "metadata": {},
   "outputs": [
    {
     "data": {
      "text/html": [
       "<div>\n",
       "<style scoped>\n",
       "    .dataframe tbody tr th:only-of-type {\n",
       "        vertical-align: middle;\n",
       "    }\n",
       "\n",
       "    .dataframe tbody tr th {\n",
       "        vertical-align: top;\n",
       "    }\n",
       "\n",
       "    .dataframe thead th {\n",
       "        text-align: right;\n",
       "    }\n",
       "</style>\n",
       "<table border=\"1\" class=\"dataframe\">\n",
       "  <thead>\n",
       "    <tr style=\"text-align: right;\">\n",
       "      <th></th>\n",
       "      <th>Avg. Area Income</th>\n",
       "      <th>Avg. Area House Age</th>\n",
       "      <th>Avg. Area Number of Rooms</th>\n",
       "      <th>Avg. Area Number of Bedrooms</th>\n",
       "      <th>Area Population</th>\n",
       "      <th>Price</th>\n",
       "      <th>Address</th>\n",
       "    </tr>\n",
       "  </thead>\n",
       "  <tbody>\n",
       "    <tr>\n",
       "      <th>0</th>\n",
       "      <td>79545.45857</td>\n",
       "      <td>5.68286</td>\n",
       "      <td>7.00919</td>\n",
       "      <td>4.09000</td>\n",
       "      <td>23086.80050</td>\n",
       "      <td>1059033.55787</td>\n",
       "      <td>208 Michael Ferry Apt. 674\\nLaurabury, NE 3701...</td>\n",
       "    </tr>\n",
       "    <tr>\n",
       "      <th>1</th>\n",
       "      <td>79248.64245</td>\n",
       "      <td>6.00290</td>\n",
       "      <td>6.73082</td>\n",
       "      <td>3.09000</td>\n",
       "      <td>40173.07217</td>\n",
       "      <td>1505890.91485</td>\n",
       "      <td>188 Johnson Views Suite 079\\nLake Kathleen, CA...</td>\n",
       "    </tr>\n",
       "    <tr>\n",
       "      <th>2</th>\n",
       "      <td>61287.06718</td>\n",
       "      <td>5.86589</td>\n",
       "      <td>8.51273</td>\n",
       "      <td>5.13000</td>\n",
       "      <td>36882.15940</td>\n",
       "      <td>1058987.98788</td>\n",
       "      <td>9127 Elizabeth Stravenue\\nDanieltown, WI 06482...</td>\n",
       "    </tr>\n",
       "    <tr>\n",
       "      <th>3</th>\n",
       "      <td>63345.24005</td>\n",
       "      <td>7.18824</td>\n",
       "      <td>5.58673</td>\n",
       "      <td>3.26000</td>\n",
       "      <td>34310.24283</td>\n",
       "      <td>1260616.80663</td>\n",
       "      <td>USS Barnett\\nFPO AP 44820</td>\n",
       "    </tr>\n",
       "    <tr>\n",
       "      <th>4</th>\n",
       "      <td>59982.19723</td>\n",
       "      <td>5.04055</td>\n",
       "      <td>7.83939</td>\n",
       "      <td>4.23000</td>\n",
       "      <td>26354.10947</td>\n",
       "      <td>630943.48934</td>\n",
       "      <td>USNS Raymond\\nFPO AE 09386</td>\n",
       "    </tr>\n",
       "    <tr>\n",
       "      <th>...</th>\n",
       "      <td>...</td>\n",
       "      <td>...</td>\n",
       "      <td>...</td>\n",
       "      <td>...</td>\n",
       "      <td>...</td>\n",
       "      <td>...</td>\n",
       "      <td>...</td>\n",
       "    </tr>\n",
       "    <tr>\n",
       "      <th>4995</th>\n",
       "      <td>60567.94414</td>\n",
       "      <td>7.83036</td>\n",
       "      <td>6.13736</td>\n",
       "      <td>3.46000</td>\n",
       "      <td>22837.36103</td>\n",
       "      <td>1060193.78588</td>\n",
       "      <td>USNS Williams\\nFPO AP 30153-7653</td>\n",
       "    </tr>\n",
       "    <tr>\n",
       "      <th>4996</th>\n",
       "      <td>78491.27543</td>\n",
       "      <td>6.99913</td>\n",
       "      <td>6.57676</td>\n",
       "      <td>4.02000</td>\n",
       "      <td>25616.11549</td>\n",
       "      <td>1482617.72862</td>\n",
       "      <td>PSC 9258, Box 8489\\nAPO AA 42991-3352</td>\n",
       "    </tr>\n",
       "    <tr>\n",
       "      <th>4997</th>\n",
       "      <td>63390.68689</td>\n",
       "      <td>7.25059</td>\n",
       "      <td>4.80508</td>\n",
       "      <td>2.13000</td>\n",
       "      <td>33266.14549</td>\n",
       "      <td>1030729.58315</td>\n",
       "      <td>4215 Tracy Garden Suite 076\\nJoshualand, VA 01...</td>\n",
       "    </tr>\n",
       "    <tr>\n",
       "      <th>4998</th>\n",
       "      <td>68001.33124</td>\n",
       "      <td>5.53439</td>\n",
       "      <td>7.13014</td>\n",
       "      <td>5.44000</td>\n",
       "      <td>42625.62016</td>\n",
       "      <td>1198656.87241</td>\n",
       "      <td>USS Wallace\\nFPO AE 73316</td>\n",
       "    </tr>\n",
       "    <tr>\n",
       "      <th>4999</th>\n",
       "      <td>65510.58180</td>\n",
       "      <td>5.99231</td>\n",
       "      <td>6.79234</td>\n",
       "      <td>4.07000</td>\n",
       "      <td>46501.28380</td>\n",
       "      <td>1298950.48027</td>\n",
       "      <td>37778 George Ridges Apt. 509\\nEast Holly, NV 2...</td>\n",
       "    </tr>\n",
       "  </tbody>\n",
       "</table>\n",
       "<p>5000 rows × 7 columns</p>\n",
       "</div>"
      ],
      "text/plain": [
       "      Avg. Area Income  Avg. Area House Age  Avg. Area Number of Rooms  \\\n",
       "0          79545.45857              5.68286                    7.00919   \n",
       "1          79248.64245              6.00290                    6.73082   \n",
       "2          61287.06718              5.86589                    8.51273   \n",
       "3          63345.24005              7.18824                    5.58673   \n",
       "4          59982.19723              5.04055                    7.83939   \n",
       "...                ...                  ...                        ...   \n",
       "4995       60567.94414              7.83036                    6.13736   \n",
       "4996       78491.27543              6.99913                    6.57676   \n",
       "4997       63390.68689              7.25059                    4.80508   \n",
       "4998       68001.33124              5.53439                    7.13014   \n",
       "4999       65510.58180              5.99231                    6.79234   \n",
       "\n",
       "      Avg. Area Number of Bedrooms  Area Population         Price  \\\n",
       "0                          4.09000      23086.80050 1059033.55787   \n",
       "1                          3.09000      40173.07217 1505890.91485   \n",
       "2                          5.13000      36882.15940 1058987.98788   \n",
       "3                          3.26000      34310.24283 1260616.80663   \n",
       "4                          4.23000      26354.10947  630943.48934   \n",
       "...                            ...              ...           ...   \n",
       "4995                       3.46000      22837.36103 1060193.78588   \n",
       "4996                       4.02000      25616.11549 1482617.72862   \n",
       "4997                       2.13000      33266.14549 1030729.58315   \n",
       "4998                       5.44000      42625.62016 1198656.87241   \n",
       "4999                       4.07000      46501.28380 1298950.48027   \n",
       "\n",
       "                                                Address  \n",
       "0     208 Michael Ferry Apt. 674\\nLaurabury, NE 3701...  \n",
       "1     188 Johnson Views Suite 079\\nLake Kathleen, CA...  \n",
       "2     9127 Elizabeth Stravenue\\nDanieltown, WI 06482...  \n",
       "3                             USS Barnett\\nFPO AP 44820  \n",
       "4                            USNS Raymond\\nFPO AE 09386  \n",
       "...                                                 ...  \n",
       "4995                   USNS Williams\\nFPO AP 30153-7653  \n",
       "4996              PSC 9258, Box 8489\\nAPO AA 42991-3352  \n",
       "4997  4215 Tracy Garden Suite 076\\nJoshualand, VA 01...  \n",
       "4998                          USS Wallace\\nFPO AE 73316  \n",
       "4999  37778 George Ridges Apt. 509\\nEast Holly, NV 2...  \n",
       "\n",
       "[5000 rows x 7 columns]"
      ]
     },
     "execution_count": 3,
     "metadata": {},
     "output_type": "execute_result"
    }
   ],
   "source": [
    "df"
   ]
  },
  {
   "cell_type": "code",
   "execution_count": 4,
   "id": "ee3f8bf9",
   "metadata": {},
   "outputs": [
    {
     "data": {
      "text/plain": [
       "(5000, 7)"
      ]
     },
     "execution_count": 4,
     "metadata": {},
     "output_type": "execute_result"
    }
   ],
   "source": [
    "df.shape"
   ]
  },
  {
   "cell_type": "code",
   "execution_count": 5,
   "id": "67114dbd",
   "metadata": {},
   "outputs": [
    {
     "name": "stdout",
     "output_type": "stream",
     "text": [
      "<class 'pandas.core.frame.DataFrame'>\n",
      "RangeIndex: 5000 entries, 0 to 4999\n",
      "Data columns (total 7 columns):\n",
      " #   Column                        Non-Null Count  Dtype  \n",
      "---  ------                        --------------  -----  \n",
      " 0   Avg. Area Income              5000 non-null   float64\n",
      " 1   Avg. Area House Age           5000 non-null   float64\n",
      " 2   Avg. Area Number of Rooms     5000 non-null   float64\n",
      " 3   Avg. Area Number of Bedrooms  5000 non-null   float64\n",
      " 4   Area Population               5000 non-null   float64\n",
      " 5   Price                         5000 non-null   float64\n",
      " 6   Address                       5000 non-null   object \n",
      "dtypes: float64(6), object(1)\n",
      "memory usage: 273.6+ KB\n"
     ]
    }
   ],
   "source": [
    "df.info()"
   ]
  },
  {
   "cell_type": "code",
   "execution_count": 6,
   "id": "50deda63",
   "metadata": {},
   "outputs": [
    {
     "data": {
      "text/plain": [
       "Avg. Area Income                0\n",
       "Avg. Area House Age             0\n",
       "Avg. Area Number of Rooms       0\n",
       "Avg. Area Number of Bedrooms    0\n",
       "Area Population                 0\n",
       "Price                           0\n",
       "Address                         0\n",
       "dtype: int64"
      ]
     },
     "execution_count": 6,
     "metadata": {},
     "output_type": "execute_result"
    }
   ],
   "source": [
    "df.isnull().sum()"
   ]
  },
  {
   "cell_type": "code",
   "execution_count": 7,
   "id": "885434a4",
   "metadata": {},
   "outputs": [
    {
     "data": {
      "text/html": [
       "<div>\n",
       "<style scoped>\n",
       "    .dataframe tbody tr th:only-of-type {\n",
       "        vertical-align: middle;\n",
       "    }\n",
       "\n",
       "    .dataframe tbody tr th {\n",
       "        vertical-align: top;\n",
       "    }\n",
       "\n",
       "    .dataframe thead th {\n",
       "        text-align: right;\n",
       "    }\n",
       "</style>\n",
       "<table border=\"1\" class=\"dataframe\">\n",
       "  <thead>\n",
       "    <tr style=\"text-align: right;\">\n",
       "      <th></th>\n",
       "      <th>Avg. Area Income</th>\n",
       "      <th>Avg. Area House Age</th>\n",
       "      <th>Avg. Area Number of Rooms</th>\n",
       "      <th>Avg. Area Number of Bedrooms</th>\n",
       "      <th>Area Population</th>\n",
       "      <th>Price</th>\n",
       "      <th>Address</th>\n",
       "    </tr>\n",
       "  </thead>\n",
       "  <tbody>\n",
       "    <tr>\n",
       "      <th>0</th>\n",
       "      <td>79545.45857</td>\n",
       "      <td>5.68286</td>\n",
       "      <td>7.00919</td>\n",
       "      <td>4.09000</td>\n",
       "      <td>23086.80050</td>\n",
       "      <td>1059033.55787</td>\n",
       "      <td>208 Michael Ferry Apt. 674\\nLaurabury, NE 3701...</td>\n",
       "    </tr>\n",
       "    <tr>\n",
       "      <th>1</th>\n",
       "      <td>79248.64245</td>\n",
       "      <td>6.00290</td>\n",
       "      <td>6.73082</td>\n",
       "      <td>3.09000</td>\n",
       "      <td>40173.07217</td>\n",
       "      <td>1505890.91485</td>\n",
       "      <td>188 Johnson Views Suite 079\\nLake Kathleen, CA...</td>\n",
       "    </tr>\n",
       "    <tr>\n",
       "      <th>2</th>\n",
       "      <td>61287.06718</td>\n",
       "      <td>5.86589</td>\n",
       "      <td>8.51273</td>\n",
       "      <td>5.13000</td>\n",
       "      <td>36882.15940</td>\n",
       "      <td>1058987.98788</td>\n",
       "      <td>9127 Elizabeth Stravenue\\nDanieltown, WI 06482...</td>\n",
       "    </tr>\n",
       "    <tr>\n",
       "      <th>3</th>\n",
       "      <td>63345.24005</td>\n",
       "      <td>7.18824</td>\n",
       "      <td>5.58673</td>\n",
       "      <td>3.26000</td>\n",
       "      <td>34310.24283</td>\n",
       "      <td>1260616.80663</td>\n",
       "      <td>USS Barnett\\nFPO AP 44820</td>\n",
       "    </tr>\n",
       "    <tr>\n",
       "      <th>4</th>\n",
       "      <td>59982.19723</td>\n",
       "      <td>5.04055</td>\n",
       "      <td>7.83939</td>\n",
       "      <td>4.23000</td>\n",
       "      <td>26354.10947</td>\n",
       "      <td>630943.48934</td>\n",
       "      <td>USNS Raymond\\nFPO AE 09386</td>\n",
       "    </tr>\n",
       "    <tr>\n",
       "      <th>5</th>\n",
       "      <td>80175.75416</td>\n",
       "      <td>4.98841</td>\n",
       "      <td>6.10451</td>\n",
       "      <td>4.04000</td>\n",
       "      <td>26748.42842</td>\n",
       "      <td>1068138.07439</td>\n",
       "      <td>06039 Jennifer Islands Apt. 443\\nTracyport, KS...</td>\n",
       "    </tr>\n",
       "    <tr>\n",
       "      <th>6</th>\n",
       "      <td>64698.46343</td>\n",
       "      <td>6.02534</td>\n",
       "      <td>8.14776</td>\n",
       "      <td>3.41000</td>\n",
       "      <td>60828.24909</td>\n",
       "      <td>1502055.81737</td>\n",
       "      <td>4759 Daniel Shoals Suite 442\\nNguyenburgh, CO ...</td>\n",
       "    </tr>\n",
       "    <tr>\n",
       "      <th>7</th>\n",
       "      <td>78394.33928</td>\n",
       "      <td>6.98978</td>\n",
       "      <td>6.62048</td>\n",
       "      <td>2.42000</td>\n",
       "      <td>36516.35897</td>\n",
       "      <td>1573936.56448</td>\n",
       "      <td>972 Joyce Viaduct\\nLake William, TN 17778-6483</td>\n",
       "    </tr>\n",
       "    <tr>\n",
       "      <th>8</th>\n",
       "      <td>59927.66081</td>\n",
       "      <td>5.36213</td>\n",
       "      <td>6.39312</td>\n",
       "      <td>2.30000</td>\n",
       "      <td>29387.39600</td>\n",
       "      <td>798869.53283</td>\n",
       "      <td>USS Gilbert\\nFPO AA 20957</td>\n",
       "    </tr>\n",
       "    <tr>\n",
       "      <th>9</th>\n",
       "      <td>81885.92718</td>\n",
       "      <td>4.42367</td>\n",
       "      <td>8.16769</td>\n",
       "      <td>6.10000</td>\n",
       "      <td>40149.96575</td>\n",
       "      <td>1545154.81264</td>\n",
       "      <td>Unit 9446 Box 0958\\nDPO AE 97025</td>\n",
       "    </tr>\n",
       "  </tbody>\n",
       "</table>\n",
       "</div>"
      ],
      "text/plain": [
       "   Avg. Area Income  Avg. Area House Age  Avg. Area Number of Rooms  \\\n",
       "0       79545.45857              5.68286                    7.00919   \n",
       "1       79248.64245              6.00290                    6.73082   \n",
       "2       61287.06718              5.86589                    8.51273   \n",
       "3       63345.24005              7.18824                    5.58673   \n",
       "4       59982.19723              5.04055                    7.83939   \n",
       "5       80175.75416              4.98841                    6.10451   \n",
       "6       64698.46343              6.02534                    8.14776   \n",
       "7       78394.33928              6.98978                    6.62048   \n",
       "8       59927.66081              5.36213                    6.39312   \n",
       "9       81885.92718              4.42367                    8.16769   \n",
       "\n",
       "   Avg. Area Number of Bedrooms  Area Population         Price  \\\n",
       "0                       4.09000      23086.80050 1059033.55787   \n",
       "1                       3.09000      40173.07217 1505890.91485   \n",
       "2                       5.13000      36882.15940 1058987.98788   \n",
       "3                       3.26000      34310.24283 1260616.80663   \n",
       "4                       4.23000      26354.10947  630943.48934   \n",
       "5                       4.04000      26748.42842 1068138.07439   \n",
       "6                       3.41000      60828.24909 1502055.81737   \n",
       "7                       2.42000      36516.35897 1573936.56448   \n",
       "8                       2.30000      29387.39600  798869.53283   \n",
       "9                       6.10000      40149.96575 1545154.81264   \n",
       "\n",
       "                                             Address  \n",
       "0  208 Michael Ferry Apt. 674\\nLaurabury, NE 3701...  \n",
       "1  188 Johnson Views Suite 079\\nLake Kathleen, CA...  \n",
       "2  9127 Elizabeth Stravenue\\nDanieltown, WI 06482...  \n",
       "3                          USS Barnett\\nFPO AP 44820  \n",
       "4                         USNS Raymond\\nFPO AE 09386  \n",
       "5  06039 Jennifer Islands Apt. 443\\nTracyport, KS...  \n",
       "6  4759 Daniel Shoals Suite 442\\nNguyenburgh, CO ...  \n",
       "7     972 Joyce Viaduct\\nLake William, TN 17778-6483  \n",
       "8                          USS Gilbert\\nFPO AA 20957  \n",
       "9                   Unit 9446 Box 0958\\nDPO AE 97025  "
      ]
     },
     "execution_count": 7,
     "metadata": {},
     "output_type": "execute_result"
    }
   ],
   "source": [
    "df.head(10)"
   ]
  },
  {
   "cell_type": "code",
   "execution_count": 8,
   "id": "ed1962f3",
   "metadata": {
    "scrolled": true
   },
   "outputs": [],
   "source": [
    "df.columns = df.columns.str.replace('.', '_')\n",
    "df.columns = df.columns.str.replace(\" \",\"_\")"
   ]
  },
  {
   "cell_type": "code",
   "execution_count": 9,
   "id": "30c28f2c",
   "metadata": {},
   "outputs": [],
   "source": [
    "df[\"Income\"]=df.Avg__Area_Income\n",
    "df[\"Age\"]=df.Avg__Area_House_Age\n",
    "df[\"Rooms\"]=df.Avg__Area_Number_of_Rooms\n",
    "df[\"Bedrooms\"]=df.Avg__Area_Number_of_Bedrooms\n",
    "df[\"Population\"]=df.Area_Population"
   ]
  },
  {
   "cell_type": "code",
   "execution_count": 10,
   "id": "4779e1fd",
   "metadata": {},
   "outputs": [],
   "source": [
    "df= df.drop(columns={\"Avg__Area_Income\",\"Avg__Area_House_Age\",\"Avg__Area_Number_of_Rooms\",\"Avg__Area_Number_of_Bedrooms\",\"Area_Population\",\"Address\"})"
   ]
  },
  {
   "cell_type": "code",
   "execution_count": 11,
   "id": "898396d4",
   "metadata": {
    "scrolled": true
   },
   "outputs": [
    {
     "data": {
      "text/html": [
       "<div>\n",
       "<style scoped>\n",
       "    .dataframe tbody tr th:only-of-type {\n",
       "        vertical-align: middle;\n",
       "    }\n",
       "\n",
       "    .dataframe tbody tr th {\n",
       "        vertical-align: top;\n",
       "    }\n",
       "\n",
       "    .dataframe thead th {\n",
       "        text-align: right;\n",
       "    }\n",
       "</style>\n",
       "<table border=\"1\" class=\"dataframe\">\n",
       "  <thead>\n",
       "    <tr style=\"text-align: right;\">\n",
       "      <th></th>\n",
       "      <th>Price</th>\n",
       "      <th>Income</th>\n",
       "      <th>Age</th>\n",
       "      <th>Rooms</th>\n",
       "      <th>Bedrooms</th>\n",
       "      <th>Population</th>\n",
       "    </tr>\n",
       "  </thead>\n",
       "  <tbody>\n",
       "    <tr>\n",
       "      <th>0</th>\n",
       "      <td>1059033.55787</td>\n",
       "      <td>79545.45857</td>\n",
       "      <td>5.68286</td>\n",
       "      <td>7.00919</td>\n",
       "      <td>4.09000</td>\n",
       "      <td>23086.80050</td>\n",
       "    </tr>\n",
       "    <tr>\n",
       "      <th>1</th>\n",
       "      <td>1505890.91485</td>\n",
       "      <td>79248.64245</td>\n",
       "      <td>6.00290</td>\n",
       "      <td>6.73082</td>\n",
       "      <td>3.09000</td>\n",
       "      <td>40173.07217</td>\n",
       "    </tr>\n",
       "    <tr>\n",
       "      <th>2</th>\n",
       "      <td>1058987.98788</td>\n",
       "      <td>61287.06718</td>\n",
       "      <td>5.86589</td>\n",
       "      <td>8.51273</td>\n",
       "      <td>5.13000</td>\n",
       "      <td>36882.15940</td>\n",
       "    </tr>\n",
       "    <tr>\n",
       "      <th>3</th>\n",
       "      <td>1260616.80663</td>\n",
       "      <td>63345.24005</td>\n",
       "      <td>7.18824</td>\n",
       "      <td>5.58673</td>\n",
       "      <td>3.26000</td>\n",
       "      <td>34310.24283</td>\n",
       "    </tr>\n",
       "    <tr>\n",
       "      <th>4</th>\n",
       "      <td>630943.48934</td>\n",
       "      <td>59982.19723</td>\n",
       "      <td>5.04055</td>\n",
       "      <td>7.83939</td>\n",
       "      <td>4.23000</td>\n",
       "      <td>26354.10947</td>\n",
       "    </tr>\n",
       "    <tr>\n",
       "      <th>...</th>\n",
       "      <td>...</td>\n",
       "      <td>...</td>\n",
       "      <td>...</td>\n",
       "      <td>...</td>\n",
       "      <td>...</td>\n",
       "      <td>...</td>\n",
       "    </tr>\n",
       "    <tr>\n",
       "      <th>4995</th>\n",
       "      <td>1060193.78588</td>\n",
       "      <td>60567.94414</td>\n",
       "      <td>7.83036</td>\n",
       "      <td>6.13736</td>\n",
       "      <td>3.46000</td>\n",
       "      <td>22837.36103</td>\n",
       "    </tr>\n",
       "    <tr>\n",
       "      <th>4996</th>\n",
       "      <td>1482617.72862</td>\n",
       "      <td>78491.27543</td>\n",
       "      <td>6.99913</td>\n",
       "      <td>6.57676</td>\n",
       "      <td>4.02000</td>\n",
       "      <td>25616.11549</td>\n",
       "    </tr>\n",
       "    <tr>\n",
       "      <th>4997</th>\n",
       "      <td>1030729.58315</td>\n",
       "      <td>63390.68689</td>\n",
       "      <td>7.25059</td>\n",
       "      <td>4.80508</td>\n",
       "      <td>2.13000</td>\n",
       "      <td>33266.14549</td>\n",
       "    </tr>\n",
       "    <tr>\n",
       "      <th>4998</th>\n",
       "      <td>1198656.87241</td>\n",
       "      <td>68001.33124</td>\n",
       "      <td>5.53439</td>\n",
       "      <td>7.13014</td>\n",
       "      <td>5.44000</td>\n",
       "      <td>42625.62016</td>\n",
       "    </tr>\n",
       "    <tr>\n",
       "      <th>4999</th>\n",
       "      <td>1298950.48027</td>\n",
       "      <td>65510.58180</td>\n",
       "      <td>5.99231</td>\n",
       "      <td>6.79234</td>\n",
       "      <td>4.07000</td>\n",
       "      <td>46501.28380</td>\n",
       "    </tr>\n",
       "  </tbody>\n",
       "</table>\n",
       "<p>5000 rows × 6 columns</p>\n",
       "</div>"
      ],
      "text/plain": [
       "             Price      Income     Age   Rooms  Bedrooms  Population\n",
       "0    1059033.55787 79545.45857 5.68286 7.00919   4.09000 23086.80050\n",
       "1    1505890.91485 79248.64245 6.00290 6.73082   3.09000 40173.07217\n",
       "2    1058987.98788 61287.06718 5.86589 8.51273   5.13000 36882.15940\n",
       "3    1260616.80663 63345.24005 7.18824 5.58673   3.26000 34310.24283\n",
       "4     630943.48934 59982.19723 5.04055 7.83939   4.23000 26354.10947\n",
       "...            ...         ...     ...     ...       ...         ...\n",
       "4995 1060193.78588 60567.94414 7.83036 6.13736   3.46000 22837.36103\n",
       "4996 1482617.72862 78491.27543 6.99913 6.57676   4.02000 25616.11549\n",
       "4997 1030729.58315 63390.68689 7.25059 4.80508   2.13000 33266.14549\n",
       "4998 1198656.87241 68001.33124 5.53439 7.13014   5.44000 42625.62016\n",
       "4999 1298950.48027 65510.58180 5.99231 6.79234   4.07000 46501.28380\n",
       "\n",
       "[5000 rows x 6 columns]"
      ]
     },
     "execution_count": 11,
     "metadata": {},
     "output_type": "execute_result"
    }
   ],
   "source": [
    "df"
   ]
  },
  {
   "cell_type": "code",
   "execution_count": 12,
   "id": "cf2183bb",
   "metadata": {},
   "outputs": [
    {
     "data": {
      "text/html": [
       "<div>\n",
       "<style scoped>\n",
       "    .dataframe tbody tr th:only-of-type {\n",
       "        vertical-align: middle;\n",
       "    }\n",
       "\n",
       "    .dataframe tbody tr th {\n",
       "        vertical-align: top;\n",
       "    }\n",
       "\n",
       "    .dataframe thead th {\n",
       "        text-align: right;\n",
       "    }\n",
       "</style>\n",
       "<table border=\"1\" class=\"dataframe\">\n",
       "  <thead>\n",
       "    <tr style=\"text-align: right;\">\n",
       "      <th></th>\n",
       "      <th>Price</th>\n",
       "      <th>Income</th>\n",
       "      <th>Age</th>\n",
       "      <th>Rooms</th>\n",
       "      <th>Bedrooms</th>\n",
       "      <th>Population</th>\n",
       "    </tr>\n",
       "  </thead>\n",
       "  <tbody>\n",
       "    <tr>\n",
       "      <th>count</th>\n",
       "      <td>5000.00000</td>\n",
       "      <td>5000.00000</td>\n",
       "      <td>5000.00000</td>\n",
       "      <td>5000.00000</td>\n",
       "      <td>5000.00000</td>\n",
       "      <td>5000.00000</td>\n",
       "    </tr>\n",
       "    <tr>\n",
       "      <th>mean</th>\n",
       "      <td>1232072.65414</td>\n",
       "      <td>68583.10898</td>\n",
       "      <td>5.97722</td>\n",
       "      <td>6.98779</td>\n",
       "      <td>3.98133</td>\n",
       "      <td>36163.51604</td>\n",
       "    </tr>\n",
       "    <tr>\n",
       "      <th>std</th>\n",
       "      <td>353117.62658</td>\n",
       "      <td>10657.99121</td>\n",
       "      <td>0.99146</td>\n",
       "      <td>1.00583</td>\n",
       "      <td>1.23414</td>\n",
       "      <td>9925.65011</td>\n",
       "    </tr>\n",
       "    <tr>\n",
       "      <th>min</th>\n",
       "      <td>15938.65792</td>\n",
       "      <td>17796.63119</td>\n",
       "      <td>2.64430</td>\n",
       "      <td>3.23619</td>\n",
       "      <td>2.00000</td>\n",
       "      <td>172.61069</td>\n",
       "    </tr>\n",
       "    <tr>\n",
       "      <th>25%</th>\n",
       "      <td>997577.13505</td>\n",
       "      <td>61480.56239</td>\n",
       "      <td>5.32228</td>\n",
       "      <td>6.29925</td>\n",
       "      <td>3.14000</td>\n",
       "      <td>29403.92870</td>\n",
       "    </tr>\n",
       "    <tr>\n",
       "      <th>50%</th>\n",
       "      <td>1232669.37797</td>\n",
       "      <td>68804.28640</td>\n",
       "      <td>5.97043</td>\n",
       "      <td>7.00290</td>\n",
       "      <td>4.05000</td>\n",
       "      <td>36199.40669</td>\n",
       "    </tr>\n",
       "    <tr>\n",
       "      <th>75%</th>\n",
       "      <td>1471210.20421</td>\n",
       "      <td>75783.33867</td>\n",
       "      <td>6.65081</td>\n",
       "      <td>7.66587</td>\n",
       "      <td>4.49000</td>\n",
       "      <td>42861.29077</td>\n",
       "    </tr>\n",
       "    <tr>\n",
       "      <th>max</th>\n",
       "      <td>2469065.59417</td>\n",
       "      <td>107701.74838</td>\n",
       "      <td>9.51909</td>\n",
       "      <td>10.75959</td>\n",
       "      <td>6.50000</td>\n",
       "      <td>69621.71338</td>\n",
       "    </tr>\n",
       "  </tbody>\n",
       "</table>\n",
       "</div>"
      ],
      "text/plain": [
       "              Price       Income        Age      Rooms   Bedrooms  Population\n",
       "count    5000.00000   5000.00000 5000.00000 5000.00000 5000.00000  5000.00000\n",
       "mean  1232072.65414  68583.10898    5.97722    6.98779    3.98133 36163.51604\n",
       "std    353117.62658  10657.99121    0.99146    1.00583    1.23414  9925.65011\n",
       "min     15938.65792  17796.63119    2.64430    3.23619    2.00000   172.61069\n",
       "25%    997577.13505  61480.56239    5.32228    6.29925    3.14000 29403.92870\n",
       "50%   1232669.37797  68804.28640    5.97043    7.00290    4.05000 36199.40669\n",
       "75%   1471210.20421  75783.33867    6.65081    7.66587    4.49000 42861.29077\n",
       "max   2469065.59417 107701.74838    9.51909   10.75959    6.50000 69621.71338"
      ]
     },
     "execution_count": 12,
     "metadata": {},
     "output_type": "execute_result"
    }
   ],
   "source": [
    "df.describe()"
   ]
  },
  {
   "cell_type": "markdown",
   "id": "f2a36600-600d-4f9a-9581-54f7a7aa5c50",
   "metadata": {},
   "source": [
    "# Visulazations"
   ]
  },
  {
   "cell_type": "code",
   "execution_count": 13,
   "id": "3877353d",
   "metadata": {},
   "outputs": [],
   "source": [
    "import missingno as msno"
   ]
  },
  {
   "cell_type": "code",
   "execution_count": 14,
   "id": "3c5f9ea6",
   "metadata": {},
   "outputs": [
    {
     "data": {
      "text/plain": [
       "<AxesSubplot:>"
      ]
     },
     "execution_count": 14,
     "metadata": {},
     "output_type": "execute_result"
    },
    {
     "data": {
      "image/png": "[encoded data removed]",
      "text/plain": [
       "<Figure size 1800x720 with 2 Axes>"
      ]
     },
     "metadata": {
      "needs_background": "light"
     },
     "output_type": "display_data"
    }
   ],
   "source": [
    "msno.matrix(df)"
   ]
  },
  {
   "cell_type": "code",
   "execution_count": 15,
   "id": "8003cead",
   "metadata": {},
   "outputs": [
    {
     "data": {
      "text/plain": [
       "<AxesSubplot:>"
      ]
     },
     "execution_count": 15,
     "metadata": {},
     "output_type": "execute_result"
    },
    {
     "data": {
      "image/png": "[encoded data removed]",
      "text/plain": [
       "<Figure size 720x432 with 2 Axes>"
      ]
     },
     "metadata": {
      "needs_background": "light"
     },
     "output_type": "display_data"
    }
   ],
   "source": [
    "sns.heatmap(df.corr(),annot=True)"
   ]
  },
  {
   "cell_type": "markdown",
   "id": "d8d33e28-a8ec-4913-832f-ade23d780a55",
   "metadata": {},
   "source": [
    "# Statistical Analysis"
   ]
  },
  {
   "cell_type": "code",
   "execution_count": 16,
   "id": "72bd0957",
   "metadata": {},
   "outputs": [],
   "source": [
    "def check_dist(df,var):\n",
    "    plt.subplot(1,2,1)\n",
    "    sns.histplot(x=var,data=df)\n",
    "    plt.subplot(1,2,2)\n",
    "    stats.probplot(df[var],dist = \"norm\",plot=plt) \n",
    "    plt.show()"
   ]
  },
  {
   "cell_type": "code",
   "execution_count": 17,
   "id": "d8afb8bf",
   "metadata": {},
   "outputs": [
    {
     "data": {
      "image/png": "[encoded data removed]",
      "text/plain": [
       "<Figure size 720x432 with 2 Axes>"
      ]
     },
     "metadata": {
      "needs_background": "light"
     },
     "output_type": "display_data"
    },
    {
     "data": {
      "image/png": "[encoded data removed]",
      "text/plain": [
       "<Figure size 720x432 with 2 Axes>"
      ]
     },
     "metadata": {
      "needs_background": "light"
     },
     "output_type": "display_data"
    },
    {
     "data": {
      "image/png": "[encoded data removed]",
      "text/plain": [
       "<Figure size 720x432 with 2 Axes>"
      ]
     },
     "metadata": {
      "needs_background": "light"
     },
     "output_type": "display_data"
    },
    {
     "data": {
      "image/png": "[encoded data removed]",
      "text/plain": [
       "<Figure size 720x432 with 2 Axes>"
      ]
     },
     "metadata": {
      "needs_background": "light"
     },
     "output_type": "display_data"
    },
    {
     "data": {
      "image/png": "[encoded data removed]",
      "text/plain": [
       "<Figure size 720x432 with 2 Axes>"
      ]
     },
     "metadata": {
      "needs_background": "light"
     },
     "output_type": "display_data"
    }
   ],
   "source": [
    "for col in df.drop([\"Price\"],axis=1).columns:\n",
    "    check_dist(df,col)"
   ]
  },
  {
   "cell_type": "markdown",
   "id": "22f9cff7-63d2-485f-b8a0-3a40887c46e2",
   "metadata": {},
   "source": [
    "# Determine Dependent and Independent Variables"
   ]
  },
  {
   "cell_type": "code",
   "execution_count": 18,
   "id": "649a800a",
   "metadata": {},
   "outputs": [],
   "source": [
    "y=df[\"Price\"]\n",
    "X=df.drop([\"Price\"],axis=1)"
   ]
  },
  {
   "cell_type": "code",
   "execution_count": 19,
   "id": "79362060",
   "metadata": {},
   "outputs": [
    {
     "name": "stdout",
     "output_type": "stream",
     "text": [
      "          Income     Age   Rooms  Bedrooms  Population\n",
      "0    79545.45857 5.68286 7.00919   4.09000 23086.80050\n",
      "1    79248.64245 6.00290 6.73082   3.09000 40173.07217\n",
      "2    61287.06718 5.86589 8.51273   5.13000 36882.15940\n",
      "3    63345.24005 7.18824 5.58673   3.26000 34310.24283\n",
      "4    59982.19723 5.04055 7.83939   4.23000 26354.10947\n",
      "...          ...     ...     ...       ...         ...\n",
      "4995 60567.94414 7.83036 6.13736   3.46000 22837.36103\n",
      "4996 78491.27543 6.99913 6.57676   4.02000 25616.11549\n",
      "4997 63390.68689 7.25059 4.80508   2.13000 33266.14549\n",
      "4998 68001.33124 5.53439 7.13014   5.44000 42625.62016\n",
      "4999 65510.58180 5.99231 6.79234   4.07000 46501.28380\n",
      "\n",
      "[5000 rows x 5 columns] 0      1059033.55787\n",
      "1      1505890.91485\n",
      "2      1058987.98788\n",
      "3      1260616.80663\n",
      "4       630943.48934\n",
      "            ...     \n",
      "4995   1060193.78588\n",
      "4996   1482617.72862\n",
      "4997   1030729.58315\n",
      "4998   1198656.87241\n",
      "4999   1298950.48027\n",
      "Name: Price, Length: 5000, dtype: float64\n"
     ]
    }
   ],
   "source": [
    "print(X,y)"
   ]
  },
  {
   "cell_type": "markdown",
   "id": "0fa85e97",
   "metadata": {},
   "source": [
    "# LINEAR REGRESSION"
   ]
  },
  {
   "cell_type": "code",
   "execution_count": 190,
   "id": "dd7b2ff4",
   "metadata": {},
   "outputs": [],
   "source": [
    "from sklearn.preprocessing import StandardScaler"
   ]
  },
  {
   "cell_type": "code",
   "execution_count": 193,
   "id": "420b66f6",
   "metadata": {},
   "outputs": [],
   "source": [
    "scaler = StandardScaler()"
   ]
  },
  {
   "cell_type": "code",
   "execution_count": 194,
   "id": "ea9b81eb",
   "metadata": {},
   "outputs": [
    {
     "data": {
      "text/plain": [
       "StandardScaler()"
      ]
     },
     "execution_count": 194,
     "metadata": {},
     "output_type": "execute_result"
    }
   ],
   "source": [
    "scaler.fit(X)"
   ]
  },
  {
   "cell_type": "code",
   "execution_count": 195,
   "id": "312692de",
   "metadata": {},
   "outputs": [
    {
     "data": {
      "text/plain": [
       "array([[ 1.02865969, -0.29692705,  0.02127433,  0.08806222, -1.31759867],\n",
       "       [ 1.00080775,  0.02590164, -0.25550611, -0.72230146,  0.40399945],\n",
       "       [-0.68462916, -0.11230283,  1.5162435 ,  0.93084045,  0.07240989],\n",
       "       ...,\n",
       "       [-0.48723454,  1.28447022, -2.17026949, -1.50025059, -0.29193658],\n",
       "       [-0.05459152, -0.44669439,  0.14154061,  1.18205319,  0.65111608],\n",
       "       [-0.28831272,  0.01521477, -0.19434166,  0.07185495,  1.04162464]])"
      ]
     },
     "execution_count": 195,
     "metadata": {},
     "output_type": "execute_result"
    }
   ],
   "source": [
    "X = scaler.transform(X)\n",
    "X"
   ]
  },
  {
   "cell_type": "code",
   "execution_count": 196,
   "id": "02b55fb7",
   "metadata": {},
   "outputs": [],
   "source": [
    "Xl=pd.DataFrame(X,columns=[\"0\",\"1\",\"2\",\"3\",\"4\"])"
   ]
  },
  {
   "cell_type": "code",
   "execution_count": 197,
   "id": "9d15196d",
   "metadata": {},
   "outputs": [],
   "source": [
    "Xl[\"Total\"]=Xl[\"0\"]+Xl[\"1\"]+Xl[\"2\"]+Xl[\"3\"]+Xl[\"4\"]"
   ]
  },
  {
   "cell_type": "code",
   "execution_count": 198,
   "id": "bc151d67",
   "metadata": {},
   "outputs": [],
   "source": [
    "Xl=Xl.drop([\"0\",\"1\",\"2\",\"3\",\"4\"],axis=1)"
   ]
  },
  {
   "cell_type": "code",
   "execution_count": 199,
   "id": "5c257c16",
   "metadata": {},
   "outputs": [],
   "source": [
    "from sklearn.model_selection import train_test_split"
   ]
  },
  {
   "cell_type": "code",
   "execution_count": 200,
   "id": "bc615ff4",
   "metadata": {},
   "outputs": [],
   "source": [
    "X_train, X_test, y_train, y_test = train_test_split(Xl, y, test_size=0.3, random_state=101)"
   ]
  },
  {
   "cell_type": "code",
   "execution_count": 201,
   "id": "92c372f0",
   "metadata": {},
   "outputs": [
    {
     "data": {
      "text/html": [
       "<div>\n",
       "<style scoped>\n",
       "    .dataframe tbody tr th:only-of-type {\n",
       "        vertical-align: middle;\n",
       "    }\n",
       "\n",
       "    .dataframe tbody tr th {\n",
       "        vertical-align: top;\n",
       "    }\n",
       "\n",
       "    .dataframe thead th {\n",
       "        text-align: right;\n",
       "    }\n",
       "</style>\n",
       "<table border=\"1\" class=\"dataframe\">\n",
       "  <thead>\n",
       "    <tr style=\"text-align: right;\">\n",
       "      <th></th>\n",
       "      <th>Total</th>\n",
       "    </tr>\n",
       "  </thead>\n",
       "  <tbody>\n",
       "    <tr>\n",
       "      <th>2654</th>\n",
       "      <td>1.71319</td>\n",
       "    </tr>\n",
       "    <tr>\n",
       "      <th>2468</th>\n",
       "      <td>-2.27644</td>\n",
       "    </tr>\n",
       "    <tr>\n",
       "      <th>290</th>\n",
       "      <td>4.05730</td>\n",
       "    </tr>\n",
       "    <tr>\n",
       "      <th>1463</th>\n",
       "      <td>-1.80837</td>\n",
       "    </tr>\n",
       "    <tr>\n",
       "      <th>4508</th>\n",
       "      <td>-1.63346</td>\n",
       "    </tr>\n",
       "    <tr>\n",
       "      <th>...</th>\n",
       "      <td>...</td>\n",
       "    </tr>\n",
       "    <tr>\n",
       "      <th>4171</th>\n",
       "      <td>-3.33180</td>\n",
       "    </tr>\n",
       "    <tr>\n",
       "      <th>599</th>\n",
       "      <td>1.16240</td>\n",
       "    </tr>\n",
       "    <tr>\n",
       "      <th>1361</th>\n",
       "      <td>-2.23573</td>\n",
       "    </tr>\n",
       "    <tr>\n",
       "      <th>1547</th>\n",
       "      <td>-1.88053</td>\n",
       "    </tr>\n",
       "    <tr>\n",
       "      <th>4959</th>\n",
       "      <td>6.03249</td>\n",
       "    </tr>\n",
       "  </tbody>\n",
       "</table>\n",
       "<p>3500 rows × 1 columns</p>\n",
       "</div>"
      ],
      "text/plain": [
       "        Total\n",
       "2654  1.71319\n",
       "2468 -2.27644\n",
       "290   4.05730\n",
       "1463 -1.80837\n",
       "4508 -1.63346\n",
       "...       ...\n",
       "4171 -3.33180\n",
       "599   1.16240\n",
       "1361 -2.23573\n",
       "1547 -1.88053\n",
       "4959  6.03249\n",
       "\n",
       "[3500 rows x 1 columns]"
      ]
     },
     "execution_count": 201,
     "metadata": {},
     "output_type": "execute_result"
    }
   ],
   "source": [
    "X_train"
   ]
  },
  {
   "cell_type": "code",
   "execution_count": 202,
   "id": "ceee653c",
   "metadata": {},
   "outputs": [
    {
     "data": {
      "text/html": [
       "<div>\n",
       "<style scoped>\n",
       "    .dataframe tbody tr th:only-of-type {\n",
       "        vertical-align: middle;\n",
       "    }\n",
       "\n",
       "    .dataframe tbody tr th {\n",
       "        vertical-align: top;\n",
       "    }\n",
       "\n",
       "    .dataframe thead th {\n",
       "        text-align: right;\n",
       "    }\n",
       "</style>\n",
       "<table border=\"1\" class=\"dataframe\">\n",
       "  <thead>\n",
       "    <tr style=\"text-align: right;\">\n",
       "      <th></th>\n",
       "      <th>Total</th>\n",
       "    </tr>\n",
       "  </thead>\n",
       "  <tbody>\n",
       "    <tr>\n",
       "      <th>1718</th>\n",
       "      <td>0.70828</td>\n",
       "    </tr>\n",
       "    <tr>\n",
       "      <th>2511</th>\n",
       "      <td>-0.43275</td>\n",
       "    </tr>\n",
       "    <tr>\n",
       "      <th>345</th>\n",
       "      <td>2.79738</td>\n",
       "    </tr>\n",
       "    <tr>\n",
       "      <th>2521</th>\n",
       "      <td>-1.24166</td>\n",
       "    </tr>\n",
       "    <tr>\n",
       "      <th>54</th>\n",
       "      <td>0.31850</td>\n",
       "    </tr>\n",
       "    <tr>\n",
       "      <th>...</th>\n",
       "      <td>...</td>\n",
       "    </tr>\n",
       "    <tr>\n",
       "      <th>3412</th>\n",
       "      <td>-2.22654</td>\n",
       "    </tr>\n",
       "    <tr>\n",
       "      <th>4020</th>\n",
       "      <td>-0.57692</td>\n",
       "    </tr>\n",
       "    <tr>\n",
       "      <th>4635</th>\n",
       "      <td>0.07276</td>\n",
       "    </tr>\n",
       "    <tr>\n",
       "      <th>1700</th>\n",
       "      <td>-5.13290</td>\n",
       "    </tr>\n",
       "    <tr>\n",
       "      <th>790</th>\n",
       "      <td>2.82130</td>\n",
       "    </tr>\n",
       "  </tbody>\n",
       "</table>\n",
       "<p>1500 rows × 1 columns</p>\n",
       "</div>"
      ],
      "text/plain": [
       "        Total\n",
       "1718  0.70828\n",
       "2511 -0.43275\n",
       "345   2.79738\n",
       "2521 -1.24166\n",
       "54    0.31850\n",
       "...       ...\n",
       "3412 -2.22654\n",
       "4020 -0.57692\n",
       "4635  0.07276\n",
       "1700 -5.13290\n",
       "790   2.82130\n",
       "\n",
       "[1500 rows x 1 columns]"
      ]
     },
     "execution_count": 202,
     "metadata": {},
     "output_type": "execute_result"
    }
   ],
   "source": [
    "X_test"
   ]
  },
  {
   "cell_type": "code",
   "execution_count": 203,
   "id": "0e527978",
   "metadata": {},
   "outputs": [
    {
     "name": "stdout",
     "output_type": "stream",
     "text": [
      "Model testing performance\n",
      "-------------------------\n",
      "R2_score \t: 0.690524933658665\n",
      "MAE \t\t: 158295.414337539\n",
      "MSE \t\t: 38550330214.6668\n",
      "RMSE \t\t: 196342.38007793122\n"
     ]
    }
   ],
   "source": [
    "from sklearn.linear_model import LinearRegression\n",
    "lm = LinearRegression()\n",
    "lm.fit(X_train,y_train)\n",
    "y_pred = lm.predict(X_test)\n",
    "y_train_pred = lm.predict(X_train)\n",
    "eval_metrics(y_train,y_train_pred)"
   ]
  },
  {
   "cell_type": "code",
   "execution_count": 204,
   "id": "5e488e7e",
   "metadata": {},
   "outputs": [
    {
     "name": "stdout",
     "output_type": "stream",
     "text": [
      "Model testing performance\n",
      "-------------------------\n",
      "R2_score \t: 0.6959344380502603\n",
      "MAE \t\t: 155674.96396358148\n",
      "MSE \t\t: 37942480019.09532\n",
      "RMSE \t\t: 194788.29538526005\n"
     ]
    }
   ],
   "source": [
    "eval_metrics(y_test, y_pred) "
   ]
  },
  {
   "cell_type": "code",
   "execution_count": 207,
   "id": "2631f68e",
   "metadata": {},
   "outputs": [],
   "source": [
    "lm_scores = {\"slm_train\": {\"rmse\": np.sqrt(mean_squared_error(y_train, y_train_pred)),\n",
    "                         \"mae\" : mean_absolute_error(y_train, y_train_pred),\n",
    "                         \"mse\": mean_squared_error(y_train,y_train_pred),\n",
    "                         \"R2\" : r2_score(y_train, y_train_pred)},\n",
    "            \"slm_test\": {\"rmse\": np.sqrt(mean_squared_error(y_test, y_pred)),\n",
    "                         \"mae\" : mean_absolute_error(y_test, y_pred),\n",
    "                         \"mse\": mean_squared_error(y_test,y_pred),\n",
    "                         \"R2\" : r2_score(y_test, y_pred)}}\n",
    "ls = pd.DataFrame(lm_scores)"
   ]
  },
  {
   "cell_type": "markdown",
   "id": "1d016b2a",
   "metadata": {},
   "source": [
    "# POLİNOMİAL REGRESSION MODEL"
   ]
  },
  {
   "cell_type": "markdown",
   "id": "cdfa8a07-1bde-49aa-b32c-0542e1b228c5",
   "metadata": {},
   "source": [
    "# Scaling the Data"
   ]
  },
  {
   "cell_type": "code",
   "execution_count": 20,
   "id": "2f3052db",
   "metadata": {},
   "outputs": [],
   "source": [
    "from sklearn.preprocessing import PolynomialFeatures\n",
    "polinomial_converter = PolynomialFeatures(degree = 5, include_bias =False) \n",
    "poly_features = polinomial_converter.fit_transform(X)"
   ]
  },
  {
   "cell_type": "code",
   "execution_count": 21,
   "id": "57d188a5",
   "metadata": {},
   "outputs": [
    {
     "data": {
      "text/plain": [
       "array([[7.95454586e+04, 5.68286132e+00, 7.00918814e+00, ...,\n",
       "        2.05843836e+14, 1.16192557e+18, 6.55871487e+21],\n",
       "       [7.92486425e+04, 6.00289981e+00, 6.73082102e+00, ...,\n",
       "        6.19044820e+14, 8.04819813e+18, 1.04634577e+23],\n",
       "       [6.12870672e+04, 5.86588984e+00, 8.51272743e+00, ...,\n",
       "        1.32033383e+15, 9.49254636e+18, 6.82467072e+22],\n",
       "       ...,\n",
       "       [6.33906869e+04, 7.25059061e+00, 4.80508098e+00, ...,\n",
       "        1.67019298e+14, 2.60849215e+18, 4.07391922e+22],\n",
       "       [6.80013312e+04, 5.53438842e+00, 7.13014386e+00, ...,\n",
       "        2.29197529e+15, 1.79589831e+19, 1.40719263e+23],\n",
       "       [6.55105818e+04, 5.99230531e+00, 6.79233610e+00, ...,\n",
       "        1.66564961e+15, 1.90306745e+19, 2.17432628e+23]])"
      ]
     },
     "execution_count": 21,
     "metadata": {},
     "output_type": "execute_result"
    }
   ],
   "source": [
    "poly_features"
   ]
  },
  {
   "cell_type": "code",
   "execution_count": 24,
   "id": "f3aa79ac",
   "metadata": {},
   "outputs": [],
   "source": [
    "from sklearn.preprocessing import StandardScaler"
   ]
  },
  {
   "cell_type": "code",
   "execution_count": 27,
   "id": "6b4d6005",
   "metadata": {},
   "outputs": [
    {
     "data": {
      "text/plain": [
       "(5000, 251)"
      ]
     },
     "execution_count": 27,
     "metadata": {},
     "output_type": "execute_result"
    }
   ],
   "source": [
    "poly_features.shape"
   ]
  },
  {
   "cell_type": "code",
   "execution_count": 26,
   "id": "21d6dd62",
   "metadata": {},
   "outputs": [],
   "source": [
    "scaler = StandardScaler()"
   ]
  },
  {
   "cell_type": "code",
   "execution_count": 28,
   "id": "dcb10c5e",
   "metadata": {},
   "outputs": [
    {
     "data": {
      "text/plain": [
       "array([[7.95454586e+04, 5.68286132e+00, 7.00918814e+00, ...,\n",
       "        2.05843836e+14, 1.16192557e+18, 6.55871487e+21],\n",
       "       [7.92486425e+04, 6.00289981e+00, 6.73082102e+00, ...,\n",
       "        6.19044820e+14, 8.04819813e+18, 1.04634577e+23],\n",
       "       [6.12870672e+04, 5.86588984e+00, 8.51272743e+00, ...,\n",
       "        1.32033383e+15, 9.49254636e+18, 6.82467072e+22],\n",
       "       ...,\n",
       "       [6.33906869e+04, 7.25059061e+00, 4.80508098e+00, ...,\n",
       "        1.67019298e+14, 2.60849215e+18, 4.07391922e+22],\n",
       "       [6.80013312e+04, 5.53438842e+00, 7.13014386e+00, ...,\n",
       "        2.29197529e+15, 1.79589831e+19, 1.40719263e+23],\n",
       "       [6.55105818e+04, 5.99230531e+00, 6.79233610e+00, ...,\n",
       "        1.66564961e+15, 1.90306745e+19, 2.17432628e+23]])"
      ]
     },
     "execution_count": 28,
     "metadata": {},
     "output_type": "execute_result"
    }
   ],
   "source": [
    "scaler.fit(poly_features)\n",
    "poly_features"
   ]
  },
  {
   "cell_type": "code",
   "execution_count": 29,
   "id": "4be6c731",
   "metadata": {},
   "outputs": [
    {
     "data": {
      "text/plain": [
       "array([[ 1.02865969, -0.29692705,  0.02127433, ..., -0.75146709,\n",
       "        -0.78819003, -0.68851944],\n",
       "       [ 1.00080775,  0.02590164, -0.25550611, ..., -0.35782596,\n",
       "        -0.17001256, -0.06226607],\n",
       "       [-0.68462916, -0.11230283,  1.5162435 , ...,  0.31026586,\n",
       "        -0.04035409, -0.29461709],\n",
       "       ...,\n",
       "       [-0.48723454,  1.28447022, -2.17026949, ..., -0.78845378,\n",
       "        -0.65833243, -0.47026351],\n",
       "       [-0.05459152, -0.44669439,  0.14154061, ...,  1.23591234,\n",
       "         0.71967399,  0.16814899],\n",
       "       [-0.28831272,  0.01521477, -0.19434166, ...,  0.63923529,\n",
       "         0.81587923,  0.65799432]])"
      ]
     },
     "execution_count": 29,
     "metadata": {},
     "output_type": "execute_result"
    }
   ],
   "source": [
    "poly_features = scaler.transform(poly_features)\n",
    "poly_features"
   ]
  },
  {
   "cell_type": "markdown",
   "id": "66751c51-7a21-4310-84ae-a7f1512370a7",
   "metadata": {},
   "source": [
    "# Train - Test Split"
   ]
  },
  {
   "cell_type": "code",
   "execution_count": 30,
   "id": "8776eea0",
   "metadata": {},
   "outputs": [],
   "source": [
    "from sklearn.model_selection import train_test_split"
   ]
  },
  {
   "cell_type": "code",
   "execution_count": 31,
   "id": "a1035064",
   "metadata": {},
   "outputs": [],
   "source": [
    "X_train, X_test, y_train, y_test = train_test_split(poly_features, y, test_size=0.3, random_state=101)"
   ]
  },
  {
   "cell_type": "code",
   "execution_count": 32,
   "id": "ad1ef98d",
   "metadata": {},
   "outputs": [
    {
     "data": {
      "text/plain": [
       "array([[ 1.69915465,  0.28514338, -0.30975079, ..., -0.17975358,\n",
       "         0.06150084,  0.16436144],\n",
       "       [-0.81788705, -0.10782412, -1.08250987, ..., -0.40406232,\n",
       "        -0.49774254, -0.51396973],\n",
       "       [ 0.5432176 ,  0.59025915,  1.18989741, ...,  0.60554534,\n",
       "        -0.10146906, -0.42627708],\n",
       "       ...,\n",
       "       [-1.21622414, -2.26082045, -0.11881994, ...,  0.3236768 ,\n",
       "         2.39830931,  5.70009834],\n",
       "       [-0.51972297, -0.04232647, -1.06821454, ..., -0.38631608,\n",
       "        -0.47036548, -0.49073436],\n",
       "       [ 0.60952689,  1.68209486,  1.44465262, ...,  2.21418818,\n",
       "         2.97088895,  2.83310063]])"
      ]
     },
     "execution_count": 32,
     "metadata": {},
     "output_type": "execute_result"
    }
   ],
   "source": [
    "X_train"
   ]
  },
  {
   "cell_type": "code",
   "execution_count": 33,
   "id": "2010cd14",
   "metadata": {},
   "outputs": [
    {
     "data": {
      "text/plain": [
       "array([[-0.16966556, -0.26234629,  0.80282069, ..., -0.06232919,\n",
       "        -0.18212701, -0.30009415],\n",
       "       [-0.60041423, -1.0606313 ,  0.43738986, ..., -0.29914705,\n",
       "        -0.63700913, -0.65441083],\n",
       "       [ 0.47480377,  0.79651541,  1.34160257, ..., -0.09360382,\n",
       "         0.14714874,  0.22503217],\n",
       "       ...,\n",
       "       [-0.81838584,  2.13816242, -0.72163424, ..., -0.53300136,\n",
       "        -0.04635757,  0.57324269],\n",
       "       [-0.89640643,  0.1819757 , -1.67737759, ..., -0.88987189,\n",
       "        -0.83764096, -0.69103017],\n",
       "       [-0.38250422,  0.41093355,  0.56042473, ...,  1.56509315,\n",
       "         0.72710265,  0.05764365]])"
      ]
     },
     "execution_count": 33,
     "metadata": {},
     "output_type": "execute_result"
    }
   ],
   "source": [
    "X_test"
   ]
  },
  {
   "cell_type": "code",
   "execution_count": 34,
   "id": "93236225",
   "metadata": {},
   "outputs": [
    {
     "data": {
      "text/html": [
       "<div>\n",
       "<style scoped>\n",
       "    .dataframe tbody tr th:only-of-type {\n",
       "        vertical-align: middle;\n",
       "    }\n",
       "\n",
       "    .dataframe tbody tr th {\n",
       "        vertical-align: top;\n",
       "    }\n",
       "\n",
       "    .dataframe thead th {\n",
       "        text-align: right;\n",
       "    }\n",
       "</style>\n",
       "<table border=\"1\" class=\"dataframe\">\n",
       "  <thead>\n",
       "    <tr style=\"text-align: right;\">\n",
       "      <th></th>\n",
       "      <th>0</th>\n",
       "      <th>1</th>\n",
       "      <th>2</th>\n",
       "      <th>3</th>\n",
       "      <th>4</th>\n",
       "      <th>5</th>\n",
       "      <th>6</th>\n",
       "      <th>7</th>\n",
       "      <th>8</th>\n",
       "      <th>9</th>\n",
       "      <th>...</th>\n",
       "      <th>241</th>\n",
       "      <th>242</th>\n",
       "      <th>243</th>\n",
       "      <th>244</th>\n",
       "      <th>245</th>\n",
       "      <th>246</th>\n",
       "      <th>247</th>\n",
       "      <th>248</th>\n",
       "      <th>249</th>\n",
       "      <th>250</th>\n",
       "    </tr>\n",
       "  </thead>\n",
       "  <tbody>\n",
       "    <tr>\n",
       "      <th>mean</th>\n",
       "      <td>-0.00000</td>\n",
       "      <td>-0.00000</td>\n",
       "      <td>-0.00000</td>\n",
       "      <td>-0.00000</td>\n",
       "      <td>-0.00000</td>\n",
       "      <td>-0.00000</td>\n",
       "      <td>-0.00000</td>\n",
       "      <td>-0.00000</td>\n",
       "      <td>-0.00000</td>\n",
       "      <td>-0.00000</td>\n",
       "      <td>...</td>\n",
       "      <td>-0.00000</td>\n",
       "      <td>-0.00000</td>\n",
       "      <td>-0.00000</td>\n",
       "      <td>0.00000</td>\n",
       "      <td>-0.00000</td>\n",
       "      <td>-0.00000</td>\n",
       "      <td>-0.00000</td>\n",
       "      <td>-0.00000</td>\n",
       "      <td>-0.00000</td>\n",
       "      <td>0.00000</td>\n",
       "    </tr>\n",
       "    <tr>\n",
       "      <th>std</th>\n",
       "      <td>1.00000</td>\n",
       "      <td>1.00000</td>\n",
       "      <td>1.00000</td>\n",
       "      <td>1.00000</td>\n",
       "      <td>1.00000</td>\n",
       "      <td>1.00000</td>\n",
       "      <td>1.00000</td>\n",
       "      <td>1.00000</td>\n",
       "      <td>1.00000</td>\n",
       "      <td>1.00000</td>\n",
       "      <td>...</td>\n",
       "      <td>1.00000</td>\n",
       "      <td>1.00000</td>\n",
       "      <td>1.00000</td>\n",
       "      <td>1.00000</td>\n",
       "      <td>1.00000</td>\n",
       "      <td>1.00000</td>\n",
       "      <td>1.00000</td>\n",
       "      <td>1.00000</td>\n",
       "      <td>1.00000</td>\n",
       "      <td>1.00000</td>\n",
       "    </tr>\n",
       "  </tbody>\n",
       "</table>\n",
       "<p>2 rows × 251 columns</p>\n",
       "</div>"
      ],
      "text/plain": [
       "          0        1        2        3        4        5        6        7    \\\n",
       "mean -0.00000 -0.00000 -0.00000 -0.00000 -0.00000 -0.00000 -0.00000 -0.00000   \n",
       "std   1.00000  1.00000  1.00000  1.00000  1.00000  1.00000  1.00000  1.00000   \n",
       "\n",
       "          8        9    ...      241      242      243     244      245  \\\n",
       "mean -0.00000 -0.00000  ... -0.00000 -0.00000 -0.00000 0.00000 -0.00000   \n",
       "std   1.00000  1.00000  ...  1.00000  1.00000  1.00000 1.00000  1.00000   \n",
       "\n",
       "          246      247      248      249     250  \n",
       "mean -0.00000 -0.00000 -0.00000 -0.00000 0.00000  \n",
       "std   1.00000  1.00000  1.00000  1.00000 1.00000  \n",
       "\n",
       "[2 rows x 251 columns]"
      ]
     },
     "execution_count": 34,
     "metadata": {},
     "output_type": "execute_result"
    }
   ],
   "source": [
    "pd.DataFrame(X_train).agg([\"mean\",\"std\"]).round()"
   ]
  },
  {
   "cell_type": "code",
   "execution_count": 35,
   "id": "e8c8f12a",
   "metadata": {},
   "outputs": [
    {
     "data": {
      "text/html": [
       "<div>\n",
       "<style scoped>\n",
       "    .dataframe tbody tr th:only-of-type {\n",
       "        vertical-align: middle;\n",
       "    }\n",
       "\n",
       "    .dataframe tbody tr th {\n",
       "        vertical-align: top;\n",
       "    }\n",
       "\n",
       "    .dataframe thead th {\n",
       "        text-align: right;\n",
       "    }\n",
       "</style>\n",
       "<table border=\"1\" class=\"dataframe\">\n",
       "  <thead>\n",
       "    <tr style=\"text-align: right;\">\n",
       "      <th></th>\n",
       "      <th>0</th>\n",
       "      <th>1</th>\n",
       "      <th>2</th>\n",
       "      <th>3</th>\n",
       "      <th>4</th>\n",
       "      <th>5</th>\n",
       "      <th>6</th>\n",
       "      <th>7</th>\n",
       "      <th>8</th>\n",
       "      <th>9</th>\n",
       "      <th>...</th>\n",
       "      <th>241</th>\n",
       "      <th>242</th>\n",
       "      <th>243</th>\n",
       "      <th>244</th>\n",
       "      <th>245</th>\n",
       "      <th>246</th>\n",
       "      <th>247</th>\n",
       "      <th>248</th>\n",
       "      <th>249</th>\n",
       "      <th>250</th>\n",
       "    </tr>\n",
       "  </thead>\n",
       "  <tbody>\n",
       "    <tr>\n",
       "      <th>mean</th>\n",
       "      <td>0.00000</td>\n",
       "      <td>0.00000</td>\n",
       "      <td>0.00000</td>\n",
       "      <td>0.00000</td>\n",
       "      <td>0.00000</td>\n",
       "      <td>0.00000</td>\n",
       "      <td>0.00000</td>\n",
       "      <td>0.00000</td>\n",
       "      <td>0.00000</td>\n",
       "      <td>0.00000</td>\n",
       "      <td>...</td>\n",
       "      <td>0.00000</td>\n",
       "      <td>0.00000</td>\n",
       "      <td>0.00000</td>\n",
       "      <td>-0.00000</td>\n",
       "      <td>0.00000</td>\n",
       "      <td>0.00000</td>\n",
       "      <td>0.00000</td>\n",
       "      <td>0.00000</td>\n",
       "      <td>0.00000</td>\n",
       "      <td>-0.00000</td>\n",
       "    </tr>\n",
       "    <tr>\n",
       "      <th>std</th>\n",
       "      <td>1.00000</td>\n",
       "      <td>1.00000</td>\n",
       "      <td>1.00000</td>\n",
       "      <td>1.00000</td>\n",
       "      <td>1.00000</td>\n",
       "      <td>1.00000</td>\n",
       "      <td>1.00000</td>\n",
       "      <td>1.00000</td>\n",
       "      <td>1.00000</td>\n",
       "      <td>1.00000</td>\n",
       "      <td>...</td>\n",
       "      <td>1.00000</td>\n",
       "      <td>1.00000</td>\n",
       "      <td>1.00000</td>\n",
       "      <td>1.00000</td>\n",
       "      <td>1.00000</td>\n",
       "      <td>1.00000</td>\n",
       "      <td>1.00000</td>\n",
       "      <td>1.00000</td>\n",
       "      <td>1.00000</td>\n",
       "      <td>1.00000</td>\n",
       "    </tr>\n",
       "  </tbody>\n",
       "</table>\n",
       "<p>2 rows × 251 columns</p>\n",
       "</div>"
      ],
      "text/plain": [
       "         0       1       2       3       4       5       6       7       8    \\\n",
       "mean 0.00000 0.00000 0.00000 0.00000 0.00000 0.00000 0.00000 0.00000 0.00000   \n",
       "std  1.00000 1.00000 1.00000 1.00000 1.00000 1.00000 1.00000 1.00000 1.00000   \n",
       "\n",
       "         9    ...     241     242     243      244     245     246     247  \\\n",
       "mean 0.00000  ... 0.00000 0.00000 0.00000 -0.00000 0.00000 0.00000 0.00000   \n",
       "std  1.00000  ... 1.00000 1.00000 1.00000  1.00000 1.00000 1.00000 1.00000   \n",
       "\n",
       "         248     249      250  \n",
       "mean 0.00000 0.00000 -0.00000  \n",
       "std  1.00000 1.00000  1.00000  \n",
       "\n",
       "[2 rows x 251 columns]"
      ]
     },
     "execution_count": 35,
     "metadata": {},
     "output_type": "execute_result"
    }
   ],
   "source": [
    "pd.DataFrame(X_test).agg([\"mean\",\"std\"]).round()"
   ]
  },
  {
   "cell_type": "markdown",
   "id": "09b69349-84e3-4306-8832-37fcf0d2b037",
   "metadata": {},
   "source": [
    "## Model Fitting and Compare Actual and Predicted Labels"
   ]
  },
  {
   "cell_type": "code",
   "execution_count": 36,
   "id": "b975e39b",
   "metadata": {},
   "outputs": [],
   "source": [
    "from sklearn.linear_model import LinearRegression\n",
    "lm = LinearRegression()"
   ]
  },
  {
   "cell_type": "code",
   "execution_count": 37,
   "id": "9a58446d",
   "metadata": {},
   "outputs": [
    {
     "data": {
      "text/plain": [
       "LinearRegression()"
      ]
     },
     "execution_count": 37,
     "metadata": {},
     "output_type": "execute_result"
    }
   ],
   "source": [
    "lm.fit(X_train,y_train)"
   ]
  },
  {
   "cell_type": "code",
   "execution_count": 38,
   "id": "6e9a9cd8",
   "metadata": {},
   "outputs": [],
   "source": [
    "y_pred = lm.predict(X_test)"
   ]
  },
  {
   "cell_type": "code",
   "execution_count": 39,
   "id": "f657ffe5",
   "metadata": {},
   "outputs": [
    {
     "data": {
      "text/plain": [
       "array([1267468.19016029,  851155.93685426, 1763011.63742932, ...,\n",
       "       1437687.85467642,  643922.21930261, 1358235.47428799])"
      ]
     },
     "execution_count": 39,
     "metadata": {},
     "output_type": "execute_result"
    }
   ],
   "source": [
    "y_pred"
   ]
  },
  {
   "cell_type": "markdown",
   "id": "2339687a-20f2-4b8c-bfff-ce9b79af3480",
   "metadata": {},
   "source": [
    "## Error Metrics"
   ]
  },
  {
   "cell_type": "code",
   "execution_count": 40,
   "id": "7a89b979",
   "metadata": {},
   "outputs": [],
   "source": [
    "from sklearn.metrics import mean_absolute_error, mean_squared_error, r2_score"
   ]
  },
  {
   "cell_type": "code",
   "execution_count": 41,
   "id": "d899aa19",
   "metadata": {},
   "outputs": [],
   "source": [
    "def eval_metrics(actual,pred):\n",
    "    mae = mean_absolute_error(actual,pred)\n",
    "    mse = mean_squared_error(actual,pred)\n",
    "    rmse = np.sqrt(mean_squared_error(actual,pred))\n",
    "    R2_score = r2_score(actual, pred)\n",
    "    print(\"Model testing performance\")\n",
    "    print(\"-------------------------\")\n",
    "    print(f'R2_score \\t: {R2_score}')\n",
    "    print(f'MAE \\t\\t: {mae}')\n",
    "    print(f'MSE \\t\\t: {mse}')\n",
    "    print(f'RMSE \\t\\t: {rmse}')"
   ]
  },
  {
   "cell_type": "code",
   "execution_count": 42,
   "id": "330e749a",
   "metadata": {},
   "outputs": [],
   "source": [
    "y_train_pred = lm.predict(X_train)"
   ]
  },
  {
   "cell_type": "code",
   "execution_count": 43,
   "id": "dcebf687",
   "metadata": {},
   "outputs": [
    {
     "data": {
      "text/plain": [
       "array([1714255.66172409,  829415.66145669, 1572958.00063505, ...,\n",
       "       1040756.97927827,  922230.74143054, 2054346.52581934])"
      ]
     },
     "execution_count": 43,
     "metadata": {},
     "output_type": "execute_result"
    }
   ],
   "source": [
    "y_train_pred"
   ]
  },
  {
   "cell_type": "code",
   "execution_count": 44,
   "id": "47207452",
   "metadata": {},
   "outputs": [
    {
     "name": "stdout",
     "output_type": "stream",
     "text": [
      "Model testing performance\n",
      "-------------------------\n",
      "R2_score \t: 0.923444547624189\n",
      "MAE \t\t: 78525.06702034158\n",
      "MSE \t\t: 9536270574.914904\n",
      "RMSE \t\t: 97653.83031358731\n"
     ]
    }
   ],
   "source": [
    "eval_metrics(y_train,y_train_pred)"
   ]
  },
  {
   "cell_type": "code",
   "execution_count": 45,
   "id": "7ea933df",
   "metadata": {},
   "outputs": [
    {
     "name": "stdout",
     "output_type": "stream",
     "text": [
      "Model testing performance\n",
      "-------------------------\n",
      "R2_score \t: 0.9055004836473171\n",
      "MAE \t\t: 86256.85206320649\n",
      "MSE \t\t: 11792016129.79281\n",
      "RMSE \t\t: 108591.04995252975\n"
     ]
    }
   ],
   "source": [
    "eval_metrics(y_test, y_pred) "
   ]
  },
  {
   "cell_type": "markdown",
   "id": "bd10d310-e341-4324-a81d-febbf4ad637f",
   "metadata": {},
   "source": [
    "## Evaluate Model"
   ]
  },
  {
   "cell_type": "code",
   "execution_count": 185,
   "id": "8600b48e",
   "metadata": {},
   "outputs": [],
   "source": [
    "mlm_scores = {\"lm_train\": {\"rmse\": np.sqrt(mean_squared_error(y_train, y_train_pred)),\n",
    "                         \"mae\" : mean_absolute_error(y_train, y_train_pred),\n",
    "                         \"mse\": mean_squared_error(y_train,y_train_pred),\n",
    "                         \"R2\" : r2_score(y_train, y_train_pred)},\n",
    "            \"lm_test\": {\"rmse\": np.sqrt(mean_squared_error(y_test, y_pred)),\n",
    "                         \"mae\" : mean_absolute_error(y_test, y_pred),\n",
    "                         \"mse\": mean_squared_error(y_test,y_pred),\n",
    "                         \"R2\" : r2_score(y_test, y_pred)}}\n",
    "mls = pd.DataFrame(lm_scores)"
   ]
  },
  {
   "cell_type": "code",
   "execution_count": 186,
   "id": "896df0bf",
   "metadata": {},
   "outputs": [
    {
     "data": {
      "text/html": [
       "<div>\n",
       "<style scoped>\n",
       "    .dataframe tbody tr th:only-of-type {\n",
       "        vertical-align: middle;\n",
       "    }\n",
       "\n",
       "    .dataframe tbody tr th {\n",
       "        vertical-align: top;\n",
       "    }\n",
       "\n",
       "    .dataframe thead th {\n",
       "        text-align: right;\n",
       "    }\n",
       "</style>\n",
       "<table border=\"1\" class=\"dataframe\">\n",
       "  <thead>\n",
       "    <tr style=\"text-align: right;\">\n",
       "      <th></th>\n",
       "      <th>lm_train</th>\n",
       "      <th>lm_test</th>\n",
       "    </tr>\n",
       "  </thead>\n",
       "  <tbody>\n",
       "    <tr>\n",
       "      <th>rmse</th>\n",
       "      <td>97653.83031</td>\n",
       "      <td>108591.04995</td>\n",
       "    </tr>\n",
       "    <tr>\n",
       "      <th>mae</th>\n",
       "      <td>78525.06702</td>\n",
       "      <td>86256.85206</td>\n",
       "    </tr>\n",
       "    <tr>\n",
       "      <th>mse</th>\n",
       "      <td>9536270574.91490</td>\n",
       "      <td>11792016129.79281</td>\n",
       "    </tr>\n",
       "    <tr>\n",
       "      <th>R2</th>\n",
       "      <td>0.92344</td>\n",
       "      <td>0.90550</td>\n",
       "    </tr>\n",
       "  </tbody>\n",
       "</table>\n",
       "</div>"
      ],
      "text/plain": [
       "             lm_train           lm_test\n",
       "rmse      97653.83031      108591.04995\n",
       "mae       78525.06702       86256.85206\n",
       "mse  9536270574.91490 11792016129.79281\n",
       "R2            0.92344           0.90550"
      ]
     },
     "execution_count": 186,
     "metadata": {},
     "output_type": "execute_result"
    }
   ],
   "source": [
    "mls"
   ]
  },
  {
   "cell_type": "markdown",
   "id": "5149967c-7ae9-445d-9ab1-e105668ac809",
   "metadata": {},
   "source": [
    "# Improve Model \n",
    "    * Use Cross Validate\n",
    "    * Use Ridge Regression\n",
    "    * Use Lasso Regression\n",
    "    * Use Elasticnet Regression\n",
    "    * Use Grid-Search"
   ]
  },
  {
   "cell_type": "code",
   "execution_count": 48,
   "id": "cc6c0ba4-6144-4c00-ba5b-f02f25a2e59e",
   "metadata": {},
   "outputs": [],
   "source": [
    "from sklearn.metrics import SCORERS"
   ]
  },
  {
   "cell_type": "code",
   "execution_count": 49,
   "id": "ccd5d1c0",
   "metadata": {},
   "outputs": [],
   "source": [
    "from sklearn.model_selection import cross_validate, cross_val_score"
   ]
  },
  {
   "cell_type": "code",
   "execution_count": 50,
   "id": "9c075595",
   "metadata": {},
   "outputs": [],
   "source": [
    "model = LinearRegression()"
   ]
  },
  {
   "cell_type": "code",
   "execution_count": 51,
   "id": "22289d23",
   "metadata": {},
   "outputs": [],
   "source": [
    "scores = cross_validate(model, X_train, y_train, scoring = [\"r2\",\"neg_median_absolute_error\",\"neg_mean_squared_error\",\\\n",
    "                                                            \"neg_root_mean_squared_error\"], cv=10)"
   ]
  },
  {
   "cell_type": "code",
   "execution_count": 52,
   "id": "03db7510",
   "metadata": {},
   "outputs": [
    {
     "data": {
      "text/html": [
       "<div>\n",
       "<style scoped>\n",
       "    .dataframe tbody tr th:only-of-type {\n",
       "        vertical-align: middle;\n",
       "    }\n",
       "\n",
       "    .dataframe tbody tr th {\n",
       "        vertical-align: top;\n",
       "    }\n",
       "\n",
       "    .dataframe thead th {\n",
       "        text-align: right;\n",
       "    }\n",
       "</style>\n",
       "<table border=\"1\" class=\"dataframe\">\n",
       "  <thead>\n",
       "    <tr style=\"text-align: right;\">\n",
       "      <th></th>\n",
       "      <th>fit_time</th>\n",
       "      <th>score_time</th>\n",
       "      <th>test_r2</th>\n",
       "      <th>test_neg_median_absolute_error</th>\n",
       "      <th>test_neg_mean_squared_error</th>\n",
       "      <th>test_neg_root_mean_squared_error</th>\n",
       "    </tr>\n",
       "  </thead>\n",
       "  <tbody>\n",
       "    <tr>\n",
       "      <th>1</th>\n",
       "      <td>0.14890</td>\n",
       "      <td>0.00400</td>\n",
       "      <td>0.85773</td>\n",
       "      <td>-70502.44504</td>\n",
       "      <td>-17061779475.25991</td>\n",
       "      <td>-130620.74673</td>\n",
       "    </tr>\n",
       "    <tr>\n",
       "      <th>2</th>\n",
       "      <td>0.13692</td>\n",
       "      <td>0.00400</td>\n",
       "      <td>0.91568</td>\n",
       "      <td>-75823.39557</td>\n",
       "      <td>-10930131164.54037</td>\n",
       "      <td>-104547.26761</td>\n",
       "    </tr>\n",
       "    <tr>\n",
       "      <th>3</th>\n",
       "      <td>0.13991</td>\n",
       "      <td>0.00699</td>\n",
       "      <td>0.91250</td>\n",
       "      <td>-75134.59474</td>\n",
       "      <td>-11418780993.46019</td>\n",
       "      <td>-106858.69639</td>\n",
       "    </tr>\n",
       "    <tr>\n",
       "      <th>4</th>\n",
       "      <td>0.15690</td>\n",
       "      <td>0.00800</td>\n",
       "      <td>0.90450</td>\n",
       "      <td>-79495.69049</td>\n",
       "      <td>-11713965988.54655</td>\n",
       "      <td>-108231.07682</td>\n",
       "    </tr>\n",
       "    <tr>\n",
       "      <th>5</th>\n",
       "      <td>0.19388</td>\n",
       "      <td>0.00700</td>\n",
       "      <td>0.89637</td>\n",
       "      <td>-73313.98143</td>\n",
       "      <td>-12409209373.00033</td>\n",
       "      <td>-111396.63089</td>\n",
       "    </tr>\n",
       "    <tr>\n",
       "      <th>6</th>\n",
       "      <td>0.16790</td>\n",
       "      <td>0.00500</td>\n",
       "      <td>0.89398</td>\n",
       "      <td>-75234.13535</td>\n",
       "      <td>-14081586555.27822</td>\n",
       "      <td>-118665.86095</td>\n",
       "    </tr>\n",
       "    <tr>\n",
       "      <th>7</th>\n",
       "      <td>0.16790</td>\n",
       "      <td>0.00700</td>\n",
       "      <td>0.88736</td>\n",
       "      <td>-72989.98908</td>\n",
       "      <td>-14273809879.06914</td>\n",
       "      <td>-119473.05085</td>\n",
       "    </tr>\n",
       "    <tr>\n",
       "      <th>8</th>\n",
       "      <td>0.15291</td>\n",
       "      <td>0.00700</td>\n",
       "      <td>0.89172</td>\n",
       "      <td>-73100.56531</td>\n",
       "      <td>-13541621334.15049</td>\n",
       "      <td>-116368.47225</td>\n",
       "    </tr>\n",
       "    <tr>\n",
       "      <th>9</th>\n",
       "      <td>0.16689</td>\n",
       "      <td>0.00600</td>\n",
       "      <td>0.89698</td>\n",
       "      <td>-75272.53420</td>\n",
       "      <td>-11971589819.54496</td>\n",
       "      <td>-109414.76052</td>\n",
       "    </tr>\n",
       "    <tr>\n",
       "      <th>10</th>\n",
       "      <td>0.16690</td>\n",
       "      <td>0.00500</td>\n",
       "      <td>0.91892</td>\n",
       "      <td>-67419.91635</td>\n",
       "      <td>-9713058741.86005</td>\n",
       "      <td>-98554.85144</td>\n",
       "    </tr>\n",
       "  </tbody>\n",
       "</table>\n",
       "</div>"
      ],
      "text/plain": [
       "    fit_time  score_time  test_r2  test_neg_median_absolute_error  \\\n",
       "1    0.14890     0.00400  0.85773                    -70502.44504   \n",
       "2    0.13692     0.00400  0.91568                    -75823.39557   \n",
       "3    0.13991     0.00699  0.91250                    -75134.59474   \n",
       "4    0.15690     0.00800  0.90450                    -79495.69049   \n",
       "5    0.19388     0.00700  0.89637                    -73313.98143   \n",
       "6    0.16790     0.00500  0.89398                    -75234.13535   \n",
       "7    0.16790     0.00700  0.88736                    -72989.98908   \n",
       "8    0.15291     0.00700  0.89172                    -73100.56531   \n",
       "9    0.16689     0.00600  0.89698                    -75272.53420   \n",
       "10   0.16690     0.00500  0.91892                    -67419.91635   \n",
       "\n",
       "    test_neg_mean_squared_error  test_neg_root_mean_squared_error  \n",
       "1            -17061779475.25991                     -130620.74673  \n",
       "2            -10930131164.54037                     -104547.26761  \n",
       "3            -11418780993.46019                     -106858.69639  \n",
       "4            -11713965988.54655                     -108231.07682  \n",
       "5            -12409209373.00033                     -111396.63089  \n",
       "6            -14081586555.27822                     -118665.86095  \n",
       "7            -14273809879.06914                     -119473.05085  \n",
       "8            -13541621334.15049                     -116368.47225  \n",
       "9            -11971589819.54496                     -109414.76052  \n",
       "10            -9713058741.86005                      -98554.85144  "
      ]
     },
     "execution_count": 52,
     "metadata": {},
     "output_type": "execute_result"
    }
   ],
   "source": [
    "pd.DataFrame(scores, index = range(1,11))"
   ]
  },
  {
   "cell_type": "code",
   "execution_count": 53,
   "id": "43fdfa64",
   "metadata": {},
   "outputs": [
    {
     "data": {
      "text/plain": [
       "test_r2                                       0.89757\n",
       "test_neg_median_absolute_error           -73828.72476\n",
       "test_neg_mean_squared_error        -12711553332.47102\n",
       "test_neg_root_mean_squared_error        -112413.14144\n",
       "dtype: float64"
      ]
     },
     "execution_count": 53,
     "metadata": {},
     "output_type": "execute_result"
    }
   ],
   "source": [
    "scores = pd.DataFrame(scores,index= range(1,11))  \n",
    "scores.iloc[:,2:].mean()"
   ]
  },
  {
   "cell_type": "code",
   "execution_count": 54,
   "id": "64fdaa02",
   "metadata": {},
   "outputs": [
    {
     "name": "stdout",
     "output_type": "stream",
     "text": [
      "Model testing performance\n",
      "-------------------------\n",
      "R2_score \t: 0.9055004836473171\n",
      "MAE \t\t: 86256.85206320649\n",
      "MSE \t\t: 11792016129.79281\n",
      "RMSE \t\t: 108591.04995252975\n"
     ]
    }
   ],
   "source": [
    "eval_metrics(y_test,y_pred)"
   ]
  },
  {
   "cell_type": "code",
   "execution_count": 55,
   "id": "14d8a9bc",
   "metadata": {},
   "outputs": [
    {
     "data": {
      "image/png": "[encoded data removed]",
      "text/plain": [
       "<Figure size 720x432 with 1 Axes>"
      ]
     },
     "metadata": {
      "needs_background": "light"
     },
     "output_type": "display_data"
    }
   ],
   "source": [
    "sns.lineplot(data=scores.iloc[:,2:]);"
   ]
  },
  {
   "cell_type": "code",
   "execution_count": 187,
   "id": "a49b4f50",
   "metadata": {},
   "outputs": [
    {
     "data": {
      "text/plain": [
       "array([-2.94118898e+06, -1.88941435e+07, -2.97122415e+06,  4.57160663e+07,\n",
       "       -1.12292365e+07,  2.91105217e+06,  2.35624038e+07,  1.62294750e+07,\n",
       "       -3.40630281e+07, -1.30464760e+06,  7.58730899e+07,  2.55564543e+07,\n",
       "       -7.21563026e+07,  6.54361160e+05, -9.27247150e+06, -8.58123916e+07,\n",
       "        5.46541889e+07, -8.38952759e+06, -2.44881474e+07,  1.55234596e+07,\n",
       "       -7.86694138e+06,  7.31567657e+06, -2.08832481e+07,  8.51477972e+06,\n",
       "        1.80848604e+07, -6.84934688e+07, -4.73090570e+07,  6.26331278e+07,\n",
       "        5.57247592e+06,  5.99030964e+06,  6.88492706e+07, -5.03825316e+07,\n",
       "       -3.65003019e+07,  1.75865647e+07,  4.52111240e+06, -7.11667610e+07,\n",
       "       -5.43905049e+07,  2.96711688e+07, -6.67522019e+06, -3.50345457e+06,\n",
       "        9.50288327e+07, -3.05567602e+07,  8.74784243e+06,  4.13475575e+07,\n",
       "        2.43467666e+06,  1.90250756e+07,  5.04179355e+07, -4.56667587e+07,\n",
       "        7.33666461e+06,  2.11292977e+07, -3.74409094e+07,  2.51105950e+07,\n",
       "        7.43594946e+06, -4.48295724e+06, -7.73727060e+06,  4.78094447e+06,\n",
       "       -1.80390208e+07,  2.50973606e+07, -1.57209615e+06, -6.75021448e+06,\n",
       "        2.13156823e+07,  1.14577227e+07, -5.77894943e+06, -1.86800430e+07,\n",
       "       -1.48815025e+07, -1.03599303e+07,  1.41439263e+07,  7.88318332e+06,\n",
       "       -7.18574788e+06, -8.26416676e+06,  3.99209360e+07,  4.55567766e+07,\n",
       "       -3.13630143e+07,  5.34487303e+06,  4.05686150e+07, -9.57854379e+07,\n",
       "        2.75644721e+07,  2.65954846e+07, -2.11408253e+07, -8.49535362e+05,\n",
       "       -1.62603001e+07, -3.81665877e+07,  3.61235201e+07,  4.06828938e+07,\n",
       "       -1.22126866e+07,  7.83867743e+06, -3.02541031e+06,  3.21576323e+05,\n",
       "        3.31775828e+06, -3.22259737e+06,  2.60449109e+07,  3.48566458e+07,\n",
       "       -3.50570525e+06,  4.49762343e+06,  1.87743024e+06, -1.67761112e+07,\n",
       "        1.26437310e+07,  2.36511584e+06, -1.36263676e+07, -2.82805950e+06,\n",
       "       -1.24219374e+07, -3.50053546e+07,  1.74320701e+07,  1.17085012e+07,\n",
       "       -4.06824402e+07,  1.38725217e+07, -3.06732737e+07, -1.36254469e+06,\n",
       "       -3.42209479e+06, -4.94828047e+06, -7.95369780e+06,  3.38368334e+06,\n",
       "        6.59755308e+06, -4.62403165e+07,  1.60002674e+07,  1.27101554e+07,\n",
       "        1.96808344e+07, -2.07922054e+07,  7.72394217e+06,  1.47314249e+07,\n",
       "       -1.58575893e+07,  1.29091626e+06, -9.44671526e+05,  1.64588765e+06,\n",
       "        3.02376432e+06, -2.92090295e+06,  8.79814389e+06, -4.55620401e+06,\n",
       "        2.43533363e+06,  1.63929187e+06, -3.03333278e+06, -2.25991788e+06,\n",
       "       -5.48045990e+06,  4.40996282e+06, -7.51743870e+05, -8.02609246e+06,\n",
       "       -4.26146317e+06,  2.85863562e+06,  2.43027158e+06, -2.22547555e+05,\n",
       "       -8.81840854e+06, -2.14325071e+06,  7.59672644e+06,  1.33281915e+06,\n",
       "       -9.24958845e+06,  1.70275649e+07,  3.63293471e+05, -7.56786042e+06,\n",
       "        7.00091841e+05,  3.73920015e+06,  1.27238433e+07,  4.99448507e+06,\n",
       "       -6.52349394e+06, -7.77309609e+05,  2.61469800e+06,  2.60811947e+06,\n",
       "       -2.80345596e+06, -1.91279792e+05, -9.25072995e+05,  1.74567556e+06,\n",
       "       -3.73729535e+06, -1.52135240e+07,  2.03022188e+06, -8.11740530e+05,\n",
       "       -1.04863361e+07,  1.65172589e+07, -7.52776719e+06, -3.10416766e+06,\n",
       "        3.20884891e+06, -2.71621595e+05, -1.23184074e+07,  3.82762097e+07,\n",
       "       -1.05263248e+07, -2.79823979e+07,  1.30231366e+07, -7.54241249e+06,\n",
       "        9.46055843e+06, -7.58760555e+05,  3.40824812e+06, -1.88745572e+04,\n",
       "       -5.26508698e+05,  1.69856674e+07, -1.92926788e+06, -3.19453543e+07,\n",
       "       -1.05595831e+07, -3.41732237e+06,  1.75818459e+07,  1.00987103e+07,\n",
       "       -7.14213705e+04,  2.23294692e+05, -5.24622538e+06, -3.24468415e+06,\n",
       "       -6.57377829e+05, -1.54357447e+06,  5.97308525e+05, -3.86086321e+06,\n",
       "       -9.06741066e+06,  1.82563532e+06, -2.17902518e+06,  3.13604109e+06,\n",
       "       -1.54779609e+06,  6.68721697e+05, -2.48956187e+06,  8.99678686e+05,\n",
       "        1.11385830e+06,  2.78115890e+06, -3.03712210e+06, -5.80819600e+06,\n",
       "        7.18014306e+05,  1.17336919e+07, -4.81465976e+06,  4.04259398e+06,\n",
       "       -2.00616361e+06,  3.95404362e+05,  2.42485905e+06,  6.60915106e+06,\n",
       "       -6.76879979e+05,  1.91436715e+06,  4.98914322e+06, -5.34225237e+05,\n",
       "       -3.41768092e+05,  2.41263193e+05,  4.59571881e+06,  2.36691214e+06,\n",
       "       -1.03550590e+05,  4.82427899e+06,  1.93558725e+06, -1.19396818e+06,\n",
       "       -5.59115647e+05,  2.84832415e+05,  4.02604504e+06, -1.87460386e+07,\n",
       "       -7.30597594e+05,  4.04672798e+07, -6.42135579e+06,  2.54215875e+05,\n",
       "       -2.57252784e+07,  1.27031746e+07, -5.42862156e+06, -2.52637054e+06,\n",
       "        7.95930053e+06, -8.65769919e+06,  1.32541409e+06, -1.29384157e+06,\n",
       "       -3.67143724e+06,  1.73243286e+06,  3.22535294e+06, -1.33550412e+05,\n",
       "        8.31598268e+05,  6.39583833e+04, -4.80608308e+04])"
      ]
     },
     "execution_count": 187,
     "metadata": {},
     "output_type": "execute_result"
    }
   ],
   "source": [
    "lm.coef_"
   ]
  },
  {
   "cell_type": "code",
   "execution_count": 57,
   "id": "6e07da57",
   "metadata": {},
   "outputs": [
    {
     "data": {
      "text/html": [
       "<div>\n",
       "<style scoped>\n",
       "    .dataframe tbody tr th:only-of-type {\n",
       "        vertical-align: middle;\n",
       "    }\n",
       "\n",
       "    .dataframe tbody tr th {\n",
       "        vertical-align: top;\n",
       "    }\n",
       "\n",
       "    .dataframe thead th {\n",
       "        text-align: right;\n",
       "    }\n",
       "</style>\n",
       "<table border=\"1\" class=\"dataframe\">\n",
       "  <thead>\n",
       "    <tr style=\"text-align: right;\">\n",
       "      <th></th>\n",
       "      <th>lm_coef</th>\n",
       "    </tr>\n",
       "  </thead>\n",
       "  <tbody>\n",
       "    <tr>\n",
       "      <th>0</th>\n",
       "      <td>-2941188.97852</td>\n",
       "    </tr>\n",
       "    <tr>\n",
       "      <th>1</th>\n",
       "      <td>-18894143.53005</td>\n",
       "    </tr>\n",
       "    <tr>\n",
       "      <th>2</th>\n",
       "      <td>-2971224.15483</td>\n",
       "    </tr>\n",
       "    <tr>\n",
       "      <th>3</th>\n",
       "      <td>45716066.29054</td>\n",
       "    </tr>\n",
       "    <tr>\n",
       "      <th>4</th>\n",
       "      <td>-11229236.50035</td>\n",
       "    </tr>\n",
       "    <tr>\n",
       "      <th>...</th>\n",
       "      <td>...</td>\n",
       "    </tr>\n",
       "    <tr>\n",
       "      <th>246</th>\n",
       "      <td>3225352.93695</td>\n",
       "    </tr>\n",
       "    <tr>\n",
       "      <th>247</th>\n",
       "      <td>-133550.41157</td>\n",
       "    </tr>\n",
       "    <tr>\n",
       "      <th>248</th>\n",
       "      <td>831598.26766</td>\n",
       "    </tr>\n",
       "    <tr>\n",
       "      <th>249</th>\n",
       "      <td>63958.38326</td>\n",
       "    </tr>\n",
       "    <tr>\n",
       "      <th>250</th>\n",
       "      <td>-48060.83083</td>\n",
       "    </tr>\n",
       "  </tbody>\n",
       "</table>\n",
       "<p>251 rows × 1 columns</p>\n",
       "</div>"
      ],
      "text/plain": [
       "            lm_coef\n",
       "0    -2941188.97852\n",
       "1   -18894143.53005\n",
       "2    -2971224.15483\n",
       "3    45716066.29054\n",
       "4   -11229236.50035\n",
       "..              ...\n",
       "246   3225352.93695\n",
       "247   -133550.41157\n",
       "248    831598.26766\n",
       "249     63958.38326\n",
       "250    -48060.83083\n",
       "\n",
       "[251 rows x 1 columns]"
      ]
     },
     "execution_count": 57,
     "metadata": {},
     "output_type": "execute_result"
    }
   ],
   "source": [
    "lm_df = pd.DataFrame(lm.coef_, columns = [\"lm_coef\"])\n",
    "lm_df"
   ]
  },
  {
   "cell_type": "markdown",
   "id": "61f71161",
   "metadata": {},
   "source": [
    "# Ridge Model"
   ]
  },
  {
   "cell_type": "code",
   "execution_count": 58,
   "id": "25092da4",
   "metadata": {},
   "outputs": [],
   "source": [
    "from sklearn.linear_model import Ridge"
   ]
  },
  {
   "cell_type": "code",
   "execution_count": 59,
   "id": "984e8726",
   "metadata": {},
   "outputs": [],
   "source": [
    "ridge_model = Ridge(alpha =1 )"
   ]
  },
  {
   "cell_type": "code",
   "execution_count": 60,
   "id": "0feca822",
   "metadata": {},
   "outputs": [
    {
     "data": {
      "text/plain": [
       "Ridge(alpha=1)"
      ]
     },
     "execution_count": 60,
     "metadata": {},
     "output_type": "execute_result"
    }
   ],
   "source": [
    "ridge_model.fit(X_train,y_train)"
   ]
  },
  {
   "cell_type": "code",
   "execution_count": 61,
   "id": "2ff57cce",
   "metadata": {},
   "outputs": [],
   "source": [
    "y_pred = ridge_model.predict(X_test)"
   ]
  },
  {
   "cell_type": "code",
   "execution_count": 62,
   "id": "4c63af5b",
   "metadata": {},
   "outputs": [
    {
     "data": {
      "text/plain": [
       "array([1254897.26005654,  832336.00445543, 1753508.00563103, ...,\n",
       "       1470599.91933342,  648382.25094738, 1359357.99542982])"
      ]
     },
     "execution_count": 62,
     "metadata": {},
     "output_type": "execute_result"
    }
   ],
   "source": [
    "y_pred"
   ]
  },
  {
   "cell_type": "code",
   "execution_count": 63,
   "id": "b5ecc0d4",
   "metadata": {},
   "outputs": [
    {
     "name": "stdout",
     "output_type": "stream",
     "text": [
      "Model testing performance\n",
      "-------------------------\n",
      "R2_score \t: 0.9165395923553323\n",
      "MAE \t\t: 82104.0867359621\n",
      "MSE \t\t: 10414513334.35382\n",
      "RMSE \t\t: 102051.52293990433\n"
     ]
    }
   ],
   "source": [
    "eval_metrics(y_test, y_pred)"
   ]
  },
  {
   "cell_type": "code",
   "execution_count": 64,
   "id": "53003c86",
   "metadata": {},
   "outputs": [
    {
     "name": "stdout",
     "output_type": "stream",
     "text": [
      "Model testing performance\n",
      "-------------------------\n",
      "R2_score \t: 0.9193250916884836\n",
      "MAE \t\t: 80667.3224442017\n",
      "MSE \t\t: 10049418171.92053\n",
      "RMSE \t\t: 100246.7863421094\n"
     ]
    }
   ],
   "source": [
    "y_train_pred = ridge_model.predict(X_train)\n",
    "eval_metrics(y_train, y_train_pred)"
   ]
  },
  {
   "cell_type": "code",
   "execution_count": 65,
   "id": "b6448610",
   "metadata": {},
   "outputs": [
    {
     "data": {
      "text/html": [
       "<div>\n",
       "<style scoped>\n",
       "    .dataframe tbody tr th:only-of-type {\n",
       "        vertical-align: middle;\n",
       "    }\n",
       "\n",
       "    .dataframe tbody tr th {\n",
       "        vertical-align: top;\n",
       "    }\n",
       "\n",
       "    .dataframe thead th {\n",
       "        text-align: right;\n",
       "    }\n",
       "</style>\n",
       "<table border=\"1\" class=\"dataframe\">\n",
       "  <thead>\n",
       "    <tr style=\"text-align: right;\">\n",
       "      <th></th>\n",
       "      <th>ridge_train</th>\n",
       "      <th>ridge_test</th>\n",
       "    </tr>\n",
       "  </thead>\n",
       "  <tbody>\n",
       "    <tr>\n",
       "      <th>rmse</th>\n",
       "      <td>100246.78634</td>\n",
       "      <td>102051.52294</td>\n",
       "    </tr>\n",
       "    <tr>\n",
       "      <th>mae</th>\n",
       "      <td>80667.32244</td>\n",
       "      <td>82104.08674</td>\n",
       "    </tr>\n",
       "    <tr>\n",
       "      <th>mse</th>\n",
       "      <td>10049418171.92053</td>\n",
       "      <td>10414513334.35382</td>\n",
       "    </tr>\n",
       "    <tr>\n",
       "      <th>R2</th>\n",
       "      <td>0.91933</td>\n",
       "      <td>0.91654</td>\n",
       "    </tr>\n",
       "  </tbody>\n",
       "</table>\n",
       "</div>"
      ],
      "text/plain": [
       "           ridge_train        ridge_test\n",
       "rmse      100246.78634      102051.52294\n",
       "mae        80667.32244       82104.08674\n",
       "mse  10049418171.92053 10414513334.35382\n",
       "R2             0.91933           0.91654"
      ]
     },
     "execution_count": 65,
     "metadata": {},
     "output_type": "execute_result"
    }
   ],
   "source": [
    "ridge_scores = {\"ridge_train\": {\"rmse\": np.sqrt(mean_squared_error(y_train, y_train_pred)),\n",
    "                         \"mae\" : mean_absolute_error(y_train, y_train_pred),\n",
    "                         \"mse\": mean_squared_error(y_train,y_train_pred),\n",
    "                         \"R2\" : r2_score(y_train, y_train_pred)},\n",
    "            \"ridge_test\": {\"rmse\": np.sqrt(mean_squared_error(y_test, y_pred)),\n",
    "                         \"mae\" : mean_absolute_error(y_test, y_pred),\n",
    "                         \"mse\": mean_squared_error(y_test,y_pred),\n",
    "                         \"R2\" : r2_score(y_test, y_pred)}}\n",
    "rs = pd.DataFrame(ridge_scores)\n",
    "rs"
   ]
  },
  {
   "cell_type": "code",
   "execution_count": 188,
   "id": "916ce0c6",
   "metadata": {},
   "outputs": [
    {
     "data": {
      "text/html": [
       "<div>\n",
       "<style scoped>\n",
       "    .dataframe tbody tr th:only-of-type {\n",
       "        vertical-align: middle;\n",
       "    }\n",
       "\n",
       "    .dataframe tbody tr th {\n",
       "        vertical-align: top;\n",
       "    }\n",
       "\n",
       "    .dataframe thead th {\n",
       "        text-align: right;\n",
       "    }\n",
       "</style>\n",
       "<table border=\"1\" class=\"dataframe\">\n",
       "  <thead>\n",
       "    <tr style=\"text-align: right;\">\n",
       "      <th></th>\n",
       "      <th>lm_train</th>\n",
       "      <th>lm_test</th>\n",
       "      <th>ridge_train</th>\n",
       "      <th>ridge_test</th>\n",
       "    </tr>\n",
       "  </thead>\n",
       "  <tbody>\n",
       "    <tr>\n",
       "      <th>rmse</th>\n",
       "      <td>97653.83031</td>\n",
       "      <td>108591.04995</td>\n",
       "      <td>100246.78634</td>\n",
       "      <td>102051.52294</td>\n",
       "    </tr>\n",
       "    <tr>\n",
       "      <th>mae</th>\n",
       "      <td>78525.06702</td>\n",
       "      <td>86256.85206</td>\n",
       "      <td>80667.32244</td>\n",
       "      <td>82104.08674</td>\n",
       "    </tr>\n",
       "    <tr>\n",
       "      <th>mse</th>\n",
       "      <td>9536270574.91490</td>\n",
       "      <td>11792016129.79281</td>\n",
       "      <td>10049418171.92053</td>\n",
       "      <td>10414513334.35382</td>\n",
       "    </tr>\n",
       "    <tr>\n",
       "      <th>R2</th>\n",
       "      <td>0.92344</td>\n",
       "      <td>0.90550</td>\n",
       "      <td>0.91933</td>\n",
       "      <td>0.91654</td>\n",
       "    </tr>\n",
       "  </tbody>\n",
       "</table>\n",
       "</div>"
      ],
      "text/plain": [
       "             lm_train           lm_test       ridge_train        ridge_test\n",
       "rmse      97653.83031      108591.04995      100246.78634      102051.52294\n",
       "mae       78525.06702       86256.85206       80667.32244       82104.08674\n",
       "mse  9536270574.91490 11792016129.79281 10049418171.92053 10414513334.35382\n",
       "R2            0.92344           0.90550           0.91933           0.91654"
      ]
     },
     "execution_count": 188,
     "metadata": {},
     "output_type": "execute_result"
    }
   ],
   "source": [
    "pd.concat([mls,rs],axis=1)"
   ]
  },
  {
   "cell_type": "code",
   "execution_count": 67,
   "id": "8e26677b",
   "metadata": {},
   "outputs": [],
   "source": [
    "model = Ridge(alpha = 1)\n",
    "scores = cross_validate(model,X_train, y_train, scoring = [\"r2\",\"neg_mean_absolute_error\",\n",
    "                                                          \"neg_mean_squared_error\",\n",
    "                                                           \"neg_root_mean_squared_error\"], cv=10)"
   ]
  },
  {
   "cell_type": "code",
   "execution_count": 68,
   "id": "97bce4e4",
   "metadata": {},
   "outputs": [
    {
     "data": {
      "text/html": [
       "<div>\n",
       "<style scoped>\n",
       "    .dataframe tbody tr th:only-of-type {\n",
       "        vertical-align: middle;\n",
       "    }\n",
       "\n",
       "    .dataframe tbody tr th {\n",
       "        vertical-align: top;\n",
       "    }\n",
       "\n",
       "    .dataframe thead th {\n",
       "        text-align: right;\n",
       "    }\n",
       "</style>\n",
       "<table border=\"1\" class=\"dataframe\">\n",
       "  <thead>\n",
       "    <tr style=\"text-align: right;\">\n",
       "      <th></th>\n",
       "      <th>test_r2</th>\n",
       "      <th>test_neg_mean_absolute_error</th>\n",
       "      <th>test_neg_mean_squared_error</th>\n",
       "      <th>test_neg_root_mean_squared_error</th>\n",
       "    </tr>\n",
       "  </thead>\n",
       "  <tbody>\n",
       "    <tr>\n",
       "      <th>1</th>\n",
       "      <td>0.90359</td>\n",
       "      <td>-86140.31615</td>\n",
       "      <td>-11562217442.23021</td>\n",
       "      <td>-107527.75196</td>\n",
       "    </tr>\n",
       "    <tr>\n",
       "      <th>2</th>\n",
       "      <td>0.92086</td>\n",
       "      <td>-81862.59356</td>\n",
       "      <td>-10257707421.44883</td>\n",
       "      <td>-101280.34075</td>\n",
       "    </tr>\n",
       "    <tr>\n",
       "      <th>3</th>\n",
       "      <td>0.91892</td>\n",
       "      <td>-85128.23642</td>\n",
       "      <td>-10581774289.01598</td>\n",
       "      <td>-102867.75145</td>\n",
       "    </tr>\n",
       "    <tr>\n",
       "      <th>4</th>\n",
       "      <td>0.91497</td>\n",
       "      <td>-83823.05245</td>\n",
       "      <td>-10428964224.86223</td>\n",
       "      <td>-102122.30033</td>\n",
       "    </tr>\n",
       "    <tr>\n",
       "      <th>5</th>\n",
       "      <td>0.91310</td>\n",
       "      <td>-82177.65692</td>\n",
       "      <td>-10405682008.65845</td>\n",
       "      <td>-102008.24481</td>\n",
       "    </tr>\n",
       "    <tr>\n",
       "      <th>6</th>\n",
       "      <td>0.91778</td>\n",
       "      <td>-83333.79368</td>\n",
       "      <td>-10921207864.27597</td>\n",
       "      <td>-104504.58298</td>\n",
       "    </tr>\n",
       "    <tr>\n",
       "      <th>7</th>\n",
       "      <td>0.91974</td>\n",
       "      <td>-80580.27148</td>\n",
       "      <td>-10170550640.07051</td>\n",
       "      <td>-100849.14794</td>\n",
       "    </tr>\n",
       "    <tr>\n",
       "      <th>8</th>\n",
       "      <td>0.91081</td>\n",
       "      <td>-83722.48240</td>\n",
       "      <td>-11153584935.70542</td>\n",
       "      <td>-105610.53421</td>\n",
       "    </tr>\n",
       "    <tr>\n",
       "      <th>9</th>\n",
       "      <td>0.90953</td>\n",
       "      <td>-81318.81255</td>\n",
       "      <td>-10513432519.20187</td>\n",
       "      <td>-102535.03069</td>\n",
       "    </tr>\n",
       "    <tr>\n",
       "      <th>10</th>\n",
       "      <td>0.92716</td>\n",
       "      <td>-75613.57075</td>\n",
       "      <td>-8725773713.10840</td>\n",
       "      <td>-93411.84996</td>\n",
       "    </tr>\n",
       "  </tbody>\n",
       "</table>\n",
       "</div>"
      ],
      "text/plain": [
       "    test_r2  test_neg_mean_absolute_error  test_neg_mean_squared_error  \\\n",
       "1   0.90359                  -86140.31615           -11562217442.23021   \n",
       "2   0.92086                  -81862.59356           -10257707421.44883   \n",
       "3   0.91892                  -85128.23642           -10581774289.01598   \n",
       "4   0.91497                  -83823.05245           -10428964224.86223   \n",
       "5   0.91310                  -82177.65692           -10405682008.65845   \n",
       "6   0.91778                  -83333.79368           -10921207864.27597   \n",
       "7   0.91974                  -80580.27148           -10170550640.07051   \n",
       "8   0.91081                  -83722.48240           -11153584935.70542   \n",
       "9   0.90953                  -81318.81255           -10513432519.20187   \n",
       "10  0.92716                  -75613.57075            -8725773713.10840   \n",
       "\n",
       "    test_neg_root_mean_squared_error  \n",
       "1                      -107527.75196  \n",
       "2                      -101280.34075  \n",
       "3                      -102867.75145  \n",
       "4                      -102122.30033  \n",
       "5                      -102008.24481  \n",
       "6                      -104504.58298  \n",
       "7                      -100849.14794  \n",
       "8                      -105610.53421  \n",
       "9                      -102535.03069  \n",
       "10                      -93411.84996  "
      ]
     },
     "execution_count": 68,
     "metadata": {},
     "output_type": "execute_result"
    }
   ],
   "source": [
    "scores = pd.DataFrame(scores, index = range(1,11))\n",
    "scores.iloc[:,2:]"
   ]
  },
  {
   "cell_type": "code",
   "execution_count": 69,
   "id": "e96eaed1",
   "metadata": {},
   "outputs": [
    {
     "data": {
      "text/plain": [
       "<AxesSubplot:>"
      ]
     },
     "execution_count": 69,
     "metadata": {},
     "output_type": "execute_result"
    },
    {
     "data": {
      "image/png": "[encoded data removed]",
      "text/plain": [
       "<Figure size 720x432 with 1 Axes>"
      ]
     },
     "metadata": {
      "needs_background": "light"
     },
     "output_type": "display_data"
    }
   ],
   "source": [
    "sns.lineplot(data=scores.iloc[:,2:])"
   ]
  },
  {
   "cell_type": "code",
   "execution_count": 70,
   "id": "a74972b8",
   "metadata": {},
   "outputs": [
    {
     "data": {
      "text/plain": [
       "test_r2                                       0.91565\n",
       "test_neg_mean_absolute_error             -82370.07864\n",
       "test_neg_mean_squared_error        -10472089505.85778\n",
       "test_neg_root_mean_squared_error        -102271.75351\n",
       "dtype: float64"
      ]
     },
     "execution_count": 70,
     "metadata": {},
     "output_type": "execute_result"
    }
   ],
   "source": [
    "pd.DataFrame(scores, index=range(1,11)).iloc[:,2:].mean()"
   ]
  },
  {
   "cell_type": "code",
   "execution_count": 71,
   "id": "810d25a1",
   "metadata": {},
   "outputs": [
    {
     "name": "stdout",
     "output_type": "stream",
     "text": [
      "Model testing performance\n",
      "-------------------------\n",
      "R2_score \t: 0.9165395923553323\n",
      "MAE \t\t: 82104.0867359621\n",
      "MSE \t\t: 10414513334.35382\n",
      "RMSE \t\t: 102051.52293990433\n"
     ]
    }
   ],
   "source": [
    "eval_metrics(y_test,y_pred)"
   ]
  },
  {
   "cell_type": "code",
   "execution_count": 72,
   "id": "e91c0a74",
   "metadata": {},
   "outputs": [
    {
     "data": {
      "text/plain": [
       "array([ 9.99097611e+04,  8.41065967e+03,  3.24432303e+04, -9.62185616e+03,\n",
       "        3.85439739e+04,  6.18984337e+04,  9.19739249e+03,  4.20862543e+04,\n",
       "        7.66189058e+03,  6.10530811e+04,  3.46616845e+04,  5.95471539e+04,\n",
       "       -1.89375245e+04, -2.23998443e+03, -3.01410162e+03, -4.84914715e+01,\n",
       "        2.00874305e+04,  2.29431141e+04,  8.02946394e+03,  3.01185574e+04,\n",
       "        6.21246306e+03,  1.22039488e+04,  8.43617603e+03,  1.05244374e+04,\n",
       "        6.82594507e+04, -8.30701182e+03,  3.58063505e+04, -3.04102147e+03,\n",
       "       -1.65695838e+04,  1.45820517e+03,  7.20181674e+03,  2.88778128e+04,\n",
       "       -2.62359428e+01, -3.49301534e+04, -8.09697738e+03,  4.71739557e+04,\n",
       "        7.02884873e+04,  1.14466570e+03, -1.29953719e+04,  1.45422786e+04,\n",
       "       -5.46116015e+03,  2.25131659e+04,  1.01714779e+03,  1.42542993e+04,\n",
       "        2.25211249e+04, -1.33213923e+04, -9.86554340e+03, -2.36807965e+04,\n",
       "        1.52289969e+04,  1.20711820e+04,  2.41253406e+03,  1.88481384e+04,\n",
       "       -7.75638606e+03,  2.80707882e+04,  7.63327921e+03, -1.32730445e+04,\n",
       "       -8.00685659e+03, -2.88439834e+04, -8.68227889e+03,  3.01099362e+04,\n",
       "       -1.68808533e+04,  1.53049810e+04,  2.65573098e+04,  9.14342393e+03,\n",
       "       -1.25150909e+04, -3.53155798e+03,  2.21253465e+04,  1.54404080e+02,\n",
       "       -2.92328551e+04, -7.59648974e+03,  1.45444638e+04,  1.77311453e+04,\n",
       "       -1.60627227e+04, -2.91069860e+04,  1.50451989e+03,  1.15856997e+04,\n",
       "        8.64828636e+03,  2.48767839e+03, -2.22750400e+04, -2.64028869e+04,\n",
       "        1.82018719e+03,  2.74688525e+03, -3.71491598e+03,  6.11227565e+02,\n",
       "       -1.02839119e+04, -1.77813856e+04, -1.53812165e+04, -3.13498797e+04,\n",
       "       -5.04002450e+03, -2.65890939e+04,  2.27883079e+04,  4.67534712e+04,\n",
       "        1.53855230e+04, -2.82172178e+03,  1.48688169e+04,  1.24211420e+04,\n",
       "        7.59783807e+03,  2.80446546e+03,  1.03588863e+04,  1.46586805e+04,\n",
       "       -1.32951091e+04, -2.21837205e+04,  1.65104764e+04, -6.34140828e+03,\n",
       "        2.25961370e+04,  4.56871888e+02, -1.44921765e+03, -1.21219687e+04,\n",
       "        3.22380842e+04,  7.93060047e+03, -1.34986085e+02, -4.55148864e+03,\n",
       "       -4.18316441e+04,  2.08979203e+03, -9.25078179e+03, -2.87546684e+03,\n",
       "        9.95069564e+03, -4.48343977e+02,  1.46044494e+04, -9.31978694e+03,\n",
       "        3.80748305e+03,  3.81409699e+03, -8.42633134e+03,  1.11605406e+04,\n",
       "        6.43494935e+03,  3.52310693e+04, -2.99373588e+03, -1.89667905e+04,\n",
       "        1.06532145e+01, -1.01956239e+03, -3.20363199e+04, -7.20011043e+03,\n",
       "        3.16782430e+04,  5.24905224e+03, -2.15077808e+04, -2.44535165e+04,\n",
       "       -1.58800256e+04,  7.16891583e+03, -2.86283164e+04, -3.34285864e+04,\n",
       "        5.32572782e+03, -1.03710056e+04,  4.09199475e+03,  4.77964337e+03,\n",
       "       -1.07018638e+04,  2.52379308e+04,  1.39822660e+04,  3.35861691e+04,\n",
       "        5.01547819e+03, -8.08419241e+03,  1.24923718e+04, -2.83050708e+03,\n",
       "       -5.26934506e+03, -7.62998933e+03, -1.41247849e+04, -1.91745627e+04,\n",
       "       -1.39110371e+04,  1.09517157e+04,  2.84803886e+04,  1.32719502e+03,\n",
       "        3.14080462e+04, -6.67086278e+03, -1.93856391e+04,  2.15458400e+04,\n",
       "       -3.41796347e+04,  4.73168278e+02, -1.06360326e+04, -9.12804734e+03,\n",
       "       -2.22327387e+04, -5.23223259e+03, -1.63472421e+04,  2.03258230e+03,\n",
       "        1.72605859e+04,  5.58828626e+03,  1.31829295e+04, -2.73201649e+04,\n",
       "       -7.77586961e+02, -8.61072020e+03,  1.70123737e+04, -2.16923667e+04,\n",
       "        3.37391461e+04,  2.07331585e+04, -2.79454944e+03, -2.28810056e+03,\n",
       "       -5.43240556e+03,  6.43138059e+03, -1.49419189e+04, -6.00305649e+01,\n",
       "        1.92515716e+04, -6.94728569e+03, -2.96721473e+04,  1.87247559e+04,\n",
       "        3.87997090e+04,  4.89149435e+04,  2.29049812e+04, -5.19537495e+04,\n",
       "       -2.67869468e+04, -4.99329751e+03, -5.87166606e+03, -3.70137175e+04,\n",
       "        6.77437244e+03, -2.47400012e+04, -2.25008271e+03,  1.45882518e+03,\n",
       "        2.53223991e+04, -3.47624563e+04, -1.72489785e+04,  1.57996688e+03,\n",
       "        7.17457156e+01,  1.72351008e+04, -3.12598343e+04,  5.01157934e+03,\n",
       "       -1.94727362e+04,  1.01276709e+04,  1.09718746e+04, -4.76714163e+03,\n",
       "       -1.93328667e+04,  3.22563393e+04, -1.99156164e+04,  1.89917576e+04,\n",
       "        1.96724739e+04, -1.03543191e+04, -2.99522428e+03,  2.28888752e+03,\n",
       "       -3.49934694e+04, -3.90189825e+03, -5.30093427e+03, -4.15009092e+04,\n",
       "       -1.50004253e+04, -1.04294921e+04,  3.67854666e+04,  2.78087552e+04,\n",
       "       -2.77584074e+04,  1.00201470e+04, -1.32468003e+04,  2.76809886e+04,\n",
       "        2.59731970e+03, -9.29135826e+03, -5.15136564e+03,  2.60750180e+04,\n",
       "        1.85879456e+03,  1.26482987e+04, -2.07466432e+04, -1.76583761e+04,\n",
       "       -1.21893818e+04, -2.63730474e+03,  4.18863445e+04,  5.56215449e+03,\n",
       "       -3.73675673e+04, -3.08092794e+04,  2.86886671e+04])"
      ]
     },
     "execution_count": 72,
     "metadata": {},
     "output_type": "execute_result"
    }
   ],
   "source": [
    "ridge_model.coef_ "
   ]
  },
  {
   "cell_type": "code",
   "execution_count": 74,
   "id": "57ee60ed",
   "metadata": {},
   "outputs": [],
   "source": [
    "rm_df = pd.DataFrame(ridge_model.coef_, columns=[\"ridge_coef_1\"])"
   ]
  },
  {
   "cell_type": "code",
   "execution_count": 75,
   "id": "880e40f7",
   "metadata": {},
   "outputs": [
    {
     "data": {
      "text/html": [
       "<div>\n",
       "<style scoped>\n",
       "    .dataframe tbody tr th:only-of-type {\n",
       "        vertical-align: middle;\n",
       "    }\n",
       "\n",
       "    .dataframe tbody tr th {\n",
       "        vertical-align: top;\n",
       "    }\n",
       "\n",
       "    .dataframe thead th {\n",
       "        text-align: right;\n",
       "    }\n",
       "</style>\n",
       "<table border=\"1\" class=\"dataframe\">\n",
       "  <thead>\n",
       "    <tr style=\"text-align: right;\">\n",
       "      <th></th>\n",
       "      <th>lm_coef</th>\n",
       "      <th>ridge_coef_1</th>\n",
       "    </tr>\n",
       "  </thead>\n",
       "  <tbody>\n",
       "    <tr>\n",
       "      <th>0</th>\n",
       "      <td>-2941188.97852</td>\n",
       "      <td>99909.76114</td>\n",
       "    </tr>\n",
       "    <tr>\n",
       "      <th>1</th>\n",
       "      <td>-18894143.53005</td>\n",
       "      <td>8410.65967</td>\n",
       "    </tr>\n",
       "    <tr>\n",
       "      <th>2</th>\n",
       "      <td>-2971224.15483</td>\n",
       "      <td>32443.23026</td>\n",
       "    </tr>\n",
       "    <tr>\n",
       "      <th>3</th>\n",
       "      <td>45716066.29054</td>\n",
       "      <td>-9621.85616</td>\n",
       "    </tr>\n",
       "    <tr>\n",
       "      <th>4</th>\n",
       "      <td>-11229236.50035</td>\n",
       "      <td>38543.97387</td>\n",
       "    </tr>\n",
       "    <tr>\n",
       "      <th>...</th>\n",
       "      <td>...</td>\n",
       "      <td>...</td>\n",
       "    </tr>\n",
       "    <tr>\n",
       "      <th>246</th>\n",
       "      <td>3225352.93695</td>\n",
       "      <td>41886.34446</td>\n",
       "    </tr>\n",
       "    <tr>\n",
       "      <th>247</th>\n",
       "      <td>-133550.41157</td>\n",
       "      <td>5562.15449</td>\n",
       "    </tr>\n",
       "    <tr>\n",
       "      <th>248</th>\n",
       "      <td>831598.26766</td>\n",
       "      <td>-37367.56730</td>\n",
       "    </tr>\n",
       "    <tr>\n",
       "      <th>249</th>\n",
       "      <td>63958.38326</td>\n",
       "      <td>-30809.27943</td>\n",
       "    </tr>\n",
       "    <tr>\n",
       "      <th>250</th>\n",
       "      <td>-48060.83083</td>\n",
       "      <td>28688.66707</td>\n",
       "    </tr>\n",
       "  </tbody>\n",
       "</table>\n",
       "<p>251 rows × 2 columns</p>\n",
       "</div>"
      ],
      "text/plain": [
       "            lm_coef  ridge_coef_1\n",
       "0    -2941188.97852   99909.76114\n",
       "1   -18894143.53005    8410.65967\n",
       "2    -2971224.15483   32443.23026\n",
       "3    45716066.29054   -9621.85616\n",
       "4   -11229236.50035   38543.97387\n",
       "..              ...           ...\n",
       "246   3225352.93695   41886.34446\n",
       "247   -133550.41157    5562.15449\n",
       "248    831598.26766  -37367.56730\n",
       "249     63958.38326  -30809.27943\n",
       "250    -48060.83083   28688.66707\n",
       "\n",
       "[251 rows x 2 columns]"
      ]
     },
     "execution_count": 75,
     "metadata": {},
     "output_type": "execute_result"
    }
   ],
   "source": [
    "pd.concat([lm_df,rm_df], axis=1)"
   ]
  },
  {
   "cell_type": "markdown",
   "id": "3b2e2806",
   "metadata": {},
   "source": [
    "# Ridge CV"
   ]
  },
  {
   "cell_type": "code",
   "execution_count": 76,
   "id": "6946f92c",
   "metadata": {},
   "outputs": [],
   "source": [
    "from sklearn.linear_model import RidgeCV"
   ]
  },
  {
   "cell_type": "code",
   "execution_count": 77,
   "id": "a8aa2f77",
   "metadata": {},
   "outputs": [
    {
     "data": {
      "text/plain": [
       "array([0.01, 0.02, 0.03, 0.04, 0.05, 0.06, 0.07, 0.08, 0.09, 0.1 , 0.11,\n",
       "       0.12, 0.13, 0.14, 0.15, 0.16, 0.17, 0.18, 0.19, 0.2 , 0.21, 0.22,\n",
       "       0.23, 0.24, 0.25, 0.26, 0.27, 0.28, 0.29, 0.3 , 0.31, 0.32, 0.33,\n",
       "       0.34, 0.35, 0.36, 0.37, 0.38, 0.39, 0.4 , 0.41, 0.42, 0.43, 0.44,\n",
       "       0.45, 0.46, 0.47, 0.48, 0.49, 0.5 , 0.51, 0.52, 0.53, 0.54, 0.55,\n",
       "       0.56, 0.57, 0.58, 0.59, 0.6 , 0.61, 0.62, 0.63, 0.64, 0.65, 0.66,\n",
       "       0.67, 0.68, 0.69, 0.7 , 0.71, 0.72, 0.73, 0.74, 0.75, 0.76, 0.77,\n",
       "       0.78, 0.79, 0.8 , 0.81, 0.82, 0.83, 0.84, 0.85, 0.86, 0.87, 0.88,\n",
       "       0.89, 0.9 , 0.91, 0.92, 0.93, 0.94, 0.95, 0.96, 0.97, 0.98, 0.99,\n",
       "       1.  ])"
      ]
     },
     "execution_count": 77,
     "metadata": {},
     "output_type": "execute_result"
    }
   ],
   "source": [
    "alpha_space = np.linspace(0.01,1,100)\n",
    "alpha_space"
   ]
  },
  {
   "cell_type": "code",
   "execution_count": 78,
   "id": "b827846c",
   "metadata": {},
   "outputs": [],
   "source": [
    "ridge_cv_model = RidgeCV(alphas = alpha_space, cv=10, scoring=\"neg_root_mean_squared_error\")"
   ]
  },
  {
   "cell_type": "code",
   "execution_count": 79,
   "id": "4d49efc3",
   "metadata": {},
   "outputs": [
    {
     "data": {
      "text/plain": [
       "RidgeCV(alphas=array([0.01, 0.02, 0.03, 0.04, 0.05, 0.06, 0.07, 0.08, 0.09, 0.1 , 0.11,\n",
       "       0.12, 0.13, 0.14, 0.15, 0.16, 0.17, 0.18, 0.19, 0.2 , 0.21, 0.22,\n",
       "       0.23, 0.24, 0.25, 0.26, 0.27, 0.28, 0.29, 0.3 , 0.31, 0.32, 0.33,\n",
       "       0.34, 0.35, 0.36, 0.37, 0.38, 0.39, 0.4 , 0.41, 0.42, 0.43, 0.44,\n",
       "       0.45, 0.46, 0.47, 0.48, 0.49, 0.5 , 0.51, 0.52, 0.53, 0.54, 0.55,\n",
       "       0.56, 0.57, 0.58, 0.59, 0.6 , 0.61, 0.62, 0.63, 0.64, 0.65, 0.66,\n",
       "       0.67, 0.68, 0.69, 0.7 , 0.71, 0.72, 0.73, 0.74, 0.75, 0.76, 0.77,\n",
       "       0.78, 0.79, 0.8 , 0.81, 0.82, 0.83, 0.84, 0.85, 0.86, 0.87, 0.88,\n",
       "       0.89, 0.9 , 0.91, 0.92, 0.93, 0.94, 0.95, 0.96, 0.97, 0.98, 0.99,\n",
       "       1.  ]),\n",
       "        cv=10, scoring='neg_root_mean_squared_error')"
      ]
     },
     "execution_count": 79,
     "metadata": {},
     "output_type": "execute_result"
    }
   ],
   "source": [
    "ridge_cv_model.fit(X_train, y_train)"
   ]
  },
  {
   "cell_type": "code",
   "execution_count": 80,
   "id": "8ef6e429",
   "metadata": {},
   "outputs": [
    {
     "data": {
      "text/plain": [
       "1.0"
      ]
     },
     "execution_count": 80,
     "metadata": {},
     "output_type": "execute_result"
    }
   ],
   "source": [
    "ridge_cv_model.alpha_"
   ]
  },
  {
   "cell_type": "code",
   "execution_count": 81,
   "id": "1a5a3ad5",
   "metadata": {},
   "outputs": [],
   "source": [
    "y_pred = ridge_cv_model.predict(X_test)"
   ]
  },
  {
   "cell_type": "code",
   "execution_count": 82,
   "id": "a2a6766c",
   "metadata": {},
   "outputs": [
    {
     "name": "stdout",
     "output_type": "stream",
     "text": [
      "Model testing performance\n",
      "-------------------------\n",
      "R2_score \t: 0.9165395923553323\n",
      "MAE \t\t: 82104.0867359621\n",
      "MSE \t\t: 10414513334.35382\n",
      "RMSE \t\t: 102051.52293990433\n"
     ]
    }
   ],
   "source": [
    "eval_metrics(y_test,y_pred)"
   ]
  },
  {
   "cell_type": "code",
   "execution_count": 83,
   "id": "75c22e5e",
   "metadata": {},
   "outputs": [
    {
     "name": "stdout",
     "output_type": "stream",
     "text": [
      "Model testing performance\n",
      "-------------------------\n",
      "R2_score \t: 0.9193250916884836\n",
      "MAE \t\t: 80667.3224442017\n",
      "MSE \t\t: 10049418171.92053\n",
      "RMSE \t\t: 100246.7863421094\n"
     ]
    }
   ],
   "source": [
    "y_train_pred = ridge_cv_model.predict(X_train)\n",
    "eval_metrics(y_train, y_train_pred)"
   ]
  },
  {
   "cell_type": "code",
   "execution_count": 84,
   "id": "0e8072cc",
   "metadata": {},
   "outputs": [
    {
     "data": {
      "text/html": [
       "<div>\n",
       "<style scoped>\n",
       "    .dataframe tbody tr th:only-of-type {\n",
       "        vertical-align: middle;\n",
       "    }\n",
       "\n",
       "    .dataframe tbody tr th {\n",
       "        vertical-align: top;\n",
       "    }\n",
       "\n",
       "    .dataframe thead th {\n",
       "        text-align: right;\n",
       "    }\n",
       "</style>\n",
       "<table border=\"1\" class=\"dataframe\">\n",
       "  <thead>\n",
       "    <tr style=\"text-align: right;\">\n",
       "      <th></th>\n",
       "      <th>ridge_cv_train</th>\n",
       "      <th>ridge_cv_test</th>\n",
       "    </tr>\n",
       "  </thead>\n",
       "  <tbody>\n",
       "    <tr>\n",
       "      <th>rmse</th>\n",
       "      <td>100246.78634</td>\n",
       "      <td>102051.52294</td>\n",
       "    </tr>\n",
       "    <tr>\n",
       "      <th>mae</th>\n",
       "      <td>80667.32244</td>\n",
       "      <td>82104.08674</td>\n",
       "    </tr>\n",
       "    <tr>\n",
       "      <th>mse</th>\n",
       "      <td>10049418171.92053</td>\n",
       "      <td>10414513334.35382</td>\n",
       "    </tr>\n",
       "    <tr>\n",
       "      <th>R2</th>\n",
       "      <td>0.91933</td>\n",
       "      <td>0.91654</td>\n",
       "    </tr>\n",
       "  </tbody>\n",
       "</table>\n",
       "</div>"
      ],
      "text/plain": [
       "        ridge_cv_train     ridge_cv_test\n",
       "rmse      100246.78634      102051.52294\n",
       "mae        80667.32244       82104.08674\n",
       "mse  10049418171.92053 10414513334.35382\n",
       "R2             0.91933           0.91654"
      ]
     },
     "execution_count": 84,
     "metadata": {},
     "output_type": "execute_result"
    }
   ],
   "source": [
    "ridge_cv_scores = {\"ridge_cv_train\": {\"rmse\": np.sqrt(mean_squared_error(y_train, y_train_pred)),\n",
    "                         \"mae\" : mean_absolute_error(y_train, y_train_pred),\n",
    "                         \"mse\": mean_squared_error(y_train,y_train_pred),\n",
    "                         \"R2\" : r2_score(y_train, y_train_pred)},\n",
    "            \"ridge_cv_test\": {\"rmse\": np.sqrt(mean_squared_error(y_test, y_pred)),\n",
    "                         \"mae\" : mean_absolute_error(y_test, y_pred),\n",
    "                         \"mse\": mean_squared_error(y_test,y_pred),\n",
    "                         \"R2\" : r2_score(y_test, y_pred)}}\n",
    "rcs = pd.DataFrame(ridge_cv_scores)\n",
    "rcs"
   ]
  },
  {
   "cell_type": "code",
   "execution_count": 189,
   "id": "75da7401",
   "metadata": {},
   "outputs": [
    {
     "data": {
      "text/html": [
       "<div>\n",
       "<style scoped>\n",
       "    .dataframe tbody tr th:only-of-type {\n",
       "        vertical-align: middle;\n",
       "    }\n",
       "\n",
       "    .dataframe tbody tr th {\n",
       "        vertical-align: top;\n",
       "    }\n",
       "\n",
       "    .dataframe thead th {\n",
       "        text-align: right;\n",
       "    }\n",
       "</style>\n",
       "<table border=\"1\" class=\"dataframe\">\n",
       "  <thead>\n",
       "    <tr style=\"text-align: right;\">\n",
       "      <th></th>\n",
       "      <th>lm_train</th>\n",
       "      <th>lm_test</th>\n",
       "      <th>ridge_train</th>\n",
       "      <th>ridge_test</th>\n",
       "      <th>ridge_cv_train</th>\n",
       "      <th>ridge_cv_test</th>\n",
       "    </tr>\n",
       "  </thead>\n",
       "  <tbody>\n",
       "    <tr>\n",
       "      <th>rmse</th>\n",
       "      <td>97653.83031</td>\n",
       "      <td>108591.04995</td>\n",
       "      <td>100246.78634</td>\n",
       "      <td>102051.52294</td>\n",
       "      <td>100246.78634</td>\n",
       "      <td>102051.52294</td>\n",
       "    </tr>\n",
       "    <tr>\n",
       "      <th>mae</th>\n",
       "      <td>78525.06702</td>\n",
       "      <td>86256.85206</td>\n",
       "      <td>80667.32244</td>\n",
       "      <td>82104.08674</td>\n",
       "      <td>80667.32244</td>\n",
       "      <td>82104.08674</td>\n",
       "    </tr>\n",
       "    <tr>\n",
       "      <th>mse</th>\n",
       "      <td>9536270574.91490</td>\n",
       "      <td>11792016129.79281</td>\n",
       "      <td>10049418171.92053</td>\n",
       "      <td>10414513334.35382</td>\n",
       "      <td>10049418171.92053</td>\n",
       "      <td>10414513334.35382</td>\n",
       "    </tr>\n",
       "    <tr>\n",
       "      <th>R2</th>\n",
       "      <td>0.92344</td>\n",
       "      <td>0.90550</td>\n",
       "      <td>0.91933</td>\n",
       "      <td>0.91654</td>\n",
       "      <td>0.91933</td>\n",
       "      <td>0.91654</td>\n",
       "    </tr>\n",
       "  </tbody>\n",
       "</table>\n",
       "</div>"
      ],
      "text/plain": [
       "             lm_train           lm_test       ridge_train        ridge_test  \\\n",
       "rmse      97653.83031      108591.04995      100246.78634      102051.52294   \n",
       "mae       78525.06702       86256.85206       80667.32244       82104.08674   \n",
       "mse  9536270574.91490 11792016129.79281 10049418171.92053 10414513334.35382   \n",
       "R2            0.92344           0.90550           0.91933           0.91654   \n",
       "\n",
       "        ridge_cv_train     ridge_cv_test  \n",
       "rmse      100246.78634      102051.52294  \n",
       "mae        80667.32244       82104.08674  \n",
       "mse  10049418171.92053 10414513334.35382  \n",
       "R2             0.91933           0.91654  "
      ]
     },
     "execution_count": 189,
     "metadata": {},
     "output_type": "execute_result"
    }
   ],
   "source": [
    "pd.concat([mls,rs,rcs],axis=1)"
   ]
  },
  {
   "cell_type": "code",
   "execution_count": 86,
   "id": "efcfa51b",
   "metadata": {},
   "outputs": [
    {
     "data": {
      "text/plain": [
       "array([ 9.99097611e+04,  8.41065967e+03,  3.24432303e+04, -9.62185616e+03,\n",
       "        3.85439739e+04,  6.18984337e+04,  9.19739249e+03,  4.20862543e+04,\n",
       "        7.66189058e+03,  6.10530811e+04,  3.46616845e+04,  5.95471539e+04,\n",
       "       -1.89375245e+04, -2.23998443e+03, -3.01410162e+03, -4.84914715e+01,\n",
       "        2.00874305e+04,  2.29431141e+04,  8.02946394e+03,  3.01185574e+04,\n",
       "        6.21246306e+03,  1.22039488e+04,  8.43617603e+03,  1.05244374e+04,\n",
       "        6.82594507e+04, -8.30701182e+03,  3.58063505e+04, -3.04102147e+03,\n",
       "       -1.65695838e+04,  1.45820517e+03,  7.20181674e+03,  2.88778128e+04,\n",
       "       -2.62359428e+01, -3.49301534e+04, -8.09697738e+03,  4.71739557e+04,\n",
       "        7.02884873e+04,  1.14466570e+03, -1.29953719e+04,  1.45422786e+04,\n",
       "       -5.46116015e+03,  2.25131659e+04,  1.01714779e+03,  1.42542993e+04,\n",
       "        2.25211249e+04, -1.33213923e+04, -9.86554340e+03, -2.36807965e+04,\n",
       "        1.52289969e+04,  1.20711820e+04,  2.41253406e+03,  1.88481384e+04,\n",
       "       -7.75638606e+03,  2.80707882e+04,  7.63327921e+03, -1.32730445e+04,\n",
       "       -8.00685659e+03, -2.88439834e+04, -8.68227889e+03,  3.01099362e+04,\n",
       "       -1.68808533e+04,  1.53049810e+04,  2.65573098e+04,  9.14342393e+03,\n",
       "       -1.25150909e+04, -3.53155798e+03,  2.21253465e+04,  1.54404080e+02,\n",
       "       -2.92328551e+04, -7.59648974e+03,  1.45444638e+04,  1.77311453e+04,\n",
       "       -1.60627227e+04, -2.91069860e+04,  1.50451989e+03,  1.15856997e+04,\n",
       "        8.64828636e+03,  2.48767839e+03, -2.22750400e+04, -2.64028869e+04,\n",
       "        1.82018719e+03,  2.74688525e+03, -3.71491598e+03,  6.11227565e+02,\n",
       "       -1.02839119e+04, -1.77813856e+04, -1.53812165e+04, -3.13498797e+04,\n",
       "       -5.04002450e+03, -2.65890939e+04,  2.27883079e+04,  4.67534712e+04,\n",
       "        1.53855230e+04, -2.82172178e+03,  1.48688169e+04,  1.24211420e+04,\n",
       "        7.59783807e+03,  2.80446546e+03,  1.03588863e+04,  1.46586805e+04,\n",
       "       -1.32951091e+04, -2.21837205e+04,  1.65104764e+04, -6.34140828e+03,\n",
       "        2.25961370e+04,  4.56871888e+02, -1.44921765e+03, -1.21219687e+04,\n",
       "        3.22380842e+04,  7.93060047e+03, -1.34986085e+02, -4.55148864e+03,\n",
       "       -4.18316441e+04,  2.08979203e+03, -9.25078179e+03, -2.87546684e+03,\n",
       "        9.95069564e+03, -4.48343977e+02,  1.46044494e+04, -9.31978694e+03,\n",
       "        3.80748305e+03,  3.81409699e+03, -8.42633134e+03,  1.11605406e+04,\n",
       "        6.43494935e+03,  3.52310693e+04, -2.99373588e+03, -1.89667905e+04,\n",
       "        1.06532145e+01, -1.01956239e+03, -3.20363199e+04, -7.20011043e+03,\n",
       "        3.16782430e+04,  5.24905224e+03, -2.15077808e+04, -2.44535165e+04,\n",
       "       -1.58800256e+04,  7.16891583e+03, -2.86283164e+04, -3.34285864e+04,\n",
       "        5.32572782e+03, -1.03710056e+04,  4.09199475e+03,  4.77964337e+03,\n",
       "       -1.07018638e+04,  2.52379308e+04,  1.39822660e+04,  3.35861691e+04,\n",
       "        5.01547819e+03, -8.08419241e+03,  1.24923718e+04, -2.83050708e+03,\n",
       "       -5.26934506e+03, -7.62998933e+03, -1.41247849e+04, -1.91745627e+04,\n",
       "       -1.39110371e+04,  1.09517157e+04,  2.84803886e+04,  1.32719502e+03,\n",
       "        3.14080462e+04, -6.67086278e+03, -1.93856391e+04,  2.15458400e+04,\n",
       "       -3.41796347e+04,  4.73168278e+02, -1.06360326e+04, -9.12804734e+03,\n",
       "       -2.22327387e+04, -5.23223259e+03, -1.63472421e+04,  2.03258230e+03,\n",
       "        1.72605859e+04,  5.58828626e+03,  1.31829295e+04, -2.73201649e+04,\n",
       "       -7.77586961e+02, -8.61072020e+03,  1.70123737e+04, -2.16923667e+04,\n",
       "        3.37391461e+04,  2.07331585e+04, -2.79454944e+03, -2.28810056e+03,\n",
       "       -5.43240556e+03,  6.43138059e+03, -1.49419189e+04, -6.00305649e+01,\n",
       "        1.92515716e+04, -6.94728569e+03, -2.96721473e+04,  1.87247559e+04,\n",
       "        3.87997090e+04,  4.89149435e+04,  2.29049812e+04, -5.19537495e+04,\n",
       "       -2.67869468e+04, -4.99329751e+03, -5.87166606e+03, -3.70137175e+04,\n",
       "        6.77437244e+03, -2.47400012e+04, -2.25008271e+03,  1.45882518e+03,\n",
       "        2.53223991e+04, -3.47624563e+04, -1.72489785e+04,  1.57996688e+03,\n",
       "        7.17457156e+01,  1.72351008e+04, -3.12598343e+04,  5.01157934e+03,\n",
       "       -1.94727362e+04,  1.01276709e+04,  1.09718746e+04, -4.76714163e+03,\n",
       "       -1.93328667e+04,  3.22563393e+04, -1.99156164e+04,  1.89917576e+04,\n",
       "        1.96724739e+04, -1.03543191e+04, -2.99522428e+03,  2.28888752e+03,\n",
       "       -3.49934694e+04, -3.90189825e+03, -5.30093427e+03, -4.15009092e+04,\n",
       "       -1.50004253e+04, -1.04294921e+04,  3.67854666e+04,  2.78087552e+04,\n",
       "       -2.77584074e+04,  1.00201470e+04, -1.32468003e+04,  2.76809886e+04,\n",
       "        2.59731970e+03, -9.29135826e+03, -5.15136564e+03,  2.60750180e+04,\n",
       "        1.85879456e+03,  1.26482987e+04, -2.07466432e+04, -1.76583761e+04,\n",
       "       -1.21893818e+04, -2.63730474e+03,  4.18863445e+04,  5.56215449e+03,\n",
       "       -3.73675673e+04, -3.08092794e+04,  2.86886671e+04])"
      ]
     },
     "execution_count": 86,
     "metadata": {},
     "output_type": "execute_result"
    }
   ],
   "source": [
    "ridge_cv_model.coef_"
   ]
  },
  {
   "cell_type": "code",
   "execution_count": 87,
   "id": "2ba4fe3f",
   "metadata": {},
   "outputs": [],
   "source": [
    "rcm_df = pd.DataFrame(ridge_cv_model.coef_,columns=[\"Ridge_cv_coef_0.99\"])"
   ]
  },
  {
   "cell_type": "code",
   "execution_count": 183,
   "id": "78f4aca0",
   "metadata": {},
   "outputs": [
    {
     "data": {
      "text/html": [
       "<div>\n",
       "<style scoped>\n",
       "    .dataframe tbody tr th:only-of-type {\n",
       "        vertical-align: middle;\n",
       "    }\n",
       "\n",
       "    .dataframe tbody tr th {\n",
       "        vertical-align: top;\n",
       "    }\n",
       "\n",
       "    .dataframe thead th {\n",
       "        text-align: right;\n",
       "    }\n",
       "</style>\n",
       "<table border=\"1\" class=\"dataframe\">\n",
       "  <thead>\n",
       "    <tr style=\"text-align: right;\">\n",
       "      <th></th>\n",
       "      <th>lm_coef</th>\n",
       "      <th>ridge_coef_1</th>\n",
       "      <th>Ridge_cv_coef_0.99</th>\n",
       "    </tr>\n",
       "  </thead>\n",
       "  <tbody>\n",
       "    <tr>\n",
       "      <th>0</th>\n",
       "      <td>-2941188.97852</td>\n",
       "      <td>99909.76114</td>\n",
       "      <td>99909.76114</td>\n",
       "    </tr>\n",
       "    <tr>\n",
       "      <th>1</th>\n",
       "      <td>-18894143.53005</td>\n",
       "      <td>8410.65967</td>\n",
       "      <td>8410.65967</td>\n",
       "    </tr>\n",
       "    <tr>\n",
       "      <th>2</th>\n",
       "      <td>-2971224.15483</td>\n",
       "      <td>32443.23026</td>\n",
       "      <td>32443.23026</td>\n",
       "    </tr>\n",
       "    <tr>\n",
       "      <th>3</th>\n",
       "      <td>45716066.29054</td>\n",
       "      <td>-9621.85616</td>\n",
       "      <td>-9621.85616</td>\n",
       "    </tr>\n",
       "    <tr>\n",
       "      <th>4</th>\n",
       "      <td>-11229236.50035</td>\n",
       "      <td>38543.97387</td>\n",
       "      <td>38543.97387</td>\n",
       "    </tr>\n",
       "    <tr>\n",
       "      <th>...</th>\n",
       "      <td>...</td>\n",
       "      <td>...</td>\n",
       "      <td>...</td>\n",
       "    </tr>\n",
       "    <tr>\n",
       "      <th>246</th>\n",
       "      <td>3225352.93695</td>\n",
       "      <td>41886.34446</td>\n",
       "      <td>41886.34446</td>\n",
       "    </tr>\n",
       "    <tr>\n",
       "      <th>247</th>\n",
       "      <td>-133550.41157</td>\n",
       "      <td>5562.15449</td>\n",
       "      <td>5562.15449</td>\n",
       "    </tr>\n",
       "    <tr>\n",
       "      <th>248</th>\n",
       "      <td>831598.26766</td>\n",
       "      <td>-37367.56730</td>\n",
       "      <td>-37367.56730</td>\n",
       "    </tr>\n",
       "    <tr>\n",
       "      <th>249</th>\n",
       "      <td>63958.38326</td>\n",
       "      <td>-30809.27943</td>\n",
       "      <td>-30809.27943</td>\n",
       "    </tr>\n",
       "    <tr>\n",
       "      <th>250</th>\n",
       "      <td>-48060.83083</td>\n",
       "      <td>28688.66707</td>\n",
       "      <td>28688.66707</td>\n",
       "    </tr>\n",
       "  </tbody>\n",
       "</table>\n",
       "<p>251 rows × 3 columns</p>\n",
       "</div>"
      ],
      "text/plain": [
       "            lm_coef  ridge_coef_1  Ridge_cv_coef_0.99\n",
       "0    -2941188.97852   99909.76114         99909.76114\n",
       "1   -18894143.53005    8410.65967          8410.65967\n",
       "2    -2971224.15483   32443.23026         32443.23026\n",
       "3    45716066.29054   -9621.85616         -9621.85616\n",
       "4   -11229236.50035   38543.97387         38543.97387\n",
       "..              ...           ...                 ...\n",
       "246   3225352.93695   41886.34446         41886.34446\n",
       "247   -133550.41157    5562.15449          5562.15449\n",
       "248    831598.26766  -37367.56730        -37367.56730\n",
       "249     63958.38326  -30809.27943        -30809.27943\n",
       "250    -48060.83083   28688.66707         28688.66707\n",
       "\n",
       "[251 rows x 3 columns]"
      ]
     },
     "execution_count": 183,
     "metadata": {},
     "output_type": "execute_result"
    }
   ],
   "source": [
    "pd.concat([lm_df,rm_df,rcm_df], axis=1)"
   ]
  },
  {
   "cell_type": "markdown",
   "id": "2f2d0535",
   "metadata": {},
   "source": [
    "# LASSO"
   ]
  },
  {
   "cell_type": "code",
   "execution_count": 89,
   "id": "83e0956c",
   "metadata": {},
   "outputs": [],
   "source": [
    "from sklearn.linear_model import Lasso, LassoCV"
   ]
  },
  {
   "cell_type": "code",
   "execution_count": 90,
   "id": "cc2d61be",
   "metadata": {},
   "outputs": [],
   "source": [
    "lasso_model = Lasso(alpha=1)"
   ]
  },
  {
   "cell_type": "code",
   "execution_count": 91,
   "id": "31ab394b",
   "metadata": {},
   "outputs": [
    {
     "data": {
      "text/plain": [
       "Lasso(alpha=1)"
      ]
     },
     "execution_count": 91,
     "metadata": {},
     "output_type": "execute_result"
    }
   ],
   "source": [
    "lasso_model.fit(X_train, y_train)"
   ]
  },
  {
   "cell_type": "code",
   "execution_count": 92,
   "id": "9c223381",
   "metadata": {},
   "outputs": [],
   "source": [
    "y_train_pred = lasso_model.predict(X_train)"
   ]
  },
  {
   "cell_type": "code",
   "execution_count": 93,
   "id": "28d83f54",
   "metadata": {},
   "outputs": [
    {
     "data": {
      "text/plain": [
       "array([1729631.91931109,  830746.65937201, 1572735.08659554, ...,\n",
       "       1047930.53884368,  922296.44250397, 2139432.84603338])"
      ]
     },
     "execution_count": 93,
     "metadata": {},
     "output_type": "execute_result"
    }
   ],
   "source": [
    "y_train_pred"
   ]
  },
  {
   "cell_type": "code",
   "execution_count": 94,
   "id": "1748ad9b",
   "metadata": {},
   "outputs": [
    {
     "name": "stdout",
     "output_type": "stream",
     "text": [
      "Model testing performance\n",
      "-------------------------\n",
      "R2_score \t: 0.9190159736409766\n",
      "MAE \t\t: 80828.48002068348\n",
      "MSE \t\t: 10087924029.428175\n",
      "RMSE \t\t: 100438.65804274853\n"
     ]
    }
   ],
   "source": [
    "eval_metrics(y_train, y_train_pred)"
   ]
  },
  {
   "cell_type": "code",
   "execution_count": 95,
   "id": "f1b844dd",
   "metadata": {},
   "outputs": [],
   "source": [
    "y_pred = lasso_model.predict(X_test)"
   ]
  },
  {
   "cell_type": "code",
   "execution_count": 96,
   "id": "3c704760",
   "metadata": {},
   "outputs": [
    {
     "name": "stdout",
     "output_type": "stream",
     "text": [
      "Model testing performance\n",
      "-------------------------\n",
      "R2_score \t: 0.9166595927563967\n",
      "MAE \t\t: 82098.42354508385\n",
      "MSE \t\t: 10399539218.93453\n",
      "RMSE \t\t: 101978.13108178896\n"
     ]
    }
   ],
   "source": [
    "eval_metrics(y_test, y_pred)"
   ]
  },
  {
   "cell_type": "code",
   "execution_count": 97,
   "id": "7cd48e5b",
   "metadata": {},
   "outputs": [
    {
     "data": {
      "text/html": [
       "<div>\n",
       "<style scoped>\n",
       "    .dataframe tbody tr th:only-of-type {\n",
       "        vertical-align: middle;\n",
       "    }\n",
       "\n",
       "    .dataframe tbody tr th {\n",
       "        vertical-align: top;\n",
       "    }\n",
       "\n",
       "    .dataframe thead th {\n",
       "        text-align: right;\n",
       "    }\n",
       "</style>\n",
       "<table border=\"1\" class=\"dataframe\">\n",
       "  <thead>\n",
       "    <tr style=\"text-align: right;\">\n",
       "      <th></th>\n",
       "      <th>lasso_train</th>\n",
       "      <th>lasso_test</th>\n",
       "    </tr>\n",
       "  </thead>\n",
       "  <tbody>\n",
       "    <tr>\n",
       "      <th>rmse</th>\n",
       "      <td>100438.65804</td>\n",
       "      <td>101978.13108</td>\n",
       "    </tr>\n",
       "    <tr>\n",
       "      <th>mae</th>\n",
       "      <td>80828.48002</td>\n",
       "      <td>82098.42355</td>\n",
       "    </tr>\n",
       "    <tr>\n",
       "      <th>mse</th>\n",
       "      <td>10087924029.42817</td>\n",
       "      <td>10399539218.93453</td>\n",
       "    </tr>\n",
       "    <tr>\n",
       "      <th>R2</th>\n",
       "      <td>0.91902</td>\n",
       "      <td>0.91666</td>\n",
       "    </tr>\n",
       "  </tbody>\n",
       "</table>\n",
       "</div>"
      ],
      "text/plain": [
       "           lasso_train        lasso_test\n",
       "rmse      100438.65804      101978.13108\n",
       "mae        80828.48002       82098.42355\n",
       "mse  10087924029.42817 10399539218.93453\n",
       "R2             0.91902           0.91666"
      ]
     },
     "execution_count": 97,
     "metadata": {},
     "output_type": "execute_result"
    }
   ],
   "source": [
    "lasso_scores = {\"lasso_train\": {\"rmse\": np.sqrt(mean_squared_error(y_train, y_train_pred)),\n",
    "                              \"mae\": mean_absolute_error(y_train, y_train_pred),\n",
    "                              \"mse\": mean_squared_error(y_train, y_train_pred),\n",
    "                              \"R2\": r2_score(y_train, y_train_pred)},\n",
    "              \"lasso_test\":{\"rmse\": np.sqrt(mean_squared_error(y_test, y_pred)),\n",
    "                              \"mae\": mean_absolute_error(y_test, y_pred),\n",
    "                              \"mse\": mean_squared_error(y_test, y_pred),\n",
    "                              \"R2\": r2_score(y_test, y_pred)}}\n",
    "lss = pd.DataFrame(lasso_scores)\n",
    "lss"
   ]
  },
  {
   "cell_type": "code",
   "execution_count": 98,
   "id": "25698e8d",
   "metadata": {},
   "outputs": [
    {
     "data": {
      "text/html": [
       "<div>\n",
       "<style scoped>\n",
       "    .dataframe tbody tr th:only-of-type {\n",
       "        vertical-align: middle;\n",
       "    }\n",
       "\n",
       "    .dataframe tbody tr th {\n",
       "        vertical-align: top;\n",
       "    }\n",
       "\n",
       "    .dataframe thead th {\n",
       "        text-align: right;\n",
       "    }\n",
       "</style>\n",
       "<table border=\"1\" class=\"dataframe\">\n",
       "  <thead>\n",
       "    <tr style=\"text-align: right;\">\n",
       "      <th></th>\n",
       "      <th>lm_train</th>\n",
       "      <th>lm_test</th>\n",
       "      <th>ridge_train</th>\n",
       "      <th>ridge_test</th>\n",
       "      <th>ridge_cv_train</th>\n",
       "      <th>ridge_cv_test</th>\n",
       "      <th>lasso_train</th>\n",
       "      <th>lasso_test</th>\n",
       "    </tr>\n",
       "  </thead>\n",
       "  <tbody>\n",
       "    <tr>\n",
       "      <th>rmse</th>\n",
       "      <td>97653.83031</td>\n",
       "      <td>108591.04995</td>\n",
       "      <td>100246.78634</td>\n",
       "      <td>102051.52294</td>\n",
       "      <td>100246.78634</td>\n",
       "      <td>102051.52294</td>\n",
       "      <td>100438.65804</td>\n",
       "      <td>101978.13108</td>\n",
       "    </tr>\n",
       "    <tr>\n",
       "      <th>mae</th>\n",
       "      <td>78525.06702</td>\n",
       "      <td>86256.85206</td>\n",
       "      <td>80667.32244</td>\n",
       "      <td>82104.08674</td>\n",
       "      <td>80667.32244</td>\n",
       "      <td>82104.08674</td>\n",
       "      <td>80828.48002</td>\n",
       "      <td>82098.42355</td>\n",
       "    </tr>\n",
       "    <tr>\n",
       "      <th>mse</th>\n",
       "      <td>9536270574.91490</td>\n",
       "      <td>11792016129.79281</td>\n",
       "      <td>10049418171.92053</td>\n",
       "      <td>10414513334.35382</td>\n",
       "      <td>10049418171.92053</td>\n",
       "      <td>10414513334.35382</td>\n",
       "      <td>10087924029.42817</td>\n",
       "      <td>10399539218.93453</td>\n",
       "    </tr>\n",
       "    <tr>\n",
       "      <th>R2</th>\n",
       "      <td>0.92344</td>\n",
       "      <td>0.90550</td>\n",
       "      <td>0.91933</td>\n",
       "      <td>0.91654</td>\n",
       "      <td>0.91933</td>\n",
       "      <td>0.91654</td>\n",
       "      <td>0.91902</td>\n",
       "      <td>0.91666</td>\n",
       "    </tr>\n",
       "  </tbody>\n",
       "</table>\n",
       "</div>"
      ],
      "text/plain": [
       "             lm_train           lm_test       ridge_train        ridge_test  \\\n",
       "rmse      97653.83031      108591.04995      100246.78634      102051.52294   \n",
       "mae       78525.06702       86256.85206       80667.32244       82104.08674   \n",
       "mse  9536270574.91490 11792016129.79281 10049418171.92053 10414513334.35382   \n",
       "R2            0.92344           0.90550           0.91933           0.91654   \n",
       "\n",
       "        ridge_cv_train     ridge_cv_test       lasso_train        lasso_test  \n",
       "rmse      100246.78634      102051.52294      100438.65804      101978.13108  \n",
       "mae        80667.32244       82104.08674       80828.48002       82098.42355  \n",
       "mse  10049418171.92053 10414513334.35382 10087924029.42817 10399539218.93453  \n",
       "R2             0.91933           0.91654           0.91902           0.91666  "
      ]
     },
     "execution_count": 98,
     "metadata": {},
     "output_type": "execute_result"
    }
   ],
   "source": [
    "pd.concat([mls,rs,rcs,lss], axis=1)"
   ]
  },
  {
   "cell_type": "code",
   "execution_count": 99,
   "id": "607f5105",
   "metadata": {},
   "outputs": [],
   "source": [
    "model = Lasso(alpha=1)\n",
    "scores = cross_validate(model, X_train, y_train,\n",
    "                      scoring = [\"r2\",\"neg_mean_absolute_error\",\"neg_mean_squared_error\",\"neg_root_mean_squared_error\"],cv=10)"
   ]
  },
  {
   "cell_type": "code",
   "execution_count": 100,
   "id": "ecc0d990",
   "metadata": {},
   "outputs": [
    {
     "data": {
      "text/html": [
       "<div>\n",
       "<style scoped>\n",
       "    .dataframe tbody tr th:only-of-type {\n",
       "        vertical-align: middle;\n",
       "    }\n",
       "\n",
       "    .dataframe tbody tr th {\n",
       "        vertical-align: top;\n",
       "    }\n",
       "\n",
       "    .dataframe thead th {\n",
       "        text-align: right;\n",
       "    }\n",
       "</style>\n",
       "<table border=\"1\" class=\"dataframe\">\n",
       "  <thead>\n",
       "    <tr style=\"text-align: right;\">\n",
       "      <th></th>\n",
       "      <th>test_r2</th>\n",
       "      <th>test_neg_mean_absolute_error</th>\n",
       "      <th>test_neg_mean_squared_error</th>\n",
       "      <th>test_neg_root_mean_squared_error</th>\n",
       "    </tr>\n",
       "  </thead>\n",
       "  <tbody>\n",
       "    <tr>\n",
       "      <th>1</th>\n",
       "      <td>0.90340</td>\n",
       "      <td>-86322.29739</td>\n",
       "      <td>-11584602101.63912</td>\n",
       "      <td>-107631.78946</td>\n",
       "    </tr>\n",
       "    <tr>\n",
       "      <th>2</th>\n",
       "      <td>0.92121</td>\n",
       "      <td>-81742.81817</td>\n",
       "      <td>-10213162478.72842</td>\n",
       "      <td>-101060.19235</td>\n",
       "    </tr>\n",
       "    <tr>\n",
       "      <th>3</th>\n",
       "      <td>0.91883</td>\n",
       "      <td>-85136.62275</td>\n",
       "      <td>-10593299907.75959</td>\n",
       "      <td>-102923.75774</td>\n",
       "    </tr>\n",
       "    <tr>\n",
       "      <th>4</th>\n",
       "      <td>0.91489</td>\n",
       "      <td>-83680.29976</td>\n",
       "      <td>-10439116732.69904</td>\n",
       "      <td>-102171.99583</td>\n",
       "    </tr>\n",
       "    <tr>\n",
       "      <th>5</th>\n",
       "      <td>0.91388</td>\n",
       "      <td>-81798.47175</td>\n",
       "      <td>-10312222474.58493</td>\n",
       "      <td>-101549.11361</td>\n",
       "    </tr>\n",
       "    <tr>\n",
       "      <th>6</th>\n",
       "      <td>0.91843</td>\n",
       "      <td>-83044.74409</td>\n",
       "      <td>-10835002724.99196</td>\n",
       "      <td>-104091.31916</td>\n",
       "    </tr>\n",
       "    <tr>\n",
       "      <th>7</th>\n",
       "      <td>0.91938</td>\n",
       "      <td>-80644.37039</td>\n",
       "      <td>-10216214622.18306</td>\n",
       "      <td>-101075.29185</td>\n",
       "    </tr>\n",
       "    <tr>\n",
       "      <th>8</th>\n",
       "      <td>0.91103</td>\n",
       "      <td>-83729.95400</td>\n",
       "      <td>-11126666262.93094</td>\n",
       "      <td>-105483.01410</td>\n",
       "    </tr>\n",
       "    <tr>\n",
       "      <th>9</th>\n",
       "      <td>0.90911</td>\n",
       "      <td>-81500.14204</td>\n",
       "      <td>-10561768265.46905</td>\n",
       "      <td>-102770.46397</td>\n",
       "    </tr>\n",
       "    <tr>\n",
       "      <th>10</th>\n",
       "      <td>0.92717</td>\n",
       "      <td>-75647.41114</td>\n",
       "      <td>-8724655843.96223</td>\n",
       "      <td>-93405.86622</td>\n",
       "    </tr>\n",
       "  </tbody>\n",
       "</table>\n",
       "</div>"
      ],
      "text/plain": [
       "    test_r2  test_neg_mean_absolute_error  test_neg_mean_squared_error  \\\n",
       "1   0.90340                  -86322.29739           -11584602101.63912   \n",
       "2   0.92121                  -81742.81817           -10213162478.72842   \n",
       "3   0.91883                  -85136.62275           -10593299907.75959   \n",
       "4   0.91489                  -83680.29976           -10439116732.69904   \n",
       "5   0.91388                  -81798.47175           -10312222474.58493   \n",
       "6   0.91843                  -83044.74409           -10835002724.99196   \n",
       "7   0.91938                  -80644.37039           -10216214622.18306   \n",
       "8   0.91103                  -83729.95400           -11126666262.93094   \n",
       "9   0.90911                  -81500.14204           -10561768265.46905   \n",
       "10  0.92717                  -75647.41114            -8724655843.96223   \n",
       "\n",
       "    test_neg_root_mean_squared_error  \n",
       "1                      -107631.78946  \n",
       "2                      -101060.19235  \n",
       "3                      -102923.75774  \n",
       "4                      -102171.99583  \n",
       "5                      -101549.11361  \n",
       "6                      -104091.31916  \n",
       "7                      -101075.29185  \n",
       "8                      -105483.01410  \n",
       "9                      -102770.46397  \n",
       "10                      -93405.86622  "
      ]
     },
     "execution_count": 100,
     "metadata": {},
     "output_type": "execute_result"
    }
   ],
   "source": [
    "scores = pd.DataFrame(scores, index=range(1,11))\n",
    "scores.iloc[:,2:]"
   ]
  },
  {
   "cell_type": "code",
   "execution_count": 101,
   "id": "7dc60f73",
   "metadata": {},
   "outputs": [
    {
     "data": {
      "text/plain": [
       "test_r2                                       0.91573\n",
       "test_neg_mean_absolute_error             -82324.71315\n",
       "test_neg_mean_squared_error        -10460671141.49484\n",
       "test_neg_root_mean_squared_error        -102216.28043\n",
       "dtype: float64"
      ]
     },
     "execution_count": 101,
     "metadata": {},
     "output_type": "execute_result"
    }
   ],
   "source": [
    "scores = pd.DataFrame(scores,index=range(1,11))\n",
    "scores.iloc[:,2:].mean()"
   ]
  },
  {
   "cell_type": "code",
   "execution_count": 102,
   "id": "abd8e7b5",
   "metadata": {},
   "outputs": [
    {
     "data": {
      "text/plain": [
       "<AxesSubplot:>"
      ]
     },
     "execution_count": 102,
     "metadata": {},
     "output_type": "execute_result"
    },
    {
     "data": {
      "image/png": "[encoded data removed]",
      "text/plain": [
       "<Figure size 720x432 with 1 Axes>"
      ]
     },
     "metadata": {
      "needs_background": "light"
     },
     "output_type": "display_data"
    }
   ],
   "source": [
    "sns.lineplot(data=scores.iloc[:,2:])"
   ]
  },
  {
   "cell_type": "code",
   "execution_count": 103,
   "id": "1193450a",
   "metadata": {},
   "outputs": [
    {
     "name": "stdout",
     "output_type": "stream",
     "text": [
      "Model testing performance\n",
      "-------------------------\n",
      "R2_score \t: 0.9166595927563967\n",
      "MAE \t\t: 82098.42354508385\n",
      "MSE \t\t: 10399539218.93453\n",
      "RMSE \t\t: 101978.13108178896\n"
     ]
    }
   ],
   "source": [
    "eval_metrics(y_test,y_pred)"
   ]
  },
  {
   "cell_type": "code",
   "execution_count": 104,
   "id": "e5eddd6d",
   "metadata": {},
   "outputs": [
    {
     "data": {
      "text/plain": [
       "test_r2                                       0.91573\n",
       "test_neg_mean_absolute_error             -82324.71315\n",
       "test_neg_mean_squared_error        -10460671141.49484\n",
       "test_neg_root_mean_squared_error        -102216.28043\n",
       "dtype: float64"
      ]
     },
     "execution_count": 104,
     "metadata": {},
     "output_type": "execute_result"
    }
   ],
   "source": [
    "pd.DataFrame(scores).iloc[:,2:].mean()"
   ]
  },
  {
   "cell_type": "code",
   "execution_count": 105,
   "id": "70d20865",
   "metadata": {},
   "outputs": [
    {
     "name": "stdout",
     "output_type": "stream",
     "text": [
      "Model testing performance\n",
      "-------------------------\n",
      "R2_score \t: 0.9166595927563967\n",
      "MAE \t\t: 82098.42354508385\n",
      "MSE \t\t: 10399539218.93453\n",
      "RMSE \t\t: 101978.13108178896\n"
     ]
    }
   ],
   "source": [
    "eval_metrics(y_test, y_pred)"
   ]
  },
  {
   "cell_type": "code",
   "execution_count": 106,
   "id": "5e307c88",
   "metadata": {},
   "outputs": [
    {
     "data": {
      "text/plain": [
       "array([ 2.24493587e+05,  8.69357451e+04,  1.38228686e+05, -1.01993613e+04,\n",
       "        1.27117271e+05,  2.70861578e+04, -1.08311221e+04, -7.99107146e+03,\n",
       "       -1.31501767e+03,  2.03467374e+04,  7.24729148e+04,  3.37616022e+04,\n",
       "       -3.98415095e+03, -1.76895316e+04, -3.22562624e+04,  8.79041296e+03,\n",
       "       -5.78168810e+03,  1.93571865e+04,  2.28974048e+03,  2.65836511e+04,\n",
       "        5.18233509e+03, -2.68846737e+04,  2.14457508e+03, -6.73591557e+03,\n",
       "        2.66339722e+04, -1.01123812e+04,  1.86475968e+04, -1.08749780e+03,\n",
       "       -2.17673602e+04, -1.91131458e+04,  1.91692959e+03, -5.03474186e+03,\n",
       "        3.95674149e+03, -1.30084315e+04,  7.40223943e+03,  4.68637828e+04,\n",
       "        3.16444209e+04, -9.78189998e+03, -2.28322124e+04, -6.66615233e+02,\n",
       "        6.12999691e+02,  1.53067843e+04,  3.58520110e+03,  5.52412952e+03,\n",
       "        5.24212816e+03, -2.76567891e+04, -1.00260627e+03, -2.10008353e+04,\n",
       "        1.79773387e+04,  1.69334609e+03,  5.55081867e+03,  0.00000000e+00,\n",
       "       -2.79572908e+03,  1.76318166e+04, -1.23039250e+03,  1.77894995e+04,\n",
       "       -2.06912927e+04, -6.61313997e+03, -7.83387408e+03,  2.04447927e+04,\n",
       "       -1.86606405e+04,  1.52864023e+04,  1.09961427e+04, -7.25285489e+03,\n",
       "       -7.71694359e+03, -3.32757136e+03, -2.39416416e+03, -1.11031260e+03,\n",
       "       -1.78589004e+04,  1.78329897e+02,  2.37632904e+03,  1.82548118e+04,\n",
       "        2.20000416e+03, -1.23868725e+04,  5.65920557e+03,  1.01793565e+04,\n",
       "        9.74011428e+03, -2.66541803e+03, -5.58932865e+03, -4.69346600e+03,\n",
       "        4.33504155e+03,  7.99489995e+02, -2.35681723e+03,  4.29264581e+02,\n",
       "        0.00000000e+00,  7.84709887e+02, -7.00499358e+03, -2.34107311e+02,\n",
       "        1.79357462e+04, -1.02446609e+04, -3.88696432e+03,  1.34818204e+04,\n",
       "       -5.83813665e+03, -1.01670835e+04, -7.54352273e+03, -6.42392660e+02,\n",
       "        1.53834272e+04, -9.19329480e+03,  2.65297046e+03,  1.90974175e+03,\n",
       "       -2.41974021e+04, -4.18803320e+03,  1.61876818e+04, -1.79683049e+03,\n",
       "        3.56418321e+03, -6.95702363e+03, -4.84414909e+02, -4.92072028e+03,\n",
       "        1.42464213e+04, -1.05906698e+04,  5.81685604e+03, -3.68700473e+03,\n",
       "       -2.07978510e+04,  1.24670706e+04, -9.62980937e+02,  4.52259244e+03,\n",
       "       -2.69692178e+02, -2.16334862e+02,  5.29959348e+03, -7.48242123e+03,\n",
       "       -6.42260423e+03,  5.26445335e+03, -3.33877430e+02,  0.00000000e+00,\n",
       "        2.78464318e+03,  2.22325481e+04, -1.54596601e+04, -3.04030132e+04,\n",
       "        2.75011827e+00,  2.91407065e+03,  1.12367834e+04, -1.87652117e+03,\n",
       "        2.55290052e+04, -4.10744296e+03, -2.62986371e+04, -2.35612113e+03,\n",
       "       -8.12862594e+03,  7.81508830e+03, -1.73335738e+04, -2.05517275e+03,\n",
       "        1.56184883e+04,  2.61002211e+03,  2.14900887e+04,  6.93430721e+03,\n",
       "       -1.01118784e+04,  1.56192070e+04,  6.38052175e+03,  4.08801482e+02,\n",
       "       -9.03594641e+03, -2.83087901e+03,  2.40808753e+04, -6.73085027e+03,\n",
       "       -9.17866772e+02, -5.88124007e+03, -3.11291478e+03,  5.57780014e+02,\n",
       "       -8.59263409e+03,  7.70466476e+03,  1.71948186e+04, -1.04719080e+04,\n",
       "       -2.41016575e+04, -1.32356707e+04,  1.68178756e+03,  1.35361986e+04,\n",
       "       -2.49641383e+04,  1.23340676e+04,  8.49130687e+03, -8.04316609e+03,\n",
       "       -7.68774057e+03, -2.87030516e+02,  5.99709125e+03,  6.28865767e+03,\n",
       "        1.65001107e+04, -7.53777785e+03, -7.12752027e+02, -1.13386347e+04,\n",
       "       -3.48666344e+03, -3.14323169e+03,  1.44424662e+04, -1.63657844e+04,\n",
       "        3.74576802e+04, -4.54504128e+03, -5.48997172e+03, -4.92491303e+03,\n",
       "        1.14610443e+02,  1.03378379e+04, -1.16954124e+04,  2.41519116e+03,\n",
       "        9.80821422e+03, -1.05642856e+04, -1.81972671e+04,  1.62599967e+04,\n",
       "        1.10622535e+04,  2.18197504e+03, -3.70092341e+03, -1.64890834e+04,\n",
       "       -1.81647044e+03,  4.36956211e+03, -3.91360844e+03, -2.96791398e+04,\n",
       "        9.07474892e+03,  7.52325865e+03, -9.60173055e+03, -2.13762651e+03,\n",
       "        1.39654758e+04, -3.51451907e+04,  5.04611924e+02,  1.96487125e+04,\n",
       "       -7.28501689e+03, -2.69038487e+03, -1.05550767e+04,  2.47971913e+03,\n",
       "       -1.74886161e+04,  1.06165173e+04, -5.91481865e+02,  4.53283021e+03,\n",
       "       -3.33034100e+03,  1.93819600e+04, -9.69032482e+03,  7.38884059e+02,\n",
       "       -1.09790270e+03,  1.49800649e+03, -7.51026021e+03, -4.39689265e+03,\n",
       "       -1.90000633e+04,  1.02387023e+04, -1.42437673e+03, -1.13651987e+04,\n",
       "        1.95144376e+03,  2.12546378e+03,  3.60252647e+04,  1.53272229e+03,\n",
       "       -1.98183040e+04,  1.29800106e+04, -4.60320087e+03,  1.96317271e+04,\n",
       "       -3.93092314e+03, -5.56657070e+03, -2.53318235e+03,  2.91597651e+03,\n",
       "        2.93210096e+03,  6.65794981e+03, -1.29557440e+04, -1.36534986e+04,\n",
       "       -5.42092171e+02,  2.34106935e+03,  2.70952919e+04, -7.15545751e+03,\n",
       "       -2.64836683e+04, -4.80692693e+03,  3.24631869e+04])"
      ]
     },
     "execution_count": 106,
     "metadata": {},
     "output_type": "execute_result"
    }
   ],
   "source": [
    "lasso_model.coef_"
   ]
  },
  {
   "cell_type": "code",
   "execution_count": 107,
   "id": "fe305efb",
   "metadata": {},
   "outputs": [],
   "source": [
    "lsm_df = pd.DataFrame(lasso_model.coef_, columns = [\"lasso_coef_1\"])"
   ]
  },
  {
   "cell_type": "code",
   "execution_count": 109,
   "id": "3c02b917",
   "metadata": {},
   "outputs": [
    {
     "data": {
      "text/html": [
       "<div>\n",
       "<style scoped>\n",
       "    .dataframe tbody tr th:only-of-type {\n",
       "        vertical-align: middle;\n",
       "    }\n",
       "\n",
       "    .dataframe tbody tr th {\n",
       "        vertical-align: top;\n",
       "    }\n",
       "\n",
       "    .dataframe thead th {\n",
       "        text-align: right;\n",
       "    }\n",
       "</style>\n",
       "<table border=\"1\" class=\"dataframe\">\n",
       "  <thead>\n",
       "    <tr style=\"text-align: right;\">\n",
       "      <th></th>\n",
       "      <th>lm_coef</th>\n",
       "      <th>ridge_coef_1</th>\n",
       "      <th>Ridge_cv_coef_0.99</th>\n",
       "      <th>lasso_coef_1</th>\n",
       "    </tr>\n",
       "  </thead>\n",
       "  <tbody>\n",
       "    <tr>\n",
       "      <th>0</th>\n",
       "      <td>-2941188.97852</td>\n",
       "      <td>99909.76114</td>\n",
       "      <td>99909.76114</td>\n",
       "      <td>224493.58669</td>\n",
       "    </tr>\n",
       "    <tr>\n",
       "      <th>1</th>\n",
       "      <td>-18894143.53005</td>\n",
       "      <td>8410.65967</td>\n",
       "      <td>8410.65967</td>\n",
       "      <td>86935.74506</td>\n",
       "    </tr>\n",
       "    <tr>\n",
       "      <th>2</th>\n",
       "      <td>-2971224.15483</td>\n",
       "      <td>32443.23026</td>\n",
       "      <td>32443.23026</td>\n",
       "      <td>138228.68562</td>\n",
       "    </tr>\n",
       "    <tr>\n",
       "      <th>3</th>\n",
       "      <td>45716066.29054</td>\n",
       "      <td>-9621.85616</td>\n",
       "      <td>-9621.85616</td>\n",
       "      <td>-10199.36127</td>\n",
       "    </tr>\n",
       "    <tr>\n",
       "      <th>4</th>\n",
       "      <td>-11229236.50035</td>\n",
       "      <td>38543.97387</td>\n",
       "      <td>38543.97387</td>\n",
       "      <td>127117.27150</td>\n",
       "    </tr>\n",
       "    <tr>\n",
       "      <th>...</th>\n",
       "      <td>...</td>\n",
       "      <td>...</td>\n",
       "      <td>...</td>\n",
       "      <td>...</td>\n",
       "    </tr>\n",
       "    <tr>\n",
       "      <th>246</th>\n",
       "      <td>3225352.93695</td>\n",
       "      <td>41886.34446</td>\n",
       "      <td>41886.34446</td>\n",
       "      <td>27095.29193</td>\n",
       "    </tr>\n",
       "    <tr>\n",
       "      <th>247</th>\n",
       "      <td>-133550.41157</td>\n",
       "      <td>5562.15449</td>\n",
       "      <td>5562.15449</td>\n",
       "      <td>-7155.45751</td>\n",
       "    </tr>\n",
       "    <tr>\n",
       "      <th>248</th>\n",
       "      <td>831598.26766</td>\n",
       "      <td>-37367.56730</td>\n",
       "      <td>-37367.56730</td>\n",
       "      <td>-26483.66832</td>\n",
       "    </tr>\n",
       "    <tr>\n",
       "      <th>249</th>\n",
       "      <td>63958.38326</td>\n",
       "      <td>-30809.27943</td>\n",
       "      <td>-30809.27943</td>\n",
       "      <td>-4806.92693</td>\n",
       "    </tr>\n",
       "    <tr>\n",
       "      <th>250</th>\n",
       "      <td>-48060.83083</td>\n",
       "      <td>28688.66707</td>\n",
       "      <td>28688.66707</td>\n",
       "      <td>32463.18689</td>\n",
       "    </tr>\n",
       "  </tbody>\n",
       "</table>\n",
       "<p>251 rows × 4 columns</p>\n",
       "</div>"
      ],
      "text/plain": [
       "            lm_coef  ridge_coef_1  Ridge_cv_coef_0.99  lasso_coef_1\n",
       "0    -2941188.97852   99909.76114         99909.76114  224493.58669\n",
       "1   -18894143.53005    8410.65967          8410.65967   86935.74506\n",
       "2    -2971224.15483   32443.23026         32443.23026  138228.68562\n",
       "3    45716066.29054   -9621.85616         -9621.85616  -10199.36127\n",
       "4   -11229236.50035   38543.97387         38543.97387  127117.27150\n",
       "..              ...           ...                 ...           ...\n",
       "246   3225352.93695   41886.34446         41886.34446   27095.29193\n",
       "247   -133550.41157    5562.15449          5562.15449   -7155.45751\n",
       "248    831598.26766  -37367.56730        -37367.56730  -26483.66832\n",
       "249     63958.38326  -30809.27943        -30809.27943   -4806.92693\n",
       "250    -48060.83083   28688.66707         28688.66707   32463.18689\n",
       "\n",
       "[251 rows x 4 columns]"
      ]
     },
     "execution_count": 109,
     "metadata": {},
     "output_type": "execute_result"
    }
   ],
   "source": [
    "pd.concat([lm_df, rm_df, rcm_df, lsm_df], axis=1)"
   ]
  },
  {
   "cell_type": "markdown",
   "id": "6ce27586",
   "metadata": {},
   "source": [
    "# Best alpha for Lasso"
   ]
  },
  {
   "cell_type": "code",
   "execution_count": 110,
   "id": "b61fc8c3",
   "metadata": {},
   "outputs": [
    {
     "data": {
      "text/plain": [
       "array([0.01, 0.02, 0.03, 0.04, 0.05, 0.06, 0.07, 0.08, 0.09, 0.1 , 0.11,\n",
       "       0.12, 0.13, 0.14, 0.15, 0.16, 0.17, 0.18, 0.19, 0.2 , 0.21, 0.22,\n",
       "       0.23, 0.24, 0.25, 0.26, 0.27, 0.28, 0.29, 0.3 , 0.31, 0.32, 0.33,\n",
       "       0.34, 0.35, 0.36, 0.37, 0.38, 0.39, 0.4 , 0.41, 0.42, 0.43, 0.44,\n",
       "       0.45, 0.46, 0.47, 0.48, 0.49, 0.5 , 0.51, 0.52, 0.53, 0.54, 0.55,\n",
       "       0.56, 0.57, 0.58, 0.59, 0.6 , 0.61, 0.62, 0.63, 0.64, 0.65, 0.66,\n",
       "       0.67, 0.68, 0.69, 0.7 , 0.71, 0.72, 0.73, 0.74, 0.75, 0.76, 0.77,\n",
       "       0.78, 0.79, 0.8 , 0.81, 0.82, 0.83, 0.84, 0.85, 0.86, 0.87, 0.88,\n",
       "       0.89, 0.9 , 0.91, 0.92, 0.93, 0.94, 0.95, 0.96, 0.97, 0.98, 0.99,\n",
       "       1.  ])"
      ]
     },
     "execution_count": 110,
     "metadata": {},
     "output_type": "execute_result"
    }
   ],
   "source": [
    "alpha_space = np.linspace(0.01,1,100)\n",
    "alpha_space"
   ]
  },
  {
   "cell_type": "code",
   "execution_count": 121,
   "id": "9070f8a7",
   "metadata": {},
   "outputs": [],
   "source": [
    "lasso_cv_model = LassoCV(alphas=alpha_space, cv=10, max_iter=100)"
   ]
  },
  {
   "cell_type": "code",
   "execution_count": 122,
   "id": "49210209",
   "metadata": {},
   "outputs": [
    {
     "data": {
      "text/plain": [
       "LassoCV(alphas=array([0.01, 0.02, 0.03, 0.04, 0.05, 0.06, 0.07, 0.08, 0.09, 0.1 , 0.11,\n",
       "       0.12, 0.13, 0.14, 0.15, 0.16, 0.17, 0.18, 0.19, 0.2 , 0.21, 0.22,\n",
       "       0.23, 0.24, 0.25, 0.26, 0.27, 0.28, 0.29, 0.3 , 0.31, 0.32, 0.33,\n",
       "       0.34, 0.35, 0.36, 0.37, 0.38, 0.39, 0.4 , 0.41, 0.42, 0.43, 0.44,\n",
       "       0.45, 0.46, 0.47, 0.48, 0.49, 0.5 , 0.51, 0.52, 0.53, 0.54, 0.55,\n",
       "       0.56, 0.57, 0.58, 0.59, 0.6 , 0.61, 0.62, 0.63, 0.64, 0.65, 0.66,\n",
       "       0.67, 0.68, 0.69, 0.7 , 0.71, 0.72, 0.73, 0.74, 0.75, 0.76, 0.77,\n",
       "       0.78, 0.79, 0.8 , 0.81, 0.82, 0.83, 0.84, 0.85, 0.86, 0.87, 0.88,\n",
       "       0.89, 0.9 , 0.91, 0.92, 0.93, 0.94, 0.95, 0.96, 0.97, 0.98, 0.99,\n",
       "       1.  ]),\n",
       "        cv=10, max_iter=100)"
      ]
     },
     "execution_count": 122,
     "metadata": {},
     "output_type": "execute_result"
    }
   ],
   "source": [
    "lasso_cv_model.fit(X_train, y_train)"
   ]
  },
  {
   "cell_type": "code",
   "execution_count": 123,
   "id": "5be5c7a2",
   "metadata": {},
   "outputs": [
    {
     "data": {
      "text/plain": [
       "1.0"
      ]
     },
     "execution_count": 123,
     "metadata": {},
     "output_type": "execute_result"
    }
   ],
   "source": [
    "lasso_cv_model.alpha_"
   ]
  },
  {
   "cell_type": "code",
   "execution_count": 124,
   "id": "192c1871",
   "metadata": {},
   "outputs": [
    {
     "name": "stdout",
     "output_type": "stream",
     "text": [
      "Model testing performance\n",
      "-------------------------\n",
      "R2_score \t: 0.918564522215636\n",
      "MAE \t\t: 80997.3060961915\n",
      "MSE \t\t: 10144159905.644348\n",
      "RMSE \t\t: 100718.22032603806\n"
     ]
    }
   ],
   "source": [
    "y_train_pred = lasso_cv_model.predict(X_train)\n",
    "eval_metrics(y_train,y_train_pred)"
   ]
  },
  {
   "cell_type": "code",
   "execution_count": 125,
   "id": "33949a50",
   "metadata": {},
   "outputs": [
    {
     "name": "stdout",
     "output_type": "stream",
     "text": [
      "Model testing performance\n",
      "-------------------------\n",
      "R2_score \t: 0.9173834476420605\n",
      "MAE \t\t: 81853.5980661642\n",
      "MSE \t\t: 10309213799.114174\n",
      "RMSE \t\t: 101534.2986340782\n"
     ]
    }
   ],
   "source": [
    "y_pred = lasso_cv_model.predict(X_test)\n",
    "eval_metrics(y_test, y_pred)"
   ]
  },
  {
   "cell_type": "code",
   "execution_count": 126,
   "id": "3668a1ba",
   "metadata": {},
   "outputs": [
    {
     "data": {
      "text/html": [
       "<div>\n",
       "<style scoped>\n",
       "    .dataframe tbody tr th:only-of-type {\n",
       "        vertical-align: middle;\n",
       "    }\n",
       "\n",
       "    .dataframe tbody tr th {\n",
       "        vertical-align: top;\n",
       "    }\n",
       "\n",
       "    .dataframe thead th {\n",
       "        text-align: right;\n",
       "    }\n",
       "</style>\n",
       "<table border=\"1\" class=\"dataframe\">\n",
       "  <thead>\n",
       "    <tr style=\"text-align: right;\">\n",
       "      <th></th>\n",
       "      <th>lasso_cv_train</th>\n",
       "      <th>lasso_cv_test</th>\n",
       "    </tr>\n",
       "  </thead>\n",
       "  <tbody>\n",
       "    <tr>\n",
       "      <th>rmse</th>\n",
       "      <td>100718.22033</td>\n",
       "      <td>101534.29863</td>\n",
       "    </tr>\n",
       "    <tr>\n",
       "      <th>mae</th>\n",
       "      <td>80997.30610</td>\n",
       "      <td>81853.59807</td>\n",
       "    </tr>\n",
       "    <tr>\n",
       "      <th>mse</th>\n",
       "      <td>10144159905.64435</td>\n",
       "      <td>10309213799.11417</td>\n",
       "    </tr>\n",
       "    <tr>\n",
       "      <th>R2</th>\n",
       "      <td>0.91856</td>\n",
       "      <td>0.91738</td>\n",
       "    </tr>\n",
       "  </tbody>\n",
       "</table>\n",
       "</div>"
      ],
      "text/plain": [
       "        lasso_cv_train     lasso_cv_test\n",
       "rmse      100718.22033      101534.29863\n",
       "mae        80997.30610       81853.59807\n",
       "mse  10144159905.64435 10309213799.11417\n",
       "R2             0.91856           0.91738"
      ]
     },
     "execution_count": 126,
     "metadata": {},
     "output_type": "execute_result"
    }
   ],
   "source": [
    "lasso_scores = {\"lasso_cv_train\": {\"rmse\": np.sqrt(mean_squared_error(y_train, y_train_pred)),\n",
    "                              \"mae\": mean_absolute_error(y_train, y_train_pred),\n",
    "                              \"mse\": mean_squared_error(y_train, y_train_pred),\n",
    "                              \"R2\": r2_score(y_train, y_train_pred)},\n",
    "              \"lasso_cv_test\":{\"rmse\": np.sqrt(mean_squared_error(y_test, y_pred)),\n",
    "                              \"mae\": mean_absolute_error(y_test, y_pred),\n",
    "                              \"mse\": mean_squared_error(y_test, y_pred),\n",
    "                              \"R2\": r2_score(y_test, y_pred)}}\n",
    "lcs = pd.DataFrame(lasso_scores)\n",
    "lcs"
   ]
  },
  {
   "cell_type": "code",
   "execution_count": 127,
   "id": "c3553521",
   "metadata": {},
   "outputs": [
    {
     "data": {
      "text/html": [
       "<div>\n",
       "<style scoped>\n",
       "    .dataframe tbody tr th:only-of-type {\n",
       "        vertical-align: middle;\n",
       "    }\n",
       "\n",
       "    .dataframe tbody tr th {\n",
       "        vertical-align: top;\n",
       "    }\n",
       "\n",
       "    .dataframe thead th {\n",
       "        text-align: right;\n",
       "    }\n",
       "</style>\n",
       "<table border=\"1\" class=\"dataframe\">\n",
       "  <thead>\n",
       "    <tr style=\"text-align: right;\">\n",
       "      <th></th>\n",
       "      <th>lm_train</th>\n",
       "      <th>lm_test</th>\n",
       "      <th>ridge_train</th>\n",
       "      <th>ridge_test</th>\n",
       "      <th>ridge_cv_train</th>\n",
       "      <th>ridge_cv_test</th>\n",
       "      <th>lasso_train</th>\n",
       "      <th>lasso_test</th>\n",
       "      <th>lasso_cv_train</th>\n",
       "      <th>lasso_cv_test</th>\n",
       "    </tr>\n",
       "  </thead>\n",
       "  <tbody>\n",
       "    <tr>\n",
       "      <th>rmse</th>\n",
       "      <td>97653.83031</td>\n",
       "      <td>108591.04995</td>\n",
       "      <td>100246.78634</td>\n",
       "      <td>102051.52294</td>\n",
       "      <td>100246.78634</td>\n",
       "      <td>102051.52294</td>\n",
       "      <td>100438.65804</td>\n",
       "      <td>101978.13108</td>\n",
       "      <td>100718.22033</td>\n",
       "      <td>101534.29863</td>\n",
       "    </tr>\n",
       "    <tr>\n",
       "      <th>mae</th>\n",
       "      <td>78525.06702</td>\n",
       "      <td>86256.85206</td>\n",
       "      <td>80667.32244</td>\n",
       "      <td>82104.08674</td>\n",
       "      <td>80667.32244</td>\n",
       "      <td>82104.08674</td>\n",
       "      <td>80828.48002</td>\n",
       "      <td>82098.42355</td>\n",
       "      <td>80997.30610</td>\n",
       "      <td>81853.59807</td>\n",
       "    </tr>\n",
       "    <tr>\n",
       "      <th>mse</th>\n",
       "      <td>9536270574.91490</td>\n",
       "      <td>11792016129.79281</td>\n",
       "      <td>10049418171.92053</td>\n",
       "      <td>10414513334.35382</td>\n",
       "      <td>10049418171.92053</td>\n",
       "      <td>10414513334.35382</td>\n",
       "      <td>10087924029.42817</td>\n",
       "      <td>10399539218.93453</td>\n",
       "      <td>10144159905.64435</td>\n",
       "      <td>10309213799.11417</td>\n",
       "    </tr>\n",
       "    <tr>\n",
       "      <th>R2</th>\n",
       "      <td>0.92344</td>\n",
       "      <td>0.90550</td>\n",
       "      <td>0.91933</td>\n",
       "      <td>0.91654</td>\n",
       "      <td>0.91933</td>\n",
       "      <td>0.91654</td>\n",
       "      <td>0.91902</td>\n",
       "      <td>0.91666</td>\n",
       "      <td>0.91856</td>\n",
       "      <td>0.91738</td>\n",
       "    </tr>\n",
       "  </tbody>\n",
       "</table>\n",
       "</div>"
      ],
      "text/plain": [
       "             lm_train           lm_test       ridge_train        ridge_test  \\\n",
       "rmse      97653.83031      108591.04995      100246.78634      102051.52294   \n",
       "mae       78525.06702       86256.85206       80667.32244       82104.08674   \n",
       "mse  9536270574.91490 11792016129.79281 10049418171.92053 10414513334.35382   \n",
       "R2            0.92344           0.90550           0.91933           0.91654   \n",
       "\n",
       "        ridge_cv_train     ridge_cv_test       lasso_train        lasso_test  \\\n",
       "rmse      100246.78634      102051.52294      100438.65804      101978.13108   \n",
       "mae        80667.32244       82104.08674       80828.48002       82098.42355   \n",
       "mse  10049418171.92053 10414513334.35382 10087924029.42817 10399539218.93453   \n",
       "R2             0.91933           0.91654           0.91902           0.91666   \n",
       "\n",
       "        lasso_cv_train     lasso_cv_test  \n",
       "rmse      100718.22033      101534.29863  \n",
       "mae        80997.30610       81853.59807  \n",
       "mse  10144159905.64435 10309213799.11417  \n",
       "R2             0.91856           0.91738  "
      ]
     },
     "execution_count": 127,
     "metadata": {},
     "output_type": "execute_result"
    }
   ],
   "source": [
    "pd.concat([mls,rs,rcs,lss,lcs],axis=1)"
   ]
  },
  {
   "cell_type": "code",
   "execution_count": 128,
   "id": "c84dd387",
   "metadata": {},
   "outputs": [
    {
     "data": {
      "text/plain": [
       "array([ 2.31682960e+05,  1.54809754e+05,  1.18912986e+05,  7.85917188e+03,\n",
       "        1.41051579e+05,  6.14927857e+03, -3.08430238e+03, -4.95672853e+03,\n",
       "        4.34163863e+03,  4.70049538e+03,  1.32725786e+04, -1.05379566e+02,\n",
       "       -7.08470893e+02, -2.89201356e+03, -5.88643068e+03,  6.38585322e+02,\n",
       "        9.89418541e+02,  1.26860500e+03,  2.61142966e+03,  5.21517468e+03,\n",
       "        1.34171714e+03, -6.11120002e+03, -4.57351478e+01, -6.44272741e+02,\n",
       "        2.72949285e+03,  1.87676675e+03,  2.25934476e+03,  1.23503694e+03,\n",
       "       -7.40508759e+03, -2.21590883e+03, -2.34477311e+03,  2.17701756e+03,\n",
       "       -2.28520447e+03,  2.39402746e+03,  1.58987345e+03,  8.55018179e+03,\n",
       "        4.45925100e+03, -3.20866418e+03, -3.29376146e+03, -8.04903516e+02,\n",
       "       -4.70372846e+02,  2.79992949e+03, -2.67890398e+03,  5.56964031e+02,\n",
       "       -8.19262146e+02, -2.85027098e+01, -3.38167342e+02, -4.37414060e+03,\n",
       "        2.87568696e+03,  4.81701745e+02,  2.15572651e+03, -7.87841668e+01,\n",
       "        4.89601818e+02,  1.44698800e+03,  1.31835045e+03,  4.03866870e+03,\n",
       "       -5.62951662e+03, -2.06900278e+03,  1.33047964e+02,  3.51819331e+03,\n",
       "       -1.22304643e+03,  1.30219318e+03,  5.37593624e+03, -7.23076545e+03,\n",
       "       -2.29447760e+03, -2.92792290e+03,  2.79512872e+03, -4.03992016e+03,\n",
       "        3.28605780e+03,  8.41780406e+01,  2.71770750e+03,  4.71137061e+03,\n",
       "        2.79030266e+03, -6.34482724e+03, -1.03540555e+02,  7.84876497e+02,\n",
       "        2.92791827e+03, -4.08466461e+03,  1.27470554e+03, -3.14723507e+03,\n",
       "        2.19375513e+03, -2.56569479e+03, -5.42445640e+02, -1.48288087e+03,\n",
       "        1.64031955e+03,  7.18831132e+02, -3.03849411e+03,  2.77337029e+03,\n",
       "        1.54173198e+03, -1.47156317e+03, -1.72375220e+03,  4.31331829e+03,\n",
       "       -1.97210703e+03,  2.44248543e+03, -3.57076702e+03,  5.66044286e+01,\n",
       "        6.30954218e+03, -6.78657314e+03,  2.78195862e+02, -1.92863137e+03,\n",
       "       -1.89496626e+03,  1.60260401e+03,  1.68206295e+03, -6.15782059e+02,\n",
       "       -1.24545092e+02, -8.16886096e+02, -5.71565172e+02, -7.72086836e+02,\n",
       "       -3.38552232e+02, -2.29773418e+03,  5.75776179e+03, -1.95512127e+02,\n",
       "       -5.82179127e+03,  4.32896521e+03, -1.85681128e+03,  1.09101794e+03,\n",
       "        1.87692171e+03, -8.46352475e+01, -5.11326823e+02,  9.32447210e+02,\n",
       "        7.08981278e+02,  2.03446709e+03, -2.00721780e+03, -1.00855613e+03,\n",
       "        3.99445172e+03,  5.06701490e+03, -4.96573184e+03, -6.31843275e+03,\n",
       "        1.41292580e+03,  4.20261665e+03,  2.17764760e+02, -2.45533820e+03,\n",
       "        8.75065942e+03, -6.05418409e+03, -7.25075172e+03, -2.14269513e+03,\n",
       "        2.92896098e+03, -3.81513261e+03,  4.44285672e+03,  1.54539242e+02,\n",
       "        3.42007496e+03,  2.53202355e+03,  8.67128635e+03, -7.37137382e+03,\n",
       "       -3.19549972e+03,  2.53440731e+03,  2.01046667e+03, -3.26603284e+03,\n",
       "        2.43827543e+03, -3.32833617e+03,  1.38430769e+03, -5.02291887e+03,\n",
       "        1.38175289e+03, -4.62209460e+03,  2.68751875e+03,  1.62146307e+02,\n",
       "       -5.08671170e+03,  4.94672617e+03,  1.84994645e+03, -2.92909976e+03,\n",
       "       -4.41218734e+03,  3.80616485e+03,  4.01318604e+03, -4.38380197e+02,\n",
       "       -3.74467751e+03,  3.42776197e+03,  4.61306944e+03, -5.72326194e+03,\n",
       "        7.43592111e+02, -3.23110084e+03,  2.05494130e+02,  1.20878375e+03,\n",
       "        3.72834649e+03, -3.55513419e+03,  9.84784606e+02, -1.74563168e+03,\n",
       "       -2.76224507e+03,  1.05765085e+03,  8.00272336e+01, -4.51077484e+03,\n",
       "        9.70739663e+03, -2.35502910e+03, -2.49822513e+03, -3.75351798e+02,\n",
       "       -4.58527695e+02,  1.49393268e+03, -1.36452473e+03,  1.26097041e+03,\n",
       "        3.10032026e+02, -7.36237131e+02, -2.26968013e+03,  4.24817855e+03,\n",
       "        3.44107299e+02, -1.13734839e+03,  1.56919516e+03, -1.20618527e+04,\n",
       "        2.68645533e+03,  1.86599889e+02,  8.26334147e+03, -1.09237454e+04,\n",
       "        1.79390792e+03,  1.03357611e+04, -1.04456621e+04,  1.72428359e+03,\n",
       "        1.16979864e+03, -7.69165635e+03,  3.83791991e+03,  4.88639140e+03,\n",
       "       -3.03498898e+03, -6.84386937e+02, -1.07314123e+03, -8.11838767e+02,\n",
       "       -3.21300770e+03, -1.35976759e+03, -2.78138909e+03,  2.07805696e+03,\n",
       "        3.32795256e+03,  9.76297393e+02,  8.45729849e+02, -1.35460223e+03,\n",
       "        5.72762595e+02,  1.65265935e+03, -2.17339770e+03, -2.21590024e+03,\n",
       "       -1.77614974e+03,  3.45885767e+03, -7.12033008e+01, -3.52275217e+03,\n",
       "       -1.66942938e+03,  1.60564179e+03,  9.47779201e+03,  2.59567396e+02,\n",
       "       -6.40618835e+03,  5.27819532e+03, -3.80330983e+03,  1.47685887e+03,\n",
       "        3.34362059e+03, -1.80294736e+03, -2.26375151e+03,  1.67084514e+03,\n",
       "        3.60970042e+03,  1.36826722e+03, -3.69862163e+03, -2.81111559e+03,\n",
       "        3.66477205e+03,  3.00537631e+03,  5.16631497e+03, -2.81144058e+03,\n",
       "       -6.19397925e+03, -4.37003994e+02,  8.79112935e+03])"
      ]
     },
     "execution_count": 128,
     "metadata": {},
     "output_type": "execute_result"
    }
   ],
   "source": [
    "lasso_cv_model.coef_"
   ]
  },
  {
   "cell_type": "code",
   "execution_count": 130,
   "id": "ab61c65e",
   "metadata": {},
   "outputs": [],
   "source": [
    "lcm_df = pd.DataFrame(lasso_cv_model.coef_, columns=[\"lasso_cv_coef_1\"])"
   ]
  },
  {
   "cell_type": "code",
   "execution_count": 131,
   "id": "793a85b5",
   "metadata": {},
   "outputs": [
    {
     "data": {
      "text/html": [
       "<div>\n",
       "<style scoped>\n",
       "    .dataframe tbody tr th:only-of-type {\n",
       "        vertical-align: middle;\n",
       "    }\n",
       "\n",
       "    .dataframe tbody tr th {\n",
       "        vertical-align: top;\n",
       "    }\n",
       "\n",
       "    .dataframe thead th {\n",
       "        text-align: right;\n",
       "    }\n",
       "</style>\n",
       "<table border=\"1\" class=\"dataframe\">\n",
       "  <thead>\n",
       "    <tr style=\"text-align: right;\">\n",
       "      <th></th>\n",
       "      <th>lm_coef</th>\n",
       "      <th>ridge_coef_1</th>\n",
       "      <th>Ridge_cv_coef_0.99</th>\n",
       "      <th>lasso_cv_coef_1</th>\n",
       "    </tr>\n",
       "  </thead>\n",
       "  <tbody>\n",
       "    <tr>\n",
       "      <th>0</th>\n",
       "      <td>-2941188.97852</td>\n",
       "      <td>99909.76114</td>\n",
       "      <td>99909.76114</td>\n",
       "      <td>231682.96034</td>\n",
       "    </tr>\n",
       "    <tr>\n",
       "      <th>1</th>\n",
       "      <td>-18894143.53005</td>\n",
       "      <td>8410.65967</td>\n",
       "      <td>8410.65967</td>\n",
       "      <td>154809.75353</td>\n",
       "    </tr>\n",
       "    <tr>\n",
       "      <th>2</th>\n",
       "      <td>-2971224.15483</td>\n",
       "      <td>32443.23026</td>\n",
       "      <td>32443.23026</td>\n",
       "      <td>118912.98593</td>\n",
       "    </tr>\n",
       "    <tr>\n",
       "      <th>3</th>\n",
       "      <td>45716066.29054</td>\n",
       "      <td>-9621.85616</td>\n",
       "      <td>-9621.85616</td>\n",
       "      <td>7859.17188</td>\n",
       "    </tr>\n",
       "    <tr>\n",
       "      <th>4</th>\n",
       "      <td>-11229236.50035</td>\n",
       "      <td>38543.97387</td>\n",
       "      <td>38543.97387</td>\n",
       "      <td>141051.57867</td>\n",
       "    </tr>\n",
       "    <tr>\n",
       "      <th>...</th>\n",
       "      <td>...</td>\n",
       "      <td>...</td>\n",
       "      <td>...</td>\n",
       "      <td>...</td>\n",
       "    </tr>\n",
       "    <tr>\n",
       "      <th>246</th>\n",
       "      <td>3225352.93695</td>\n",
       "      <td>41886.34446</td>\n",
       "      <td>41886.34446</td>\n",
       "      <td>5166.31497</td>\n",
       "    </tr>\n",
       "    <tr>\n",
       "      <th>247</th>\n",
       "      <td>-133550.41157</td>\n",
       "      <td>5562.15449</td>\n",
       "      <td>5562.15449</td>\n",
       "      <td>-2811.44058</td>\n",
       "    </tr>\n",
       "    <tr>\n",
       "      <th>248</th>\n",
       "      <td>831598.26766</td>\n",
       "      <td>-37367.56730</td>\n",
       "      <td>-37367.56730</td>\n",
       "      <td>-6193.97925</td>\n",
       "    </tr>\n",
       "    <tr>\n",
       "      <th>249</th>\n",
       "      <td>63958.38326</td>\n",
       "      <td>-30809.27943</td>\n",
       "      <td>-30809.27943</td>\n",
       "      <td>-437.00399</td>\n",
       "    </tr>\n",
       "    <tr>\n",
       "      <th>250</th>\n",
       "      <td>-48060.83083</td>\n",
       "      <td>28688.66707</td>\n",
       "      <td>28688.66707</td>\n",
       "      <td>8791.12935</td>\n",
       "    </tr>\n",
       "  </tbody>\n",
       "</table>\n",
       "<p>251 rows × 4 columns</p>\n",
       "</div>"
      ],
      "text/plain": [
       "            lm_coef  ridge_coef_1  Ridge_cv_coef_0.99  lasso_cv_coef_1\n",
       "0    -2941188.97852   99909.76114         99909.76114     231682.96034\n",
       "1   -18894143.53005    8410.65967          8410.65967     154809.75353\n",
       "2    -2971224.15483   32443.23026         32443.23026     118912.98593\n",
       "3    45716066.29054   -9621.85616         -9621.85616       7859.17188\n",
       "4   -11229236.50035   38543.97387         38543.97387     141051.57867\n",
       "..              ...           ...                 ...              ...\n",
       "246   3225352.93695   41886.34446         41886.34446       5166.31497\n",
       "247   -133550.41157    5562.15449          5562.15449      -2811.44058\n",
       "248    831598.26766  -37367.56730        -37367.56730      -6193.97925\n",
       "249     63958.38326  -30809.27943        -30809.27943       -437.00399\n",
       "250    -48060.83083   28688.66707         28688.66707       8791.12935\n",
       "\n",
       "[251 rows x 4 columns]"
      ]
     },
     "execution_count": 131,
     "metadata": {},
     "output_type": "execute_result"
    }
   ],
   "source": [
    "pd.concat([lm_df, rm_df, rcm_df, lcm_df],axis=1) "
   ]
  },
  {
   "cell_type": "markdown",
   "id": "7e558853",
   "metadata": {},
   "source": [
    "# Elastik Net"
   ]
  },
  {
   "cell_type": "code",
   "execution_count": 132,
   "id": "6e17e1fd",
   "metadata": {},
   "outputs": [],
   "source": [
    "from sklearn.linear_model import ElasticNet, ElasticNetCV"
   ]
  },
  {
   "cell_type": "code",
   "execution_count": 133,
   "id": "966dadfc",
   "metadata": {},
   "outputs": [],
   "source": [
    "elastic_model = ElasticNet()"
   ]
  },
  {
   "cell_type": "code",
   "execution_count": 134,
   "id": "401c1317",
   "metadata": {},
   "outputs": [
    {
     "data": {
      "text/plain": [
       "ElasticNet()"
      ]
     },
     "execution_count": 134,
     "metadata": {},
     "output_type": "execute_result"
    }
   ],
   "source": [
    "elastic_model.fit(X_train, y_train)"
   ]
  },
  {
   "cell_type": "code",
   "execution_count": 135,
   "id": "52ce8b25",
   "metadata": {},
   "outputs": [],
   "source": [
    "y_train_pred = elastic_model.predict(X_train)"
   ]
  },
  {
   "cell_type": "code",
   "execution_count": 136,
   "id": "8f9f8def",
   "metadata": {},
   "outputs": [
    {
     "name": "stdout",
     "output_type": "stream",
     "text": [
      "Model testing performance\n",
      "-------------------------\n",
      "R2_score \t: 0.9036153715092975\n",
      "MAE \t\t: 87256.36099837183\n",
      "MSE \t\t: 12006328328.3584\n",
      "RMSE \t\t: 109573.39242881184\n"
     ]
    }
   ],
   "source": [
    "eval_metrics(y_train, y_train_pred)"
   ]
  },
  {
   "cell_type": "code",
   "execution_count": 137,
   "id": "e5cda936",
   "metadata": {},
   "outputs": [],
   "source": [
    "y_pred = elastic_model.predict(X_test)"
   ]
  },
  {
   "cell_type": "code",
   "execution_count": 138,
   "id": "83d3aef2",
   "metadata": {},
   "outputs": [
    {
     "name": "stdout",
     "output_type": "stream",
     "text": [
      "Model testing performance\n",
      "-------------------------\n",
      "R2_score \t: 0.9020488354085195\n",
      "MAE \t\t: 88146.9600655108\n",
      "MSE \t\t: 12222726182.893684\n",
      "RMSE \t\t: 110556.43890291368\n"
     ]
    }
   ],
   "source": [
    "eval_metrics(y_test, y_pred)"
   ]
  },
  {
   "cell_type": "code",
   "execution_count": 139,
   "id": "0ac781b6",
   "metadata": {},
   "outputs": [
    {
     "data": {
      "text/html": [
       "<div>\n",
       "<style scoped>\n",
       "    .dataframe tbody tr th:only-of-type {\n",
       "        vertical-align: middle;\n",
       "    }\n",
       "\n",
       "    .dataframe tbody tr th {\n",
       "        vertical-align: top;\n",
       "    }\n",
       "\n",
       "    .dataframe thead th {\n",
       "        text-align: right;\n",
       "    }\n",
       "</style>\n",
       "<table border=\"1\" class=\"dataframe\">\n",
       "  <thead>\n",
       "    <tr style=\"text-align: right;\">\n",
       "      <th></th>\n",
       "      <th>elastic_train</th>\n",
       "      <th>elastic_test</th>\n",
       "    </tr>\n",
       "  </thead>\n",
       "  <tbody>\n",
       "    <tr>\n",
       "      <th>rmse</th>\n",
       "      <td>109573.39243</td>\n",
       "      <td>110556.43890</td>\n",
       "    </tr>\n",
       "    <tr>\n",
       "      <th>mae</th>\n",
       "      <td>87256.36100</td>\n",
       "      <td>88146.96007</td>\n",
       "    </tr>\n",
       "    <tr>\n",
       "      <th>mse</th>\n",
       "      <td>12006328328.35840</td>\n",
       "      <td>12222726182.89368</td>\n",
       "    </tr>\n",
       "    <tr>\n",
       "      <th>R2</th>\n",
       "      <td>0.90362</td>\n",
       "      <td>0.90205</td>\n",
       "    </tr>\n",
       "  </tbody>\n",
       "</table>\n",
       "</div>"
      ],
      "text/plain": [
       "         elastic_train      elastic_test\n",
       "rmse      109573.39243      110556.43890\n",
       "mae        87256.36100       88146.96007\n",
       "mse  12006328328.35840 12222726182.89368\n",
       "R2             0.90362           0.90205"
      ]
     },
     "execution_count": 139,
     "metadata": {},
     "output_type": "execute_result"
    }
   ],
   "source": [
    "elastic_scores = {\"elastic_train\": {\"rmse\": np.sqrt(mean_squared_error(y_train, y_train_pred)),\n",
    "                              \"mae\": mean_absolute_error(y_train, y_train_pred),\n",
    "                              \"mse\": mean_squared_error(y_train, y_train_pred),\n",
    "                              \"R2\": r2_score(y_train, y_train_pred)},\n",
    "              \"elastic_test\":{\"rmse\": np.sqrt(mean_squared_error(y_test, y_pred)),\n",
    "                              \"mae\": mean_absolute_error(y_test, y_pred),\n",
    "                              \"mse\": mean_squared_error(y_test, y_pred),\n",
    "                              \"R2\": r2_score(y_test, y_pred)}}\n",
    "es = pd.DataFrame(elastic_scores)\n",
    "es"
   ]
  },
  {
   "cell_type": "code",
   "execution_count": 140,
   "id": "a97de6be",
   "metadata": {},
   "outputs": [
    {
     "data": {
      "text/html": [
       "<div>\n",
       "<style scoped>\n",
       "    .dataframe tbody tr th:only-of-type {\n",
       "        vertical-align: middle;\n",
       "    }\n",
       "\n",
       "    .dataframe tbody tr th {\n",
       "        vertical-align: top;\n",
       "    }\n",
       "\n",
       "    .dataframe thead th {\n",
       "        text-align: right;\n",
       "    }\n",
       "</style>\n",
       "<table border=\"1\" class=\"dataframe\">\n",
       "  <thead>\n",
       "    <tr style=\"text-align: right;\">\n",
       "      <th></th>\n",
       "      <th>lm_train</th>\n",
       "      <th>lm_test</th>\n",
       "      <th>ridge_train</th>\n",
       "      <th>ridge_test</th>\n",
       "      <th>ridge_cv_train</th>\n",
       "      <th>ridge_cv_test</th>\n",
       "      <th>lasso_train</th>\n",
       "      <th>lasso_test</th>\n",
       "      <th>lasso_cv_train</th>\n",
       "      <th>lasso_cv_test</th>\n",
       "      <th>elastic_train</th>\n",
       "      <th>elastic_test</th>\n",
       "    </tr>\n",
       "  </thead>\n",
       "  <tbody>\n",
       "    <tr>\n",
       "      <th>rmse</th>\n",
       "      <td>97653.83031</td>\n",
       "      <td>108591.04995</td>\n",
       "      <td>100246.78634</td>\n",
       "      <td>102051.52294</td>\n",
       "      <td>100246.78634</td>\n",
       "      <td>102051.52294</td>\n",
       "      <td>100438.65804</td>\n",
       "      <td>101978.13108</td>\n",
       "      <td>100718.22033</td>\n",
       "      <td>101534.29863</td>\n",
       "      <td>109573.39243</td>\n",
       "      <td>110556.43890</td>\n",
       "    </tr>\n",
       "    <tr>\n",
       "      <th>mae</th>\n",
       "      <td>78525.06702</td>\n",
       "      <td>86256.85206</td>\n",
       "      <td>80667.32244</td>\n",
       "      <td>82104.08674</td>\n",
       "      <td>80667.32244</td>\n",
       "      <td>82104.08674</td>\n",
       "      <td>80828.48002</td>\n",
       "      <td>82098.42355</td>\n",
       "      <td>80997.30610</td>\n",
       "      <td>81853.59807</td>\n",
       "      <td>87256.36100</td>\n",
       "      <td>88146.96007</td>\n",
       "    </tr>\n",
       "    <tr>\n",
       "      <th>mse</th>\n",
       "      <td>9536270574.91490</td>\n",
       "      <td>11792016129.79281</td>\n",
       "      <td>10049418171.92053</td>\n",
       "      <td>10414513334.35382</td>\n",
       "      <td>10049418171.92053</td>\n",
       "      <td>10414513334.35382</td>\n",
       "      <td>10087924029.42817</td>\n",
       "      <td>10399539218.93453</td>\n",
       "      <td>10144159905.64435</td>\n",
       "      <td>10309213799.11417</td>\n",
       "      <td>12006328328.35840</td>\n",
       "      <td>12222726182.89368</td>\n",
       "    </tr>\n",
       "    <tr>\n",
       "      <th>R2</th>\n",
       "      <td>0.92344</td>\n",
       "      <td>0.90550</td>\n",
       "      <td>0.91933</td>\n",
       "      <td>0.91654</td>\n",
       "      <td>0.91933</td>\n",
       "      <td>0.91654</td>\n",
       "      <td>0.91902</td>\n",
       "      <td>0.91666</td>\n",
       "      <td>0.91856</td>\n",
       "      <td>0.91738</td>\n",
       "      <td>0.90362</td>\n",
       "      <td>0.90205</td>\n",
       "    </tr>\n",
       "  </tbody>\n",
       "</table>\n",
       "</div>"
      ],
      "text/plain": [
       "             lm_train           lm_test       ridge_train        ridge_test  \\\n",
       "rmse      97653.83031      108591.04995      100246.78634      102051.52294   \n",
       "mae       78525.06702       86256.85206       80667.32244       82104.08674   \n",
       "mse  9536270574.91490 11792016129.79281 10049418171.92053 10414513334.35382   \n",
       "R2            0.92344           0.90550           0.91933           0.91654   \n",
       "\n",
       "        ridge_cv_train     ridge_cv_test       lasso_train        lasso_test  \\\n",
       "rmse      100246.78634      102051.52294      100438.65804      101978.13108   \n",
       "mae        80667.32244       82104.08674       80828.48002       82098.42355   \n",
       "mse  10049418171.92053 10414513334.35382 10087924029.42817 10399539218.93453   \n",
       "R2             0.91933           0.91654           0.91902           0.91666   \n",
       "\n",
       "        lasso_cv_train     lasso_cv_test     elastic_train      elastic_test  \n",
       "rmse      100718.22033      101534.29863      109573.39243      110556.43890  \n",
       "mae        80997.30610       81853.59807       87256.36100       88146.96007  \n",
       "mse  10144159905.64435 10309213799.11417 12006328328.35840 12222726182.89368  \n",
       "R2             0.91856           0.91738           0.90362           0.90205  "
      ]
     },
     "execution_count": 140,
     "metadata": {},
     "output_type": "execute_result"
    }
   ],
   "source": [
    "pd.concat([mls,rs,rcs,lss,lcs,es], axis=1)"
   ]
  },
  {
   "cell_type": "code",
   "execution_count": 141,
   "id": "faf8b1ab",
   "metadata": {},
   "outputs": [
    {
     "data": {
      "text/plain": [
       "array([ 1.83626775e+04,  1.00085422e+04,  4.43867044e+03, -1.25284679e+03,\n",
       "        8.17532729e+03,  1.43751914e+04,  1.56843080e+04,  1.30757196e+04,\n",
       "        4.61719798e+03,  1.25163777e+04,  7.92181905e+03,  8.61271798e+03,\n",
       "        1.92774271e+03,  8.97490705e+03,  3.25517564e+03,  4.39844193e+02,\n",
       "        7.18482747e+03, -5.14376951e+02,  2.84616420e+03,  5.61972212e+03,\n",
       "        1.03064640e+04,  1.20180831e+04,  1.04992191e+04,  5.17614337e+03,\n",
       "        1.05198943e+04,  9.94949301e+03,  1.13621456e+04,  4.57375157e+03,\n",
       "        1.01823146e+04,  7.26845123e+03,  3.43184187e+03,  9.20633281e+03,\n",
       "        1.27166442e+03,  4.59582798e+03,  6.50207752e+03,  5.74031123e+03,\n",
       "        6.57629506e+03,  2.04141029e+03,  6.46763804e+03,  5.08302249e+03,\n",
       "        1.70749647e+03,  6.83330229e+03,  1.57846763e+01,  2.50433970e+03,\n",
       "        4.61865532e+03,  1.96458495e+03,  5.67455396e+02,  4.46309653e+03,\n",
       "       -3.73085023e+01,  1.95133063e+03,  4.10979224e+03, -2.17233965e+02,\n",
       "        4.91906520e+02,  1.64008826e+03,  3.13649553e+03,  6.22935489e+03,\n",
       "        7.25948397e+03,  6.23757196e+03,  2.81146028e+03,  6.40702567e+03,\n",
       "        7.18776516e+03,  7.36544553e+03,  2.91535163e+03,  6.62430934e+03,\n",
       "        5.35146033e+03,  2.34605746e+03,  6.07021316e+03,  4.29329001e+02,\n",
       "        2.58901358e+03,  4.41357133e+03,  5.51074185e+03,  6.21544639e+03,\n",
       "        1.86537061e+03,  5.29378280e+03,  5.24073823e+03,  1.78880623e+03,\n",
       "        5.63209651e+03, -1.59604584e+02,  1.56512001e+03,  3.38189457e+03,\n",
       "        2.99841016e+03,  1.12416375e+03,  4.13153855e+03,  2.65470850e+01,\n",
       "        1.45409534e+03,  3.23353290e+03, -4.85649866e+02, -1.33617542e+02,\n",
       "        7.40661850e+02,  2.21884271e+03,  3.21936263e+03,  3.52693329e+03,\n",
       "        7.06901644e+01,  3.02637141e+03,  2.97206866e+03,  9.48306118e+01,\n",
       "        3.28758419e+03, -1.42185824e+03, -2.60063437e+02,  1.79632616e+03,\n",
       "        1.60442075e+03, -1.91857315e+02,  2.60390155e+03, -1.01658196e+03,\n",
       "       -6.26553553e+01,  1.84755808e+03, -1.27476165e+03, -1.36944679e+03,\n",
       "       -7.50308963e+02,  9.89362377e+02,  2.04563716e+02, -5.62644731e+02,\n",
       "        1.30966097e+03, -7.28793323e+02, -6.92259765e+01,  1.46556387e+03,\n",
       "       -6.15933977e+02, -6.25018217e+02, -2.55128167e+02,  1.24293615e+03,\n",
       "       -4.27971287e+02, -6.70604811e+02, -1.08167662e+03, -5.37471849e+02,\n",
       "        1.07375749e+03,  1.87308887e+03,  2.14849604e+03,  1.45774396e+03,\n",
       "       -8.67085202e+02,  1.71454402e+03,  2.42739927e+03,  1.94512272e+03,\n",
       "       -8.49138929e+02,  1.59612145e+03,  1.25512929e+03, -7.92195008e+02,\n",
       "        1.43597149e+03, -1.91067387e+03, -8.82818046e+02,  1.03851593e+03,\n",
       "        2.41928446e+03,  2.26480795e+03, -8.36172133e+02,  1.46645425e+03,\n",
       "        1.71586672e+03, -6.58184737e+02,  1.49159139e+03, -1.86227145e+03,\n",
       "       -1.25916227e+03,  4.99280923e+02,  1.14111023e+03, -3.21464408e+02,\n",
       "        1.33868495e+03, -1.06446884e+03, -5.48360674e+02,  8.99027373e+02,\n",
       "       -1.34588311e+03, -1.44244376e+03, -9.22338640e+02,  5.54955279e+02,\n",
       "        2.00343328e+03,  2.07397617e+03, -8.62610963e+02,  1.25835125e+03,\n",
       "        1.80069258e+03, -5.61506019e+02,  1.45258792e+03, -1.76172398e+03,\n",
       "       -1.38251335e+03,  2.07264918e+02,  1.32979999e+03, -1.47547810e+02,\n",
       "        1.46906933e+03, -8.56191427e+02, -6.09601794e+02,  6.04520780e+02,\n",
       "       -1.07887565e+03, -1.52889474e+03, -1.41002389e+03, -4.95058537e+01,\n",
       "        9.65832683e+02,  3.17616410e+02,  1.33342630e+03,  4.80202709e+01,\n",
       "        2.47465771e+02,  1.03413197e+03,  1.93461911e+01, -2.20540694e+02,\n",
       "       -2.98753956e+02,  6.77931076e+02,  7.45952662e+01, -2.99255669e+02,\n",
       "       -9.04943651e+02, -7.21720824e+02,  5.09050735e+02,  1.32684691e+03,\n",
       "        1.52719417e+03, -9.09852449e+02,  9.75253307e+02,  1.42329838e+03,\n",
       "       -5.33373689e+02,  1.25890794e+03, -1.61717318e+03, -1.25565224e+03,\n",
       "        1.57280525e+02,  1.09322864e+03, -1.66317538e+02,  1.34020926e+03,\n",
       "       -7.80825765e+02, -5.99503940e+02,  4.67021964e+02, -9.73846876e+02,\n",
       "       -1.55138765e+03, -1.58934891e+03, -3.17317326e+02,  6.84848511e+02,\n",
       "        1.52346025e+02,  1.17103698e+03, -1.45948360e+01,  3.86011519e+01,\n",
       "        7.16468518e+02,  1.37433775e+01, -4.58465466e+02, -7.95899198e+02,\n",
       "        1.22935578e+02,  9.16684525e+01, -5.60657924e+02, -1.52518844e+03,\n",
       "       -1.53495902e+03, -2.25812510e+02,  2.80724440e+02,  2.88753577e+02,\n",
       "        7.35343504e+02,  4.89490675e+02,  3.72075843e+02,  6.97823943e+02,\n",
       "        7.14147299e+02,  3.23313233e+02, -1.60536013e+02,  4.81232726e+02,\n",
       "        8.84457064e+02,  4.29056322e+02, -5.19008602e+02, -7.57968953e+02,\n",
       "        3.26321581e+02,  9.78955300e+02,  5.52274180e+02, -5.53938001e+02,\n",
       "       -1.41432635e+03, -1.13380186e+03,  3.16292654e+02])"
      ]
     },
     "execution_count": 141,
     "metadata": {},
     "output_type": "execute_result"
    }
   ],
   "source": [
    "elastic_model.coef_"
   ]
  },
  {
   "cell_type": "code",
   "execution_count": 142,
   "id": "16548ca7",
   "metadata": {},
   "outputs": [],
   "source": [
    "em_df = pd.DataFrame(elastic_model.coef_,columns=[\"elastic_coef_(alp:1,l1:0.5)\"])"
   ]
  },
  {
   "cell_type": "code",
   "execution_count": 143,
   "id": "5406f885",
   "metadata": {},
   "outputs": [
    {
     "data": {
      "text/html": [
       "<div>\n",
       "<style scoped>\n",
       "    .dataframe tbody tr th:only-of-type {\n",
       "        vertical-align: middle;\n",
       "    }\n",
       "\n",
       "    .dataframe tbody tr th {\n",
       "        vertical-align: top;\n",
       "    }\n",
       "\n",
       "    .dataframe thead th {\n",
       "        text-align: right;\n",
       "    }\n",
       "</style>\n",
       "<table border=\"1\" class=\"dataframe\">\n",
       "  <thead>\n",
       "    <tr style=\"text-align: right;\">\n",
       "      <th></th>\n",
       "      <th>lm_coef</th>\n",
       "      <th>ridge_coef_1</th>\n",
       "      <th>Ridge_cv_coef_0.99</th>\n",
       "      <th>lasso_cv_coef_1</th>\n",
       "      <th>elastic_coef_(alp:1,l1:0.5)</th>\n",
       "    </tr>\n",
       "  </thead>\n",
       "  <tbody>\n",
       "    <tr>\n",
       "      <th>0</th>\n",
       "      <td>-2941188.97852</td>\n",
       "      <td>99909.76114</td>\n",
       "      <td>99909.76114</td>\n",
       "      <td>231682.96034</td>\n",
       "      <td>18362.67748</td>\n",
       "    </tr>\n",
       "    <tr>\n",
       "      <th>1</th>\n",
       "      <td>-18894143.53005</td>\n",
       "      <td>8410.65967</td>\n",
       "      <td>8410.65967</td>\n",
       "      <td>154809.75353</td>\n",
       "      <td>10008.54216</td>\n",
       "    </tr>\n",
       "    <tr>\n",
       "      <th>2</th>\n",
       "      <td>-2971224.15483</td>\n",
       "      <td>32443.23026</td>\n",
       "      <td>32443.23026</td>\n",
       "      <td>118912.98593</td>\n",
       "      <td>4438.67044</td>\n",
       "    </tr>\n",
       "    <tr>\n",
       "      <th>3</th>\n",
       "      <td>45716066.29054</td>\n",
       "      <td>-9621.85616</td>\n",
       "      <td>-9621.85616</td>\n",
       "      <td>7859.17188</td>\n",
       "      <td>-1252.84679</td>\n",
       "    </tr>\n",
       "    <tr>\n",
       "      <th>4</th>\n",
       "      <td>-11229236.50035</td>\n",
       "      <td>38543.97387</td>\n",
       "      <td>38543.97387</td>\n",
       "      <td>141051.57867</td>\n",
       "      <td>8175.32729</td>\n",
       "    </tr>\n",
       "    <tr>\n",
       "      <th>...</th>\n",
       "      <td>...</td>\n",
       "      <td>...</td>\n",
       "      <td>...</td>\n",
       "      <td>...</td>\n",
       "      <td>...</td>\n",
       "    </tr>\n",
       "    <tr>\n",
       "      <th>246</th>\n",
       "      <td>3225352.93695</td>\n",
       "      <td>41886.34446</td>\n",
       "      <td>41886.34446</td>\n",
       "      <td>5166.31497</td>\n",
       "      <td>552.27418</td>\n",
       "    </tr>\n",
       "    <tr>\n",
       "      <th>247</th>\n",
       "      <td>-133550.41157</td>\n",
       "      <td>5562.15449</td>\n",
       "      <td>5562.15449</td>\n",
       "      <td>-2811.44058</td>\n",
       "      <td>-553.93800</td>\n",
       "    </tr>\n",
       "    <tr>\n",
       "      <th>248</th>\n",
       "      <td>831598.26766</td>\n",
       "      <td>-37367.56730</td>\n",
       "      <td>-37367.56730</td>\n",
       "      <td>-6193.97925</td>\n",
       "      <td>-1414.32635</td>\n",
       "    </tr>\n",
       "    <tr>\n",
       "      <th>249</th>\n",
       "      <td>63958.38326</td>\n",
       "      <td>-30809.27943</td>\n",
       "      <td>-30809.27943</td>\n",
       "      <td>-437.00399</td>\n",
       "      <td>-1133.80186</td>\n",
       "    </tr>\n",
       "    <tr>\n",
       "      <th>250</th>\n",
       "      <td>-48060.83083</td>\n",
       "      <td>28688.66707</td>\n",
       "      <td>28688.66707</td>\n",
       "      <td>8791.12935</td>\n",
       "      <td>316.29265</td>\n",
       "    </tr>\n",
       "  </tbody>\n",
       "</table>\n",
       "<p>251 rows × 5 columns</p>\n",
       "</div>"
      ],
      "text/plain": [
       "            lm_coef  ridge_coef_1  Ridge_cv_coef_0.99  lasso_cv_coef_1  \\\n",
       "0    -2941188.97852   99909.76114         99909.76114     231682.96034   \n",
       "1   -18894143.53005    8410.65967          8410.65967     154809.75353   \n",
       "2    -2971224.15483   32443.23026         32443.23026     118912.98593   \n",
       "3    45716066.29054   -9621.85616         -9621.85616       7859.17188   \n",
       "4   -11229236.50035   38543.97387         38543.97387     141051.57867   \n",
       "..              ...           ...                 ...              ...   \n",
       "246   3225352.93695   41886.34446         41886.34446       5166.31497   \n",
       "247   -133550.41157    5562.15449          5562.15449      -2811.44058   \n",
       "248    831598.26766  -37367.56730        -37367.56730      -6193.97925   \n",
       "249     63958.38326  -30809.27943        -30809.27943       -437.00399   \n",
       "250    -48060.83083   28688.66707         28688.66707       8791.12935   \n",
       "\n",
       "     elastic_coef_(alp:1,l1:0.5)  \n",
       "0                    18362.67748  \n",
       "1                    10008.54216  \n",
       "2                     4438.67044  \n",
       "3                    -1252.84679  \n",
       "4                     8175.32729  \n",
       "..                           ...  \n",
       "246                    552.27418  \n",
       "247                   -553.93800  \n",
       "248                  -1414.32635  \n",
       "249                  -1133.80186  \n",
       "250                    316.29265  \n",
       "\n",
       "[251 rows x 5 columns]"
      ]
     },
     "execution_count": 143,
     "metadata": {},
     "output_type": "execute_result"
    }
   ],
   "source": [
    "pd.concat([lm_df, rm_df, rcm_df, lcm_df, em_df],axis=1)"
   ]
  },
  {
   "cell_type": "code",
   "execution_count": 145,
   "id": "d857226c",
   "metadata": {},
   "outputs": [],
   "source": [
    "elastic_cv_model = ElasticNetCV(alphas = alpha_space, l1_ratio= [0.1, 0.5, 0.7, 0.9, 0.95],cv=10, max_iter=100000 )"
   ]
  },
  {
   "cell_type": "code",
   "execution_count": 146,
   "id": "d468b9b9",
   "metadata": {},
   "outputs": [
    {
     "data": {
      "text/plain": [
       "array([0.01, 0.02, 0.03, 0.04, 0.05, 0.06, 0.07, 0.08, 0.09, 0.1 , 0.11,\n",
       "       0.12, 0.13, 0.14, 0.15, 0.16, 0.17, 0.18, 0.19, 0.2 , 0.21, 0.22,\n",
       "       0.23, 0.24, 0.25, 0.26, 0.27, 0.28, 0.29, 0.3 , 0.31, 0.32, 0.33,\n",
       "       0.34, 0.35, 0.36, 0.37, 0.38, 0.39, 0.4 , 0.41, 0.42, 0.43, 0.44,\n",
       "       0.45, 0.46, 0.47, 0.48, 0.49, 0.5 , 0.51, 0.52, 0.53, 0.54, 0.55,\n",
       "       0.56, 0.57, 0.58, 0.59, 0.6 , 0.61, 0.62, 0.63, 0.64, 0.65, 0.66,\n",
       "       0.67, 0.68, 0.69, 0.7 , 0.71, 0.72, 0.73, 0.74, 0.75, 0.76, 0.77,\n",
       "       0.78, 0.79, 0.8 , 0.81, 0.82, 0.83, 0.84, 0.85, 0.86, 0.87, 0.88,\n",
       "       0.89, 0.9 , 0.91, 0.92, 0.93, 0.94, 0.95, 0.96, 0.97, 0.98, 0.99,\n",
       "       1.  ])"
      ]
     },
     "execution_count": 146,
     "metadata": {},
     "output_type": "execute_result"
    }
   ],
   "source": [
    "alpha_space= np.linspace(0.01,1,100)\n",
    "alpha_space"
   ]
  },
  {
   "cell_type": "code",
   "execution_count": 151,
   "id": "7f71a9bf",
   "metadata": {},
   "outputs": [],
   "source": [
    "elastic_cv_model = ElasticNetCV(alphas = alpha_space, l1_ratio= [0.1, 0.5, 0.7, 0.9, 0.95],cv=10, max_iter=100 )"
   ]
  },
  {
   "cell_type": "code",
   "execution_count": 152,
   "id": "243afce8",
   "metadata": {},
   "outputs": [
    {
     "data": {
      "text/plain": [
       "ElasticNetCV(alphas=array([0.01, 0.02, 0.03, 0.04, 0.05, 0.06, 0.07, 0.08, 0.09, 0.1 , 0.11,\n",
       "       0.12, 0.13, 0.14, 0.15, 0.16, 0.17, 0.18, 0.19, 0.2 , 0.21, 0.22,\n",
       "       0.23, 0.24, 0.25, 0.26, 0.27, 0.28, 0.29, 0.3 , 0.31, 0.32, 0.33,\n",
       "       0.34, 0.35, 0.36, 0.37, 0.38, 0.39, 0.4 , 0.41, 0.42, 0.43, 0.44,\n",
       "       0.45, 0.46, 0.47, 0.48, 0.49, 0.5 , 0.51, 0.52, 0.53, 0.54, 0.55,\n",
       "       0.56, 0.57, 0.58, 0.59, 0.6 , 0.61, 0.62, 0.63, 0.64, 0.65, 0.66,\n",
       "       0.67, 0.68, 0.69, 0.7 , 0.71, 0.72, 0.73, 0.74, 0.75, 0.76, 0.77,\n",
       "       0.78, 0.79, 0.8 , 0.81, 0.82, 0.83, 0.84, 0.85, 0.86, 0.87, 0.88,\n",
       "       0.89, 0.9 , 0.91, 0.92, 0.93, 0.94, 0.95, 0.96, 0.97, 0.98, 0.99,\n",
       "       1.  ]),\n",
       "             cv=10, l1_ratio=[0.1, 0.5, 0.7, 0.9, 0.95], max_iter=100)"
      ]
     },
     "execution_count": 152,
     "metadata": {},
     "output_type": "execute_result"
    }
   ],
   "source": [
    "elastic_cv_model.fit(X_train, y_train)"
   ]
  },
  {
   "cell_type": "code",
   "execution_count": 153,
   "id": "bb21b25d",
   "metadata": {},
   "outputs": [
    {
     "data": {
      "text/plain": [
       "0.01"
      ]
     },
     "execution_count": 153,
     "metadata": {},
     "output_type": "execute_result"
    }
   ],
   "source": [
    "elastic_cv_model.alpha_"
   ]
  },
  {
   "cell_type": "code",
   "execution_count": 154,
   "id": "cddc3c02",
   "metadata": {},
   "outputs": [
    {
     "data": {
      "text/plain": [
       "0.1"
      ]
     },
     "execution_count": 154,
     "metadata": {},
     "output_type": "execute_result"
    }
   ],
   "source": [
    "elastic_cv_model.l1_ratio_"
   ]
  },
  {
   "cell_type": "code",
   "execution_count": 155,
   "id": "c50177a4",
   "metadata": {},
   "outputs": [
    {
     "data": {
      "text/plain": [
       "array([ 1.18136695e+05,  7.70892425e+04,  6.22867890e+04,  2.07164812e+04,\n",
       "        7.68844617e+04,  8.95762945e+04,  6.64236783e+04,  3.42759101e+04,\n",
       "       -1.56804297e+03,  4.68613412e+04,  3.66373770e+04,  2.94387855e+04,\n",
       "       -1.85692862e+03,  2.82509842e+04,  1.00367776e+04, -2.60411153e+03,\n",
       "        1.92448578e+04, -5.38872446e+03,  4.39955266e+03,  9.49954086e+03,\n",
       "       -2.13153357e+04, -2.20942856e+04, -6.61748131e+03, -3.33617811e+03,\n",
       "       -4.34595377e+01, -4.79973646e+03,  9.07801330e+02, -4.61519432e+02,\n",
       "       -7.99045837e+03,  2.10671853e+03, -1.30594944e+03,  3.89710203e+02,\n",
       "       -1.94890504e+03,  1.08468667e+03,  1.07210526e+03,  2.39426036e+03,\n",
       "        4.21376140e+03, -2.09583363e+03, -3.27081419e+03, -3.74560411e+02,\n",
       "       -1.41592648e+03,  1.27343373e+03, -2.31699473e+03, -4.08250715e+02,\n",
       "       -6.43553294e+02, -1.94115349e+01, -3.04952768e+02, -2.08511904e+03,\n",
       "        1.42061515e+03,  1.23274749e+02,  1.42979512e+03,  1.06040686e+03,\n",
       "        1.68600535e+01,  8.72001730e+02,  2.00573702e+03,  2.69531895e+03,\n",
       "       -4.26453046e+03, -2.33499000e+03, -1.79799116e+01,  1.21671188e+03,\n",
       "       -3.85524282e+03, -5.43720858e+02,  4.39316363e+03, -6.29985939e+03,\n",
       "       -1.81782281e+03, -1.06696638e+03, -9.98926814e+02, -1.29588407e+03,\n",
       "        2.10914197e+03, -3.41558582e+02,  1.30162057e+02,  2.46588252e+03,\n",
       "        2.97541178e+03, -5.10710550e+03, -1.57327789e+03,  8.20855116e+02,\n",
       "       -4.90154300e+02, -1.63417218e+03,  2.31100131e+02, -3.07008140e+03,\n",
       "        4.22312340e+02, -1.30735248e+03, -6.55108374e+02, -1.44098601e+03,\n",
       "        9.36450200e+02,  7.33085180e+02, -2.17562782e+03,  1.30809487e+03,\n",
       "        1.84556494e+03, -7.32954175e+02,  4.07863240e+02,  3.13723459e+03,\n",
       "       -1.10975870e+03,  7.79624431e+02, -1.61069686e+03, -1.10563900e+03,\n",
       "        3.55469822e+03, -4.46970178e+03, -4.40516158e+02, -9.81119339e+02,\n",
       "       -2.52365411e+03,  1.80605748e+01,  1.64613469e+03, -5.59434023e+02,\n",
       "       -4.56663416e+01, -7.47797888e+02, -9.58684216e+02, -9.84955965e+02,\n",
       "       -8.67799438e+02, -1.91027207e+03,  3.36969174e+03,  1.22920176e+03,\n",
       "       -3.13128035e+03,  2.18133768e+03, -1.22976739e+03, -1.06077776e+02,\n",
       "        2.38282362e+03,  7.42109643e+01, -8.49934295e+02,  1.14379459e+03,\n",
       "        1.40351922e+03,  1.28769367e+03, -1.65136317e+03, -1.01725795e+03,\n",
       "        3.75369475e+03,  8.16039644e+03, -2.38756515e+03, -5.68526825e+03,\n",
       "       -9.99341373e+02,  2.87662157e+03, -1.27836453e+03, -2.78040806e+03,\n",
       "        5.29683155e+03, -3.81237840e+03, -5.09642191e+03, -1.89159887e+03,\n",
       "       -6.93156299e+02, -8.07772364e+02,  3.51438305e+03, -5.13546458e+02,\n",
       "        1.12941854e+03,  1.18229615e+03,  6.81707090e+03, -4.95119507e+03,\n",
       "       -3.23929147e+03,  2.25317393e+03, -1.48354475e+03,  2.07563514e+02,\n",
       "        1.60057880e+03, -4.20323813e+03,  8.89383093e+00, -2.54929004e+03,\n",
       "       -3.40408399e+02, -3.11904839e+03,  1.89370937e+03,  5.30733460e+02,\n",
       "       -4.26403367e+03,  3.04110795e+03,  3.21859077e+03, -2.16394171e+03,\n",
       "       -1.92420485e+03,  1.34350319e+03,  2.87948670e+03, -4.66940626e+02,\n",
       "       -2.33074925e+03,  1.78477833e+03,  1.75784415e+03, -2.50675784e+03,\n",
       "        1.89386218e+02, -3.45547293e+03, -1.17030836e+03,  5.83014295e+02,\n",
       "        2.29349682e+03, -1.94036879e+03,  9.16436355e+02, -1.60552784e+03,\n",
       "       -3.19571882e+03,  4.48037462e+02,  1.47225832e+02, -4.22642666e+03,\n",
       "        5.97218103e+03,  3.60223312e+02, -1.03659353e+03, -1.40008092e+03,\n",
       "       -2.28088622e+02,  5.71236241e+02, -1.43879920e+03,  1.09102077e+03,\n",
       "        6.34297116e+02, -4.52169609e+02, -2.20596037e+03,  2.57574045e+03,\n",
       "        1.13462388e+03, -6.83726146e+02,  8.13612287e+02, -5.30625483e+03,\n",
       "        1.49247621e+02, -8.68307047e+02,  5.14132394e+03, -3.93309141e+03,\n",
       "       -1.19114650e+03,  6.52914675e+03, -6.13146450e+03,  7.91051809e+02,\n",
       "        1.75946983e+03, -5.75519638e+03,  6.92658051e+00,  4.50362676e+03,\n",
       "       -1.99756508e+03,  2.46209740e+02, -5.42846322e+02, -2.56436687e+03,\n",
       "       -2.17254503e+03, -1.57443879e+03, -2.78868673e+03,  6.06924886e+02,\n",
       "        2.48637120e+03,  1.62984794e+03,  1.12882835e+03, -4.84877537e+02,\n",
       "       -3.09844083e+02,  1.01527983e+03, -1.00849146e+03, -2.26437453e+03,\n",
       "       -1.69775069e+03,  1.76123746e+03,  4.78871887e+02, -2.94001454e+03,\n",
       "       -2.38130736e+03,  1.06429120e+03,  6.51670433e+03,  2.33165318e+03,\n",
       "       -3.21436380e+03,  2.41038222e+03, -2.13498472e+03, -1.98255177e+02,\n",
       "        3.11727770e+03, -5.81674635e+02, -2.37299618e+03,  1.44185086e+03,\n",
       "        3.08728394e+03,  1.53050130e+03, -2.92287257e+03, -2.58003746e+03,\n",
       "        3.75027234e+03,  2.53287278e+03,  3.85376814e+03, -1.74143750e+03,\n",
       "       -5.32400135e+03, -7.46095585e+02,  8.17909060e+03])"
      ]
     },
     "execution_count": 155,
     "metadata": {},
     "output_type": "execute_result"
    }
   ],
   "source": [
    "elastic_cv_model.coef_"
   ]
  },
  {
   "cell_type": "code",
   "execution_count": 158,
   "id": "fde327e2",
   "metadata": {},
   "outputs": [],
   "source": [
    "ecm_df = pd.DataFrame(elastic_cv_model.coef_, columns = [\"elastic_coef_(alp:0.01, l1:0.1)\"])"
   ]
  },
  {
   "cell_type": "code",
   "execution_count": 159,
   "id": "5011ddd1",
   "metadata": {},
   "outputs": [
    {
     "data": {
      "text/html": [
       "<div>\n",
       "<style scoped>\n",
       "    .dataframe tbody tr th:only-of-type {\n",
       "        vertical-align: middle;\n",
       "    }\n",
       "\n",
       "    .dataframe tbody tr th {\n",
       "        vertical-align: top;\n",
       "    }\n",
       "\n",
       "    .dataframe thead th {\n",
       "        text-align: right;\n",
       "    }\n",
       "</style>\n",
       "<table border=\"1\" class=\"dataframe\">\n",
       "  <thead>\n",
       "    <tr style=\"text-align: right;\">\n",
       "      <th></th>\n",
       "      <th>lm_coef</th>\n",
       "      <th>ridge_coef_1</th>\n",
       "      <th>Ridge_cv_coef_0.99</th>\n",
       "      <th>lasso_cv_coef_1</th>\n",
       "      <th>elastic_coef_(alp:1,l1:0.5)</th>\n",
       "      <th>elastic_coef_(alp:0.01, l1:0.1)</th>\n",
       "    </tr>\n",
       "  </thead>\n",
       "  <tbody>\n",
       "    <tr>\n",
       "      <th>0</th>\n",
       "      <td>-2941188.97852</td>\n",
       "      <td>99909.76114</td>\n",
       "      <td>99909.76114</td>\n",
       "      <td>231682.96034</td>\n",
       "      <td>18362.67748</td>\n",
       "      <td>118136.69488</td>\n",
       "    </tr>\n",
       "    <tr>\n",
       "      <th>1</th>\n",
       "      <td>-18894143.53005</td>\n",
       "      <td>8410.65967</td>\n",
       "      <td>8410.65967</td>\n",
       "      <td>154809.75353</td>\n",
       "      <td>10008.54216</td>\n",
       "      <td>77089.24247</td>\n",
       "    </tr>\n",
       "    <tr>\n",
       "      <th>2</th>\n",
       "      <td>-2971224.15483</td>\n",
       "      <td>32443.23026</td>\n",
       "      <td>32443.23026</td>\n",
       "      <td>118912.98593</td>\n",
       "      <td>4438.67044</td>\n",
       "      <td>62286.78903</td>\n",
       "    </tr>\n",
       "    <tr>\n",
       "      <th>3</th>\n",
       "      <td>45716066.29054</td>\n",
       "      <td>-9621.85616</td>\n",
       "      <td>-9621.85616</td>\n",
       "      <td>7859.17188</td>\n",
       "      <td>-1252.84679</td>\n",
       "      <td>20716.48118</td>\n",
       "    </tr>\n",
       "    <tr>\n",
       "      <th>4</th>\n",
       "      <td>-11229236.50035</td>\n",
       "      <td>38543.97387</td>\n",
       "      <td>38543.97387</td>\n",
       "      <td>141051.57867</td>\n",
       "      <td>8175.32729</td>\n",
       "      <td>76884.46173</td>\n",
       "    </tr>\n",
       "    <tr>\n",
       "      <th>...</th>\n",
       "      <td>...</td>\n",
       "      <td>...</td>\n",
       "      <td>...</td>\n",
       "      <td>...</td>\n",
       "      <td>...</td>\n",
       "      <td>...</td>\n",
       "    </tr>\n",
       "    <tr>\n",
       "      <th>246</th>\n",
       "      <td>3225352.93695</td>\n",
       "      <td>41886.34446</td>\n",
       "      <td>41886.34446</td>\n",
       "      <td>5166.31497</td>\n",
       "      <td>552.27418</td>\n",
       "      <td>3853.76814</td>\n",
       "    </tr>\n",
       "    <tr>\n",
       "      <th>247</th>\n",
       "      <td>-133550.41157</td>\n",
       "      <td>5562.15449</td>\n",
       "      <td>5562.15449</td>\n",
       "      <td>-2811.44058</td>\n",
       "      <td>-553.93800</td>\n",
       "      <td>-1741.43750</td>\n",
       "    </tr>\n",
       "    <tr>\n",
       "      <th>248</th>\n",
       "      <td>831598.26766</td>\n",
       "      <td>-37367.56730</td>\n",
       "      <td>-37367.56730</td>\n",
       "      <td>-6193.97925</td>\n",
       "      <td>-1414.32635</td>\n",
       "      <td>-5324.00135</td>\n",
       "    </tr>\n",
       "    <tr>\n",
       "      <th>249</th>\n",
       "      <td>63958.38326</td>\n",
       "      <td>-30809.27943</td>\n",
       "      <td>-30809.27943</td>\n",
       "      <td>-437.00399</td>\n",
       "      <td>-1133.80186</td>\n",
       "      <td>-746.09558</td>\n",
       "    </tr>\n",
       "    <tr>\n",
       "      <th>250</th>\n",
       "      <td>-48060.83083</td>\n",
       "      <td>28688.66707</td>\n",
       "      <td>28688.66707</td>\n",
       "      <td>8791.12935</td>\n",
       "      <td>316.29265</td>\n",
       "      <td>8179.09060</td>\n",
       "    </tr>\n",
       "  </tbody>\n",
       "</table>\n",
       "<p>251 rows × 6 columns</p>\n",
       "</div>"
      ],
      "text/plain": [
       "            lm_coef  ridge_coef_1  Ridge_cv_coef_0.99  lasso_cv_coef_1  \\\n",
       "0    -2941188.97852   99909.76114         99909.76114     231682.96034   \n",
       "1   -18894143.53005    8410.65967          8410.65967     154809.75353   \n",
       "2    -2971224.15483   32443.23026         32443.23026     118912.98593   \n",
       "3    45716066.29054   -9621.85616         -9621.85616       7859.17188   \n",
       "4   -11229236.50035   38543.97387         38543.97387     141051.57867   \n",
       "..              ...           ...                 ...              ...   \n",
       "246   3225352.93695   41886.34446         41886.34446       5166.31497   \n",
       "247   -133550.41157    5562.15449          5562.15449      -2811.44058   \n",
       "248    831598.26766  -37367.56730        -37367.56730      -6193.97925   \n",
       "249     63958.38326  -30809.27943        -30809.27943       -437.00399   \n",
       "250    -48060.83083   28688.66707         28688.66707       8791.12935   \n",
       "\n",
       "     elastic_coef_(alp:1,l1:0.5)  elastic_coef_(alp:0.01, l1:0.1)  \n",
       "0                    18362.67748                     118136.69488  \n",
       "1                    10008.54216                      77089.24247  \n",
       "2                     4438.67044                      62286.78903  \n",
       "3                    -1252.84679                      20716.48118  \n",
       "4                     8175.32729                      76884.46173  \n",
       "..                           ...                              ...  \n",
       "246                    552.27418                       3853.76814  \n",
       "247                   -553.93800                      -1741.43750  \n",
       "248                  -1414.32635                      -5324.00135  \n",
       "249                  -1133.80186                       -746.09558  \n",
       "250                    316.29265                       8179.09060  \n",
       "\n",
       "[251 rows x 6 columns]"
      ]
     },
     "execution_count": 159,
     "metadata": {},
     "output_type": "execute_result"
    }
   ],
   "source": [
    "pd.concat([lm_df, rm_df, rcm_df, lcm_df, em_df, ecm_df], axis=1)"
   ]
  },
  {
   "cell_type": "code",
   "execution_count": 160,
   "id": "b4ac8ab2",
   "metadata": {},
   "outputs": [],
   "source": [
    "y_train_pred = elastic_cv_model.predict(X_train)"
   ]
  },
  {
   "cell_type": "code",
   "execution_count": 161,
   "id": "dcff753f",
   "metadata": {},
   "outputs": [
    {
     "name": "stdout",
     "output_type": "stream",
     "text": [
      "Model testing performance\n",
      "-------------------------\n",
      "R2_score \t: 0.9184977580733578\n",
      "MAE \t\t: 81029.00510901466\n",
      "MSE \t\t: 10152476503.688105\n",
      "RMSE \t\t: 100759.4983298751\n"
     ]
    }
   ],
   "source": [
    "eval_metrics(y_train, y_train_pred) "
   ]
  },
  {
   "cell_type": "code",
   "execution_count": 162,
   "id": "a871c25f",
   "metadata": {},
   "outputs": [],
   "source": [
    "y_pred = elastic_cv_model.predict(X_test)"
   ]
  },
  {
   "cell_type": "code",
   "execution_count": 163,
   "id": "53ef34a7",
   "metadata": {},
   "outputs": [
    {
     "name": "stdout",
     "output_type": "stream",
     "text": [
      "Model testing performance\n",
      "-------------------------\n",
      "R2_score \t: 0.9173946606216188\n",
      "MAE \t\t: 81833.83968022563\n",
      "MSE \t\t: 10307814600.039742\n",
      "RMSE \t\t: 101527.40812233779\n"
     ]
    }
   ],
   "source": [
    "eval_metrics(y_test,y_pred)"
   ]
  },
  {
   "cell_type": "code",
   "execution_count": 164,
   "id": "d802cc44",
   "metadata": {},
   "outputs": [
    {
     "data": {
      "text/html": [
       "<div>\n",
       "<style scoped>\n",
       "    .dataframe tbody tr th:only-of-type {\n",
       "        vertical-align: middle;\n",
       "    }\n",
       "\n",
       "    .dataframe tbody tr th {\n",
       "        vertical-align: top;\n",
       "    }\n",
       "\n",
       "    .dataframe thead th {\n",
       "        text-align: right;\n",
       "    }\n",
       "</style>\n",
       "<table border=\"1\" class=\"dataframe\">\n",
       "  <thead>\n",
       "    <tr style=\"text-align: right;\">\n",
       "      <th></th>\n",
       "      <th>elastic_cv_train</th>\n",
       "      <th>elastic_cv_test</th>\n",
       "    </tr>\n",
       "  </thead>\n",
       "  <tbody>\n",
       "    <tr>\n",
       "      <th>rmse</th>\n",
       "      <td>100759.49833</td>\n",
       "      <td>101527.40812</td>\n",
       "    </tr>\n",
       "    <tr>\n",
       "      <th>mae</th>\n",
       "      <td>81029.00511</td>\n",
       "      <td>81833.83968</td>\n",
       "    </tr>\n",
       "    <tr>\n",
       "      <th>mse</th>\n",
       "      <td>10152476503.68810</td>\n",
       "      <td>10307814600.03974</td>\n",
       "    </tr>\n",
       "    <tr>\n",
       "      <th>R2</th>\n",
       "      <td>0.91850</td>\n",
       "      <td>0.91739</td>\n",
       "    </tr>\n",
       "  </tbody>\n",
       "</table>\n",
       "</div>"
      ],
      "text/plain": [
       "      elastic_cv_train   elastic_cv_test\n",
       "rmse      100759.49833      101527.40812\n",
       "mae        81029.00511       81833.83968\n",
       "mse  10152476503.68810 10307814600.03974\n",
       "R2             0.91850           0.91739"
      ]
     },
     "execution_count": 164,
     "metadata": {},
     "output_type": "execute_result"
    }
   ],
   "source": [
    "elastic_cv_scores = {\"elastic_cv_train\": {\"rmse\": np.sqrt(mean_squared_error(y_train, y_train_pred)),\n",
    "                              \"mae\": mean_absolute_error(y_train, y_train_pred),\n",
    "                              \"mse\": mean_squared_error(y_train, y_train_pred),\n",
    "                              \"R2\": r2_score(y_train, y_train_pred)},\n",
    "              \"elastic_cv_test\":{\"rmse\": np.sqrt(mean_squared_error(y_test, y_pred)),\n",
    "                              \"mae\": mean_absolute_error(y_test, y_pred),\n",
    "                              \"mse\": mean_squared_error(y_test, y_pred),\n",
    "                              \"R2\": r2_score(y_test, y_pred)}}\n",
    "ecs = pd.DataFrame(elastic_cv_scores)\n",
    "ecs"
   ]
  },
  {
   "cell_type": "code",
   "execution_count": 165,
   "id": "d9fd73b9",
   "metadata": {},
   "outputs": [
    {
     "data": {
      "text/html": [
       "<div>\n",
       "<style scoped>\n",
       "    .dataframe tbody tr th:only-of-type {\n",
       "        vertical-align: middle;\n",
       "    }\n",
       "\n",
       "    .dataframe tbody tr th {\n",
       "        vertical-align: top;\n",
       "    }\n",
       "\n",
       "    .dataframe thead th {\n",
       "        text-align: right;\n",
       "    }\n",
       "</style>\n",
       "<table border=\"1\" class=\"dataframe\">\n",
       "  <thead>\n",
       "    <tr style=\"text-align: right;\">\n",
       "      <th></th>\n",
       "      <th>lm_train</th>\n",
       "      <th>lm_test</th>\n",
       "      <th>ridge_train</th>\n",
       "      <th>ridge_test</th>\n",
       "      <th>ridge_cv_train</th>\n",
       "      <th>ridge_cv_test</th>\n",
       "      <th>lasso_train</th>\n",
       "      <th>lasso_test</th>\n",
       "      <th>lasso_cv_train</th>\n",
       "      <th>lasso_cv_test</th>\n",
       "      <th>elastic_train</th>\n",
       "      <th>elastic_test</th>\n",
       "      <th>elastic_cv_train</th>\n",
       "      <th>elastic_cv_test</th>\n",
       "    </tr>\n",
       "  </thead>\n",
       "  <tbody>\n",
       "    <tr>\n",
       "      <th>rmse</th>\n",
       "      <td>97653.83031</td>\n",
       "      <td>108591.04995</td>\n",
       "      <td>100246.78634</td>\n",
       "      <td>102051.52294</td>\n",
       "      <td>100246.78634</td>\n",
       "      <td>102051.52294</td>\n",
       "      <td>100438.65804</td>\n",
       "      <td>101978.13108</td>\n",
       "      <td>100718.22033</td>\n",
       "      <td>101534.29863</td>\n",
       "      <td>109573.39243</td>\n",
       "      <td>110556.43890</td>\n",
       "      <td>100759.49833</td>\n",
       "      <td>101527.40812</td>\n",
       "    </tr>\n",
       "    <tr>\n",
       "      <th>mae</th>\n",
       "      <td>78525.06702</td>\n",
       "      <td>86256.85206</td>\n",
       "      <td>80667.32244</td>\n",
       "      <td>82104.08674</td>\n",
       "      <td>80667.32244</td>\n",
       "      <td>82104.08674</td>\n",
       "      <td>80828.48002</td>\n",
       "      <td>82098.42355</td>\n",
       "      <td>80997.30610</td>\n",
       "      <td>81853.59807</td>\n",
       "      <td>87256.36100</td>\n",
       "      <td>88146.96007</td>\n",
       "      <td>81029.00511</td>\n",
       "      <td>81833.83968</td>\n",
       "    </tr>\n",
       "    <tr>\n",
       "      <th>mse</th>\n",
       "      <td>9536270574.91490</td>\n",
       "      <td>11792016129.79281</td>\n",
       "      <td>10049418171.92053</td>\n",
       "      <td>10414513334.35382</td>\n",
       "      <td>10049418171.92053</td>\n",
       "      <td>10414513334.35382</td>\n",
       "      <td>10087924029.42817</td>\n",
       "      <td>10399539218.93453</td>\n",
       "      <td>10144159905.64435</td>\n",
       "      <td>10309213799.11417</td>\n",
       "      <td>12006328328.35840</td>\n",
       "      <td>12222726182.89368</td>\n",
       "      <td>10152476503.68810</td>\n",
       "      <td>10307814600.03974</td>\n",
       "    </tr>\n",
       "    <tr>\n",
       "      <th>R2</th>\n",
       "      <td>0.92344</td>\n",
       "      <td>0.90550</td>\n",
       "      <td>0.91933</td>\n",
       "      <td>0.91654</td>\n",
       "      <td>0.91933</td>\n",
       "      <td>0.91654</td>\n",
       "      <td>0.91902</td>\n",
       "      <td>0.91666</td>\n",
       "      <td>0.91856</td>\n",
       "      <td>0.91738</td>\n",
       "      <td>0.90362</td>\n",
       "      <td>0.90205</td>\n",
       "      <td>0.91850</td>\n",
       "      <td>0.91739</td>\n",
       "    </tr>\n",
       "  </tbody>\n",
       "</table>\n",
       "</div>"
      ],
      "text/plain": [
       "             lm_train           lm_test       ridge_train        ridge_test  \\\n",
       "rmse      97653.83031      108591.04995      100246.78634      102051.52294   \n",
       "mae       78525.06702       86256.85206       80667.32244       82104.08674   \n",
       "mse  9536270574.91490 11792016129.79281 10049418171.92053 10414513334.35382   \n",
       "R2            0.92344           0.90550           0.91933           0.91654   \n",
       "\n",
       "        ridge_cv_train     ridge_cv_test       lasso_train        lasso_test  \\\n",
       "rmse      100246.78634      102051.52294      100438.65804      101978.13108   \n",
       "mae        80667.32244       82104.08674       80828.48002       82098.42355   \n",
       "mse  10049418171.92053 10414513334.35382 10087924029.42817 10399539218.93453   \n",
       "R2             0.91933           0.91654           0.91902           0.91666   \n",
       "\n",
       "        lasso_cv_train     lasso_cv_test     elastic_train      elastic_test  \\\n",
       "rmse      100718.22033      101534.29863      109573.39243      110556.43890   \n",
       "mae        80997.30610       81853.59807       87256.36100       88146.96007   \n",
       "mse  10144159905.64435 10309213799.11417 12006328328.35840 12222726182.89368   \n",
       "R2             0.91856           0.91738           0.90362           0.90205   \n",
       "\n",
       "      elastic_cv_train   elastic_cv_test  \n",
       "rmse      100759.49833      101527.40812  \n",
       "mae        81029.00511       81833.83968  \n",
       "mse  10152476503.68810 10307814600.03974  \n",
       "R2             0.91850           0.91739  "
      ]
     },
     "execution_count": 165,
     "metadata": {},
     "output_type": "execute_result"
    }
   ],
   "source": [
    "pd.concat([mls,rs, rcs,lss,lcs,es, ecs],axis=1)"
   ]
  },
  {
   "cell_type": "markdown",
   "id": "bacfa418",
   "metadata": {},
   "source": [
    "# Grid Search"
   ]
  },
  {
   "cell_type": "code",
   "execution_count": 166,
   "id": "1495661d",
   "metadata": {},
   "outputs": [],
   "source": [
    "from sklearn.model_selection import GridSearchCV"
   ]
  },
  {
   "cell_type": "code",
   "execution_count": 171,
   "id": "7bd1dc40",
   "metadata": {},
   "outputs": [],
   "source": [
    "elastic_model = ElasticNet(max_iter = 100)"
   ]
  },
  {
   "cell_type": "code",
   "execution_count": 172,
   "id": "61bf7362",
   "metadata": {},
   "outputs": [],
   "source": [
    "param_grid = {\"alpha\":[0.01,0.02, 0.1, 1, 5, 10, 50, 100],\n",
    "             \"l1_ratio\": [0.1,0.5,0.7,0.9,0.95,0.99,1]}"
   ]
  },
  {
   "cell_type": "code",
   "execution_count": 1,
   "id": "07bf5e90",
   "metadata": {},
   "outputs": [
    {
     "ename": "NameError",
     "evalue": "name 'GridSearchCV' is not defined",
     "output_type": "error",
     "traceback": [
      "\u001b[1;31m---------------------------------------------------------------------------\u001b[0m",
      "\u001b[1;31mNameError\u001b[0m                                 Traceback (most recent call last)",
      "\u001b[1;32m<ipython-input-1-fbdea7d6cc32>\u001b[0m in \u001b[0;36m<module>\u001b[1;34m\u001b[0m\n\u001b[1;32m----> 1\u001b[1;33m \u001b[0mgrid_model\u001b[0m \u001b[1;33m=\u001b[0m \u001b[0mGridSearchCV\u001b[0m\u001b[1;33m(\u001b[0m\u001b[0mestimator\u001b[0m \u001b[1;33m=\u001b[0m \u001b[0melastic_model\u001b[0m\u001b[1;33m,\u001b[0m \u001b[0mparam_grid\u001b[0m\u001b[1;33m=\u001b[0m\u001b[0mparam_grid\u001b[0m\u001b[1;33m,\u001b[0m\u001b[0mcv\u001b[0m\u001b[1;33m=\u001b[0m\u001b[1;36m10\u001b[0m\u001b[1;33m,\u001b[0m \u001b[0mverbose\u001b[0m\u001b[1;33m=\u001b[0m\u001b[1;36m3\u001b[0m\u001b[1;33m)\u001b[0m\u001b[1;33m\u001b[0m\u001b[1;33m\u001b[0m\u001b[0m\n\u001b[0m",
      "\u001b[1;31mNameError\u001b[0m: name 'GridSearchCV' is not defined"
     ]
    }
   ],
   "source": [
    "grid_model = GridSearchCV(estimator = elastic_model, param_grid=param_grid,cv=10, verbose=3)"
   ]
  },
  {
   "cell_type": "code",
   "execution_count": 174,
   "id": "d1062c84",
   "metadata": {},
   "outputs": [
    {
     "name": "stdout",
     "output_type": "stream",
     "text": [
      "Fitting 10 folds for each of 56 candidates, totalling 560 fits\n",
      "[CV 1/10] END ......................alpha=0.01, l1_ratio=0.1; total time=   0.2s\n",
      "[CV 2/10] END ......................alpha=0.01, l1_ratio=0.1; total time=   0.2s\n",
      "[CV 3/10] END ......................alpha=0.01, l1_ratio=0.1; total time=   0.3s\n",
      "[CV 4/10] END ......................alpha=0.01, l1_ratio=0.1; total time=   0.2s\n",
      "[CV 5/10] END ......................alpha=0.01, l1_ratio=0.1; total time=   0.2s\n",
      "[CV 6/10] END ......................alpha=0.01, l1_ratio=0.1; total time=   0.2s\n",
      "[CV 7/10] END ......................alpha=0.01, l1_ratio=0.1; total time=   0.2s\n",
      "[CV 8/10] END ......................alpha=0.01, l1_ratio=0.1; total time=   0.2s\n",
      "[CV 9/10] END ......................alpha=0.01, l1_ratio=0.1; total time=   0.2s\n",
      "[CV 10/10] END .....................alpha=0.01, l1_ratio=0.1; total time=   0.2s\n",
      "[CV 1/10] END ......................alpha=0.01, l1_ratio=0.5; total time=   0.2s\n",
      "[CV 2/10] END ......................alpha=0.01, l1_ratio=0.5; total time=   0.3s\n",
      "[CV 3/10] END ......................alpha=0.01, l1_ratio=0.5; total time=   0.2s\n",
      "[CV 4/10] END ......................alpha=0.01, l1_ratio=0.5; total time=   0.2s\n",
      "[CV 5/10] END ......................alpha=0.01, l1_ratio=0.5; total time=   0.2s\n",
      "[CV 6/10] END ......................alpha=0.01, l1_ratio=0.5; total time=   0.2s\n",
      "[CV 7/10] END ......................alpha=0.01, l1_ratio=0.5; total time=   0.2s\n",
      "[CV 8/10] END ......................alpha=0.01, l1_ratio=0.5; total time=   0.2s\n",
      "[CV 9/10] END ......................alpha=0.01, l1_ratio=0.5; total time=   0.2s\n",
      "[CV 10/10] END .....................alpha=0.01, l1_ratio=0.5; total time=   0.2s\n",
      "[CV 1/10] END ......................alpha=0.01, l1_ratio=0.7; total time=   0.2s\n",
      "[CV 2/10] END ......................alpha=0.01, l1_ratio=0.7; total time=   0.2s\n",
      "[CV 3/10] END ......................alpha=0.01, l1_ratio=0.7; total time=   0.2s\n",
      "[CV 4/10] END ......................alpha=0.01, l1_ratio=0.7; total time=   0.2s\n",
      "[CV 5/10] END ......................alpha=0.01, l1_ratio=0.7; total time=   0.2s\n",
      "[CV 6/10] END ......................alpha=0.01, l1_ratio=0.7; total time=   0.2s\n",
      "[CV 7/10] END ......................alpha=0.01, l1_ratio=0.7; total time=   0.2s\n",
      "[CV 8/10] END ......................alpha=0.01, l1_ratio=0.7; total time=   0.2s\n",
      "[CV 9/10] END ......................alpha=0.01, l1_ratio=0.7; total time=   0.2s\n",
      "[CV 10/10] END .....................alpha=0.01, l1_ratio=0.7; total time=   0.2s\n",
      "[CV 1/10] END ......................alpha=0.01, l1_ratio=0.9; total time=   0.2s\n",
      "[CV 2/10] END ......................alpha=0.01, l1_ratio=0.9; total time=   0.2s\n",
      "[CV 3/10] END ......................alpha=0.01, l1_ratio=0.9; total time=   0.2s\n",
      "[CV 4/10] END ......................alpha=0.01, l1_ratio=0.9; total time=   0.3s\n",
      "[CV 5/10] END ......................alpha=0.01, l1_ratio=0.9; total time=   0.2s\n",
      "[CV 6/10] END ......................alpha=0.01, l1_ratio=0.9; total time=   0.2s\n",
      "[CV 7/10] END ......................alpha=0.01, l1_ratio=0.9; total time=   0.2s\n",
      "[CV 8/10] END ......................alpha=0.01, l1_ratio=0.9; total time=   0.2s\n",
      "[CV 9/10] END ......................alpha=0.01, l1_ratio=0.9; total time=   0.2s\n",
      "[CV 10/10] END .....................alpha=0.01, l1_ratio=0.9; total time=   0.2s\n",
      "[CV 1/10] END .....................alpha=0.01, l1_ratio=0.95; total time=   0.2s\n",
      "[CV 2/10] END .....................alpha=0.01, l1_ratio=0.95; total time=   0.2s\n",
      "[CV 3/10] END .....................alpha=0.01, l1_ratio=0.95; total time=   0.2s\n",
      "[CV 4/10] END .....................alpha=0.01, l1_ratio=0.95; total time=   0.2s\n",
      "[CV 5/10] END .....................alpha=0.01, l1_ratio=0.95; total time=   0.2s\n",
      "[CV 6/10] END .....................alpha=0.01, l1_ratio=0.95; total time=   0.2s\n",
      "[CV 7/10] END .....................alpha=0.01, l1_ratio=0.95; total time=   0.2s\n",
      "[CV 8/10] END .....................alpha=0.01, l1_ratio=0.95; total time=   0.3s\n",
      "[CV 9/10] END .....................alpha=0.01, l1_ratio=0.95; total time=   0.2s\n",
      "[CV 10/10] END ....................alpha=0.01, l1_ratio=0.95; total time=   0.2s\n",
      "[CV 1/10] END .....................alpha=0.01, l1_ratio=0.99; total time=   0.2s\n",
      "[CV 2/10] END .....................alpha=0.01, l1_ratio=0.99; total time=   0.3s\n",
      "[CV 3/10] END .....................alpha=0.01, l1_ratio=0.99; total time=   0.3s\n",
      "[CV 4/10] END .....................alpha=0.01, l1_ratio=0.99; total time=   0.2s\n",
      "[CV 5/10] END .....................alpha=0.01, l1_ratio=0.99; total time=   0.2s\n",
      "[CV 6/10] END .....................alpha=0.01, l1_ratio=0.99; total time=   0.2s\n",
      "[CV 7/10] END .....................alpha=0.01, l1_ratio=0.99; total time=   0.2s\n",
      "[CV 8/10] END .....................alpha=0.01, l1_ratio=0.99; total time=   0.2s\n",
      "[CV 9/10] END .....................alpha=0.01, l1_ratio=0.99; total time=   0.2s\n",
      "[CV 10/10] END ....................alpha=0.01, l1_ratio=0.99; total time=   0.2s\n",
      "[CV 1/10] END ........................alpha=0.01, l1_ratio=1; total time=   0.2s\n",
      "[CV 2/10] END ........................alpha=0.01, l1_ratio=1; total time=   0.2s\n",
      "[CV 3/10] END ........................alpha=0.01, l1_ratio=1; total time=   0.2s\n",
      "[CV 4/10] END ........................alpha=0.01, l1_ratio=1; total time=   0.2s\n",
      "[CV 5/10] END ........................alpha=0.01, l1_ratio=1; total time=   0.2s\n",
      "[CV 6/10] END ........................alpha=0.01, l1_ratio=1; total time=   0.3s\n",
      "[CV 7/10] END ........................alpha=0.01, l1_ratio=1; total time=   0.2s\n",
      "[CV 8/10] END ........................alpha=0.01, l1_ratio=1; total time=   0.2s\n",
      "[CV 9/10] END ........................alpha=0.01, l1_ratio=1; total time=   0.2s\n",
      "[CV 10/10] END .......................alpha=0.01, l1_ratio=1; total time=   0.2s\n",
      "[CV 1/10] END ......................alpha=0.02, l1_ratio=0.1; total time=   0.2s\n",
      "[CV 2/10] END ......................alpha=0.02, l1_ratio=0.1; total time=   0.2s\n",
      "[CV 3/10] END ......................alpha=0.02, l1_ratio=0.1; total time=   0.2s\n",
      "[CV 4/10] END ......................alpha=0.02, l1_ratio=0.1; total time=   0.2s\n",
      "[CV 5/10] END ......................alpha=0.02, l1_ratio=0.1; total time=   0.3s\n",
      "[CV 6/10] END ......................alpha=0.02, l1_ratio=0.1; total time=   0.3s\n",
      "[CV 7/10] END ......................alpha=0.02, l1_ratio=0.1; total time=   0.2s\n",
      "[CV 8/10] END ......................alpha=0.02, l1_ratio=0.1; total time=   0.2s\n",
      "[CV 9/10] END ......................alpha=0.02, l1_ratio=0.1; total time=   0.2s\n",
      "[CV 10/10] END .....................alpha=0.02, l1_ratio=0.1; total time=   0.2s\n",
      "[CV 1/10] END ......................alpha=0.02, l1_ratio=0.5; total time=   0.2s\n",
      "[CV 2/10] END ......................alpha=0.02, l1_ratio=0.5; total time=   0.2s\n",
      "[CV 3/10] END ......................alpha=0.02, l1_ratio=0.5; total time=   0.2s\n",
      "[CV 4/10] END ......................alpha=0.02, l1_ratio=0.5; total time=   0.2s\n",
      "[CV 5/10] END ......................alpha=0.02, l1_ratio=0.5; total time=   0.2s\n",
      "[CV 6/10] END ......................alpha=0.02, l1_ratio=0.5; total time=   0.2s\n",
      "[CV 7/10] END ......................alpha=0.02, l1_ratio=0.5; total time=   0.2s\n",
      "[CV 8/10] END ......................alpha=0.02, l1_ratio=0.5; total time=   0.2s\n",
      "[CV 9/10] END ......................alpha=0.02, l1_ratio=0.5; total time=   0.2s\n",
      "[CV 10/10] END .....................alpha=0.02, l1_ratio=0.5; total time=   0.2s\n",
      "[CV 1/10] END ......................alpha=0.02, l1_ratio=0.7; total time=   0.2s\n",
      "[CV 2/10] END ......................alpha=0.02, l1_ratio=0.7; total time=   0.2s\n",
      "[CV 3/10] END ......................alpha=0.02, l1_ratio=0.7; total time=   0.2s\n",
      "[CV 4/10] END ......................alpha=0.02, l1_ratio=0.7; total time=   0.2s\n",
      "[CV 5/10] END ......................alpha=0.02, l1_ratio=0.7; total time=   0.3s\n",
      "[CV 6/10] END ......................alpha=0.02, l1_ratio=0.7; total time=   0.2s\n",
      "[CV 7/10] END ......................alpha=0.02, l1_ratio=0.7; total time=   0.2s\n",
      "[CV 8/10] END ......................alpha=0.02, l1_ratio=0.7; total time=   0.2s\n",
      "[CV 9/10] END ......................alpha=0.02, l1_ratio=0.7; total time=   0.2s\n",
      "[CV 10/10] END .....................alpha=0.02, l1_ratio=0.7; total time=   0.2s\n",
      "[CV 1/10] END ......................alpha=0.02, l1_ratio=0.9; total time=   0.2s\n"
     ]
    },
    {
     "name": "stdout",
     "output_type": "stream",
     "text": [
      "[CV 2/10] END ......................alpha=0.02, l1_ratio=0.9; total time=   0.2s\n",
      "[CV 3/10] END ......................alpha=0.02, l1_ratio=0.9; total time=   0.2s\n",
      "[CV 4/10] END ......................alpha=0.02, l1_ratio=0.9; total time=   0.2s\n",
      "[CV 5/10] END ......................alpha=0.02, l1_ratio=0.9; total time=   0.2s\n",
      "[CV 6/10] END ......................alpha=0.02, l1_ratio=0.9; total time=   0.2s\n",
      "[CV 7/10] END ......................alpha=0.02, l1_ratio=0.9; total time=   0.2s\n",
      "[CV 8/10] END ......................alpha=0.02, l1_ratio=0.9; total time=   0.2s\n",
      "[CV 9/10] END ......................alpha=0.02, l1_ratio=0.9; total time=   0.2s\n",
      "[CV 10/10] END .....................alpha=0.02, l1_ratio=0.9; total time=   0.2s\n",
      "[CV 1/10] END .....................alpha=0.02, l1_ratio=0.95; total time=   0.2s\n",
      "[CV 2/10] END .....................alpha=0.02, l1_ratio=0.95; total time=   0.2s\n",
      "[CV 3/10] END .....................alpha=0.02, l1_ratio=0.95; total time=   0.2s\n",
      "[CV 4/10] END .....................alpha=0.02, l1_ratio=0.95; total time=   0.2s\n",
      "[CV 5/10] END .....................alpha=0.02, l1_ratio=0.95; total time=   0.2s\n",
      "[CV 6/10] END .....................alpha=0.02, l1_ratio=0.95; total time=   0.2s\n",
      "[CV 7/10] END .....................alpha=0.02, l1_ratio=0.95; total time=   0.2s\n",
      "[CV 8/10] END .....................alpha=0.02, l1_ratio=0.95; total time=   0.2s\n",
      "[CV 9/10] END .....................alpha=0.02, l1_ratio=0.95; total time=   0.2s\n",
      "[CV 10/10] END ....................alpha=0.02, l1_ratio=0.95; total time=   0.2s\n",
      "[CV 1/10] END .....................alpha=0.02, l1_ratio=0.99; total time=   0.2s\n",
      "[CV 2/10] END .....................alpha=0.02, l1_ratio=0.99; total time=   0.2s\n",
      "[CV 3/10] END .....................alpha=0.02, l1_ratio=0.99; total time=   0.2s\n",
      "[CV 4/10] END .....................alpha=0.02, l1_ratio=0.99; total time=   0.2s\n",
      "[CV 5/10] END .....................alpha=0.02, l1_ratio=0.99; total time=   0.2s\n",
      "[CV 6/10] END .....................alpha=0.02, l1_ratio=0.99; total time=   0.2s\n",
      "[CV 7/10] END .....................alpha=0.02, l1_ratio=0.99; total time=   0.2s\n",
      "[CV 8/10] END .....................alpha=0.02, l1_ratio=0.99; total time=   0.2s\n",
      "[CV 9/10] END .....................alpha=0.02, l1_ratio=0.99; total time=   0.2s\n",
      "[CV 10/10] END ....................alpha=0.02, l1_ratio=0.99; total time=   0.2s\n",
      "[CV 1/10] END ........................alpha=0.02, l1_ratio=1; total time=   0.2s\n",
      "[CV 2/10] END ........................alpha=0.02, l1_ratio=1; total time=   0.2s\n",
      "[CV 3/10] END ........................alpha=0.02, l1_ratio=1; total time=   0.2s\n",
      "[CV 4/10] END ........................alpha=0.02, l1_ratio=1; total time=   0.2s\n",
      "[CV 5/10] END ........................alpha=0.02, l1_ratio=1; total time=   0.2s\n",
      "[CV 6/10] END ........................alpha=0.02, l1_ratio=1; total time=   0.2s\n",
      "[CV 7/10] END ........................alpha=0.02, l1_ratio=1; total time=   0.2s\n",
      "[CV 8/10] END ........................alpha=0.02, l1_ratio=1; total time=   0.2s\n",
      "[CV 9/10] END ........................alpha=0.02, l1_ratio=1; total time=   0.2s\n",
      "[CV 10/10] END .......................alpha=0.02, l1_ratio=1; total time=   0.2s\n",
      "[CV 1/10] END .......................alpha=0.1, l1_ratio=0.1; total time=   0.2s\n",
      "[CV 2/10] END .......................alpha=0.1, l1_ratio=0.1; total time=   0.2s\n",
      "[CV 3/10] END .......................alpha=0.1, l1_ratio=0.1; total time=   0.2s\n",
      "[CV 4/10] END .......................alpha=0.1, l1_ratio=0.1; total time=   0.2s\n",
      "[CV 5/10] END .......................alpha=0.1, l1_ratio=0.1; total time=   0.2s\n",
      "[CV 6/10] END .......................alpha=0.1, l1_ratio=0.1; total time=   0.2s\n",
      "[CV 7/10] END .......................alpha=0.1, l1_ratio=0.1; total time=   0.2s\n",
      "[CV 8/10] END .......................alpha=0.1, l1_ratio=0.1; total time=   0.3s\n",
      "[CV 9/10] END .......................alpha=0.1, l1_ratio=0.1; total time=   0.2s\n",
      "[CV 10/10] END ......................alpha=0.1, l1_ratio=0.1; total time=   0.2s\n",
      "[CV 1/10] END .......................alpha=0.1, l1_ratio=0.5; total time=   0.2s\n",
      "[CV 2/10] END .......................alpha=0.1, l1_ratio=0.5; total time=   0.2s\n",
      "[CV 3/10] END .......................alpha=0.1, l1_ratio=0.5; total time=   0.2s\n",
      "[CV 4/10] END .......................alpha=0.1, l1_ratio=0.5; total time=   0.2s\n",
      "[CV 5/10] END .......................alpha=0.1, l1_ratio=0.5; total time=   0.2s\n",
      "[CV 6/10] END .......................alpha=0.1, l1_ratio=0.5; total time=   0.2s\n",
      "[CV 7/10] END .......................alpha=0.1, l1_ratio=0.5; total time=   0.2s\n",
      "[CV 8/10] END .......................alpha=0.1, l1_ratio=0.5; total time=   0.3s\n",
      "[CV 9/10] END .......................alpha=0.1, l1_ratio=0.5; total time=   0.2s\n",
      "[CV 10/10] END ......................alpha=0.1, l1_ratio=0.5; total time=   0.2s\n",
      "[CV 1/10] END .......................alpha=0.1, l1_ratio=0.7; total time=   0.3s\n",
      "[CV 2/10] END .......................alpha=0.1, l1_ratio=0.7; total time=   0.2s\n",
      "[CV 3/10] END .......................alpha=0.1, l1_ratio=0.7; total time=   0.2s\n",
      "[CV 4/10] END .......................alpha=0.1, l1_ratio=0.7; total time=   0.2s\n",
      "[CV 5/10] END .......................alpha=0.1, l1_ratio=0.7; total time=   0.2s\n",
      "[CV 6/10] END .......................alpha=0.1, l1_ratio=0.7; total time=   0.3s\n",
      "[CV 7/10] END .......................alpha=0.1, l1_ratio=0.7; total time=   0.3s\n",
      "[CV 8/10] END .......................alpha=0.1, l1_ratio=0.7; total time=   0.2s\n",
      "[CV 9/10] END .......................alpha=0.1, l1_ratio=0.7; total time=   0.2s\n",
      "[CV 10/10] END ......................alpha=0.1, l1_ratio=0.7; total time=   0.2s\n",
      "[CV 1/10] END .......................alpha=0.1, l1_ratio=0.9; total time=   0.2s\n",
      "[CV 2/10] END .......................alpha=0.1, l1_ratio=0.9; total time=   0.3s\n",
      "[CV 3/10] END .......................alpha=0.1, l1_ratio=0.9; total time=   0.2s\n",
      "[CV 4/10] END .......................alpha=0.1, l1_ratio=0.9; total time=   0.2s\n",
      "[CV 5/10] END .......................alpha=0.1, l1_ratio=0.9; total time=   0.2s\n",
      "[CV 6/10] END .......................alpha=0.1, l1_ratio=0.9; total time=   0.2s\n",
      "[CV 7/10] END .......................alpha=0.1, l1_ratio=0.9; total time=   0.3s\n",
      "[CV 8/10] END .......................alpha=0.1, l1_ratio=0.9; total time=   0.2s\n",
      "[CV 9/10] END .......................alpha=0.1, l1_ratio=0.9; total time=   0.2s\n",
      "[CV 10/10] END ......................alpha=0.1, l1_ratio=0.9; total time=   0.2s\n",
      "[CV 1/10] END ......................alpha=0.1, l1_ratio=0.95; total time=   0.3s\n",
      "[CV 2/10] END ......................alpha=0.1, l1_ratio=0.95; total time=   0.3s\n",
      "[CV 3/10] END ......................alpha=0.1, l1_ratio=0.95; total time=   0.2s\n",
      "[CV 4/10] END ......................alpha=0.1, l1_ratio=0.95; total time=   0.2s\n",
      "[CV 5/10] END ......................alpha=0.1, l1_ratio=0.95; total time=   0.2s\n",
      "[CV 6/10] END ......................alpha=0.1, l1_ratio=0.95; total time=   0.2s\n",
      "[CV 7/10] END ......................alpha=0.1, l1_ratio=0.95; total time=   0.3s\n",
      "[CV 8/10] END ......................alpha=0.1, l1_ratio=0.95; total time=   0.3s\n",
      "[CV 9/10] END ......................alpha=0.1, l1_ratio=0.95; total time=   0.2s\n",
      "[CV 10/10] END .....................alpha=0.1, l1_ratio=0.95; total time=   0.2s\n",
      "[CV 1/10] END ......................alpha=0.1, l1_ratio=0.99; total time=   0.2s\n",
      "[CV 2/10] END ......................alpha=0.1, l1_ratio=0.99; total time=   0.3s\n",
      "[CV 3/10] END ......................alpha=0.1, l1_ratio=0.99; total time=   0.2s\n",
      "[CV 4/10] END ......................alpha=0.1, l1_ratio=0.99; total time=   0.2s\n",
      "[CV 5/10] END ......................alpha=0.1, l1_ratio=0.99; total time=   0.2s\n",
      "[CV 6/10] END ......................alpha=0.1, l1_ratio=0.99; total time=   0.3s\n",
      "[CV 7/10] END ......................alpha=0.1, l1_ratio=0.99; total time=   0.3s\n",
      "[CV 8/10] END ......................alpha=0.1, l1_ratio=0.99; total time=   0.3s\n",
      "[CV 9/10] END ......................alpha=0.1, l1_ratio=0.99; total time=   0.2s\n",
      "[CV 10/10] END .....................alpha=0.1, l1_ratio=0.99; total time=   0.2s\n",
      "[CV 1/10] END .........................alpha=0.1, l1_ratio=1; total time=   0.2s\n",
      "[CV 2/10] END .........................alpha=0.1, l1_ratio=1; total time=   0.2s\n",
      "[CV 3/10] END .........................alpha=0.1, l1_ratio=1; total time=   0.2s\n"
     ]
    },
    {
     "name": "stdout",
     "output_type": "stream",
     "text": [
      "[CV 4/10] END .........................alpha=0.1, l1_ratio=1; total time=   0.2s\n",
      "[CV 5/10] END .........................alpha=0.1, l1_ratio=1; total time=   0.2s\n",
      "[CV 6/10] END .........................alpha=0.1, l1_ratio=1; total time=   0.2s\n",
      "[CV 7/10] END .........................alpha=0.1, l1_ratio=1; total time=   0.2s\n",
      "[CV 8/10] END .........................alpha=0.1, l1_ratio=1; total time=   0.2s\n",
      "[CV 9/10] END .........................alpha=0.1, l1_ratio=1; total time=   0.2s\n",
      "[CV 10/10] END ........................alpha=0.1, l1_ratio=1; total time=   0.2s\n",
      "[CV 1/10] END .........................alpha=1, l1_ratio=0.1; total time=   0.2s\n",
      "[CV 2/10] END .........................alpha=1, l1_ratio=0.1; total time=   0.2s\n",
      "[CV 3/10] END .........................alpha=1, l1_ratio=0.1; total time=   0.2s\n",
      "[CV 4/10] END .........................alpha=1, l1_ratio=0.1; total time=   0.2s\n",
      "[CV 5/10] END .........................alpha=1, l1_ratio=0.1; total time=   0.2s\n",
      "[CV 6/10] END .........................alpha=1, l1_ratio=0.1; total time=   0.2s\n",
      "[CV 7/10] END .........................alpha=1, l1_ratio=0.1; total time=   0.2s\n",
      "[CV 8/10] END .........................alpha=1, l1_ratio=0.1; total time=   0.2s\n",
      "[CV 9/10] END .........................alpha=1, l1_ratio=0.1; total time=   0.2s\n",
      "[CV 10/10] END ........................alpha=1, l1_ratio=0.1; total time=   0.2s\n",
      "[CV 1/10] END .........................alpha=1, l1_ratio=0.5; total time=   0.2s\n",
      "[CV 2/10] END .........................alpha=1, l1_ratio=0.5; total time=   0.2s\n",
      "[CV 3/10] END .........................alpha=1, l1_ratio=0.5; total time=   0.2s\n",
      "[CV 4/10] END .........................alpha=1, l1_ratio=0.5; total time=   0.2s\n",
      "[CV 5/10] END .........................alpha=1, l1_ratio=0.5; total time=   0.2s\n",
      "[CV 6/10] END .........................alpha=1, l1_ratio=0.5; total time=   0.2s\n",
      "[CV 7/10] END .........................alpha=1, l1_ratio=0.5; total time=   0.2s\n",
      "[CV 8/10] END .........................alpha=1, l1_ratio=0.5; total time=   0.2s\n",
      "[CV 9/10] END .........................alpha=1, l1_ratio=0.5; total time=   0.2s\n",
      "[CV 10/10] END ........................alpha=1, l1_ratio=0.5; total time=   0.2s\n",
      "[CV 1/10] END .........................alpha=1, l1_ratio=0.7; total time=   0.2s\n",
      "[CV 2/10] END .........................alpha=1, l1_ratio=0.7; total time=   0.2s\n",
      "[CV 3/10] END .........................alpha=1, l1_ratio=0.7; total time=   0.2s\n",
      "[CV 4/10] END .........................alpha=1, l1_ratio=0.7; total time=   0.2s\n",
      "[CV 5/10] END .........................alpha=1, l1_ratio=0.7; total time=   0.2s\n",
      "[CV 6/10] END .........................alpha=1, l1_ratio=0.7; total time=   0.2s\n",
      "[CV 7/10] END .........................alpha=1, l1_ratio=0.7; total time=   0.2s\n",
      "[CV 8/10] END .........................alpha=1, l1_ratio=0.7; total time=   0.2s\n",
      "[CV 9/10] END .........................alpha=1, l1_ratio=0.7; total time=   0.2s\n",
      "[CV 10/10] END ........................alpha=1, l1_ratio=0.7; total time=   0.2s\n",
      "[CV 1/10] END .........................alpha=1, l1_ratio=0.9; total time=   0.2s\n",
      "[CV 2/10] END .........................alpha=1, l1_ratio=0.9; total time=   0.3s\n",
      "[CV 3/10] END .........................alpha=1, l1_ratio=0.9; total time=   0.2s\n",
      "[CV 4/10] END .........................alpha=1, l1_ratio=0.9; total time=   0.2s\n",
      "[CV 5/10] END .........................alpha=1, l1_ratio=0.9; total time=   0.2s\n",
      "[CV 6/10] END .........................alpha=1, l1_ratio=0.9; total time=   0.2s\n",
      "[CV 7/10] END .........................alpha=1, l1_ratio=0.9; total time=   0.2s\n",
      "[CV 8/10] END .........................alpha=1, l1_ratio=0.9; total time=   0.3s\n",
      "[CV 9/10] END .........................alpha=1, l1_ratio=0.9; total time=   0.2s\n",
      "[CV 10/10] END ........................alpha=1, l1_ratio=0.9; total time=   0.2s\n",
      "[CV 1/10] END ........................alpha=1, l1_ratio=0.95; total time=   0.2s\n",
      "[CV 2/10] END ........................alpha=1, l1_ratio=0.95; total time=   0.3s\n",
      "[CV 3/10] END ........................alpha=1, l1_ratio=0.95; total time=   0.2s\n",
      "[CV 4/10] END ........................alpha=1, l1_ratio=0.95; total time=   0.2s\n",
      "[CV 5/10] END ........................alpha=1, l1_ratio=0.95; total time=   0.3s\n",
      "[CV 6/10] END ........................alpha=1, l1_ratio=0.95; total time=   0.2s\n",
      "[CV 7/10] END ........................alpha=1, l1_ratio=0.95; total time=   0.2s\n",
      "[CV 8/10] END ........................alpha=1, l1_ratio=0.95; total time=   0.2s\n",
      "[CV 9/10] END ........................alpha=1, l1_ratio=0.95; total time=   0.3s\n",
      "[CV 10/10] END .......................alpha=1, l1_ratio=0.95; total time=   0.2s\n",
      "[CV 1/10] END ........................alpha=1, l1_ratio=0.99; total time=   0.2s\n",
      "[CV 2/10] END ........................alpha=1, l1_ratio=0.99; total time=   0.2s\n",
      "[CV 3/10] END ........................alpha=1, l1_ratio=0.99; total time=   0.2s\n",
      "[CV 4/10] END ........................alpha=1, l1_ratio=0.99; total time=   0.2s\n",
      "[CV 5/10] END ........................alpha=1, l1_ratio=0.99; total time=   0.2s\n",
      "[CV 6/10] END ........................alpha=1, l1_ratio=0.99; total time=   0.2s\n",
      "[CV 7/10] END ........................alpha=1, l1_ratio=0.99; total time=   0.2s\n",
      "[CV 8/10] END ........................alpha=1, l1_ratio=0.99; total time=   0.2s\n",
      "[CV 9/10] END ........................alpha=1, l1_ratio=0.99; total time=   0.2s\n",
      "[CV 10/10] END .......................alpha=1, l1_ratio=0.99; total time=   0.2s\n",
      "[CV 1/10] END ...........................alpha=1, l1_ratio=1; total time=   0.2s\n",
      "[CV 2/10] END ...........................alpha=1, l1_ratio=1; total time=   0.2s\n",
      "[CV 3/10] END ...........................alpha=1, l1_ratio=1; total time=   0.2s\n",
      "[CV 4/10] END ...........................alpha=1, l1_ratio=1; total time=   0.2s\n",
      "[CV 5/10] END ...........................alpha=1, l1_ratio=1; total time=   0.2s\n",
      "[CV 6/10] END ...........................alpha=1, l1_ratio=1; total time=   0.2s\n",
      "[CV 7/10] END ...........................alpha=1, l1_ratio=1; total time=   0.2s\n",
      "[CV 8/10] END ...........................alpha=1, l1_ratio=1; total time=   0.2s\n",
      "[CV 9/10] END ...........................alpha=1, l1_ratio=1; total time=   0.2s\n",
      "[CV 10/10] END ..........................alpha=1, l1_ratio=1; total time=   0.2s\n",
      "[CV 1/10] END .........................alpha=5, l1_ratio=0.1; total time=   0.2s\n",
      "[CV 2/10] END .........................alpha=5, l1_ratio=0.1; total time=   0.2s\n",
      "[CV 3/10] END .........................alpha=5, l1_ratio=0.1; total time=   0.2s\n",
      "[CV 4/10] END .........................alpha=5, l1_ratio=0.1; total time=   0.2s\n",
      "[CV 5/10] END .........................alpha=5, l1_ratio=0.1; total time=   0.2s\n",
      "[CV 6/10] END .........................alpha=5, l1_ratio=0.1; total time=   0.2s\n",
      "[CV 7/10] END .........................alpha=5, l1_ratio=0.1; total time=   0.2s\n",
      "[CV 8/10] END .........................alpha=5, l1_ratio=0.1; total time=   0.2s\n",
      "[CV 9/10] END .........................alpha=5, l1_ratio=0.1; total time=   0.2s\n",
      "[CV 10/10] END ........................alpha=5, l1_ratio=0.1; total time=   0.2s\n",
      "[CV 1/10] END .........................alpha=5, l1_ratio=0.5; total time=   0.2s\n",
      "[CV 2/10] END .........................alpha=5, l1_ratio=0.5; total time=   0.2s\n",
      "[CV 3/10] END .........................alpha=5, l1_ratio=0.5; total time=   0.2s\n",
      "[CV 4/10] END .........................alpha=5, l1_ratio=0.5; total time=   0.2s\n",
      "[CV 5/10] END .........................alpha=5, l1_ratio=0.5; total time=   0.2s\n",
      "[CV 6/10] END .........................alpha=5, l1_ratio=0.5; total time=   0.2s\n",
      "[CV 7/10] END .........................alpha=5, l1_ratio=0.5; total time=   0.2s\n",
      "[CV 8/10] END .........................alpha=5, l1_ratio=0.5; total time=   0.2s\n",
      "[CV 9/10] END .........................alpha=5, l1_ratio=0.5; total time=   0.2s\n",
      "[CV 10/10] END ........................alpha=5, l1_ratio=0.5; total time=   0.2s\n",
      "[CV 1/10] END .........................alpha=5, l1_ratio=0.7; total time=   0.2s\n",
      "[CV 2/10] END .........................alpha=5, l1_ratio=0.7; total time=   0.2s\n",
      "[CV 3/10] END .........................alpha=5, l1_ratio=0.7; total time=   0.2s\n",
      "[CV 4/10] END .........................alpha=5, l1_ratio=0.7; total time=   0.2s\n",
      "[CV 5/10] END .........................alpha=5, l1_ratio=0.7; total time=   0.2s\n"
     ]
    },
    {
     "name": "stdout",
     "output_type": "stream",
     "text": [
      "[CV 6/10] END .........................alpha=5, l1_ratio=0.7; total time=   0.2s\n",
      "[CV 7/10] END .........................alpha=5, l1_ratio=0.7; total time=   0.2s\n",
      "[CV 8/10] END .........................alpha=5, l1_ratio=0.7; total time=   0.2s\n",
      "[CV 9/10] END .........................alpha=5, l1_ratio=0.7; total time=   0.2s\n",
      "[CV 10/10] END ........................alpha=5, l1_ratio=0.7; total time=   0.2s\n",
      "[CV 1/10] END .........................alpha=5, l1_ratio=0.9; total time=   0.2s\n",
      "[CV 2/10] END .........................alpha=5, l1_ratio=0.9; total time=   0.2s\n",
      "[CV 3/10] END .........................alpha=5, l1_ratio=0.9; total time=   0.2s\n",
      "[CV 4/10] END .........................alpha=5, l1_ratio=0.9; total time=   0.2s\n",
      "[CV 5/10] END .........................alpha=5, l1_ratio=0.9; total time=   0.2s\n",
      "[CV 6/10] END .........................alpha=5, l1_ratio=0.9; total time=   0.2s\n",
      "[CV 7/10] END .........................alpha=5, l1_ratio=0.9; total time=   0.2s\n",
      "[CV 8/10] END .........................alpha=5, l1_ratio=0.9; total time=   0.2s\n",
      "[CV 9/10] END .........................alpha=5, l1_ratio=0.9; total time=   0.2s\n",
      "[CV 10/10] END ........................alpha=5, l1_ratio=0.9; total time=   0.2s\n",
      "[CV 1/10] END ........................alpha=5, l1_ratio=0.95; total time=   0.2s\n",
      "[CV 2/10] END ........................alpha=5, l1_ratio=0.95; total time=   0.2s\n",
      "[CV 3/10] END ........................alpha=5, l1_ratio=0.95; total time=   0.2s\n",
      "[CV 4/10] END ........................alpha=5, l1_ratio=0.95; total time=   0.2s\n",
      "[CV 5/10] END ........................alpha=5, l1_ratio=0.95; total time=   0.2s\n",
      "[CV 6/10] END ........................alpha=5, l1_ratio=0.95; total time=   0.2s\n",
      "[CV 7/10] END ........................alpha=5, l1_ratio=0.95; total time=   0.2s\n",
      "[CV 8/10] END ........................alpha=5, l1_ratio=0.95; total time=   0.2s\n",
      "[CV 9/10] END ........................alpha=5, l1_ratio=0.95; total time=   0.2s\n",
      "[CV 10/10] END .......................alpha=5, l1_ratio=0.95; total time=   0.2s\n",
      "[CV 1/10] END ........................alpha=5, l1_ratio=0.99; total time=   0.2s\n",
      "[CV 2/10] END ........................alpha=5, l1_ratio=0.99; total time=   0.2s\n",
      "[CV 3/10] END ........................alpha=5, l1_ratio=0.99; total time=   0.2s\n",
      "[CV 4/10] END ........................alpha=5, l1_ratio=0.99; total time=   0.2s\n",
      "[CV 5/10] END ........................alpha=5, l1_ratio=0.99; total time=   0.2s\n",
      "[CV 6/10] END ........................alpha=5, l1_ratio=0.99; total time=   0.2s\n",
      "[CV 7/10] END ........................alpha=5, l1_ratio=0.99; total time=   0.2s\n",
      "[CV 8/10] END ........................alpha=5, l1_ratio=0.99; total time=   0.2s\n",
      "[CV 9/10] END ........................alpha=5, l1_ratio=0.99; total time=   0.2s\n",
      "[CV 10/10] END .......................alpha=5, l1_ratio=0.99; total time=   0.2s\n",
      "[CV 1/10] END ...........................alpha=5, l1_ratio=1; total time=   0.2s\n",
      "[CV 2/10] END ...........................alpha=5, l1_ratio=1; total time=   0.2s\n",
      "[CV 3/10] END ...........................alpha=5, l1_ratio=1; total time=   0.2s\n",
      "[CV 4/10] END ...........................alpha=5, l1_ratio=1; total time=   0.2s\n",
      "[CV 5/10] END ...........................alpha=5, l1_ratio=1; total time=   0.2s\n",
      "[CV 6/10] END ...........................alpha=5, l1_ratio=1; total time=   0.2s\n",
      "[CV 7/10] END ...........................alpha=5, l1_ratio=1; total time=   0.2s\n",
      "[CV 8/10] END ...........................alpha=5, l1_ratio=1; total time=   0.2s\n",
      "[CV 9/10] END ...........................alpha=5, l1_ratio=1; total time=   0.2s\n",
      "[CV 10/10] END ..........................alpha=5, l1_ratio=1; total time=   0.2s\n",
      "[CV 1/10] END ........................alpha=10, l1_ratio=0.1; total time=   0.2s\n",
      "[CV 2/10] END ........................alpha=10, l1_ratio=0.1; total time=   0.2s\n",
      "[CV 3/10] END ........................alpha=10, l1_ratio=0.1; total time=   0.2s\n",
      "[CV 4/10] END ........................alpha=10, l1_ratio=0.1; total time=   0.2s\n",
      "[CV 5/10] END ........................alpha=10, l1_ratio=0.1; total time=   0.2s\n",
      "[CV 6/10] END ........................alpha=10, l1_ratio=0.1; total time=   0.2s\n",
      "[CV 7/10] END ........................alpha=10, l1_ratio=0.1; total time=   0.2s\n",
      "[CV 8/10] END ........................alpha=10, l1_ratio=0.1; total time=   0.3s\n",
      "[CV 9/10] END ........................alpha=10, l1_ratio=0.1; total time=   0.2s\n",
      "[CV 10/10] END .......................alpha=10, l1_ratio=0.1; total time=   0.2s\n",
      "[CV 1/10] END ........................alpha=10, l1_ratio=0.5; total time=   0.2s\n",
      "[CV 2/10] END ........................alpha=10, l1_ratio=0.5; total time=   0.2s\n",
      "[CV 3/10] END ........................alpha=10, l1_ratio=0.5; total time=   0.2s\n",
      "[CV 4/10] END ........................alpha=10, l1_ratio=0.5; total time=   0.2s\n",
      "[CV 5/10] END ........................alpha=10, l1_ratio=0.5; total time=   0.2s\n",
      "[CV 6/10] END ........................alpha=10, l1_ratio=0.5; total time=   0.2s\n",
      "[CV 7/10] END ........................alpha=10, l1_ratio=0.5; total time=   0.2s\n",
      "[CV 8/10] END ........................alpha=10, l1_ratio=0.5; total time=   0.2s\n",
      "[CV 9/10] END ........................alpha=10, l1_ratio=0.5; total time=   0.2s\n",
      "[CV 10/10] END .......................alpha=10, l1_ratio=0.5; total time=   0.2s\n",
      "[CV 1/10] END ........................alpha=10, l1_ratio=0.7; total time=   0.2s\n",
      "[CV 2/10] END ........................alpha=10, l1_ratio=0.7; total time=   0.2s\n",
      "[CV 3/10] END ........................alpha=10, l1_ratio=0.7; total time=   0.2s\n",
      "[CV 4/10] END ........................alpha=10, l1_ratio=0.7; total time=   0.2s\n",
      "[CV 5/10] END ........................alpha=10, l1_ratio=0.7; total time=   0.2s\n",
      "[CV 6/10] END ........................alpha=10, l1_ratio=0.7; total time=   0.2s\n",
      "[CV 7/10] END ........................alpha=10, l1_ratio=0.7; total time=   0.2s\n",
      "[CV 8/10] END ........................alpha=10, l1_ratio=0.7; total time=   0.2s\n",
      "[CV 9/10] END ........................alpha=10, l1_ratio=0.7; total time=   0.2s\n",
      "[CV 10/10] END .......................alpha=10, l1_ratio=0.7; total time=   0.2s\n",
      "[CV 1/10] END ........................alpha=10, l1_ratio=0.9; total time=   0.2s\n",
      "[CV 2/10] END ........................alpha=10, l1_ratio=0.9; total time=   0.2s\n",
      "[CV 3/10] END ........................alpha=10, l1_ratio=0.9; total time=   0.2s\n",
      "[CV 4/10] END ........................alpha=10, l1_ratio=0.9; total time=   0.2s\n",
      "[CV 5/10] END ........................alpha=10, l1_ratio=0.9; total time=   0.2s\n",
      "[CV 6/10] END ........................alpha=10, l1_ratio=0.9; total time=   0.2s\n",
      "[CV 7/10] END ........................alpha=10, l1_ratio=0.9; total time=   0.2s\n",
      "[CV 8/10] END ........................alpha=10, l1_ratio=0.9; total time=   0.2s\n",
      "[CV 9/10] END ........................alpha=10, l1_ratio=0.9; total time=   0.2s\n",
      "[CV 10/10] END .......................alpha=10, l1_ratio=0.9; total time=   0.2s\n",
      "[CV 1/10] END .......................alpha=10, l1_ratio=0.95; total time=   0.2s\n",
      "[CV 2/10] END .......................alpha=10, l1_ratio=0.95; total time=   0.2s\n",
      "[CV 3/10] END .......................alpha=10, l1_ratio=0.95; total time=   0.2s\n",
      "[CV 4/10] END .......................alpha=10, l1_ratio=0.95; total time=   0.2s\n",
      "[CV 5/10] END .......................alpha=10, l1_ratio=0.95; total time=   0.2s\n",
      "[CV 6/10] END .......................alpha=10, l1_ratio=0.95; total time=   0.2s\n",
      "[CV 7/10] END .......................alpha=10, l1_ratio=0.95; total time=   0.2s\n",
      "[CV 8/10] END .......................alpha=10, l1_ratio=0.95; total time=   0.3s\n",
      "[CV 9/10] END .......................alpha=10, l1_ratio=0.95; total time=   0.2s\n",
      "[CV 10/10] END ......................alpha=10, l1_ratio=0.95; total time=   0.2s\n",
      "[CV 1/10] END .......................alpha=10, l1_ratio=0.99; total time=   0.2s\n",
      "[CV 2/10] END .......................alpha=10, l1_ratio=0.99; total time=   0.2s\n",
      "[CV 3/10] END .......................alpha=10, l1_ratio=0.99; total time=   0.2s\n",
      "[CV 4/10] END .......................alpha=10, l1_ratio=0.99; total time=   0.2s\n",
      "[CV 5/10] END .......................alpha=10, l1_ratio=0.99; total time=   0.2s\n",
      "[CV 6/10] END .......................alpha=10, l1_ratio=0.99; total time=   0.2s\n",
      "[CV 7/10] END .......................alpha=10, l1_ratio=0.99; total time=   0.2s\n"
     ]
    },
    {
     "name": "stdout",
     "output_type": "stream",
     "text": [
      "[CV 8/10] END .......................alpha=10, l1_ratio=0.99; total time=   0.2s\n",
      "[CV 9/10] END .......................alpha=10, l1_ratio=0.99; total time=   0.2s\n",
      "[CV 10/10] END ......................alpha=10, l1_ratio=0.99; total time=   0.2s\n",
      "[CV 1/10] END ..........................alpha=10, l1_ratio=1; total time=   0.2s\n",
      "[CV 2/10] END ..........................alpha=10, l1_ratio=1; total time=   0.2s\n",
      "[CV 3/10] END ..........................alpha=10, l1_ratio=1; total time=   0.2s\n",
      "[CV 4/10] END ..........................alpha=10, l1_ratio=1; total time=   0.2s\n",
      "[CV 5/10] END ..........................alpha=10, l1_ratio=1; total time=   0.2s\n",
      "[CV 6/10] END ..........................alpha=10, l1_ratio=1; total time=   0.2s\n",
      "[CV 7/10] END ..........................alpha=10, l1_ratio=1; total time=   0.2s\n",
      "[CV 8/10] END ..........................alpha=10, l1_ratio=1; total time=   0.2s\n",
      "[CV 9/10] END ..........................alpha=10, l1_ratio=1; total time=   0.2s\n",
      "[CV 10/10] END .........................alpha=10, l1_ratio=1; total time=   0.2s\n",
      "[CV 1/10] END ........................alpha=50, l1_ratio=0.1; total time=   0.0s\n",
      "[CV 2/10] END ........................alpha=50, l1_ratio=0.1; total time=   0.0s\n",
      "[CV 3/10] END ........................alpha=50, l1_ratio=0.1; total time=   0.0s\n",
      "[CV 4/10] END ........................alpha=50, l1_ratio=0.1; total time=   0.0s\n",
      "[CV 5/10] END ........................alpha=50, l1_ratio=0.1; total time=   0.0s\n",
      "[CV 6/10] END ........................alpha=50, l1_ratio=0.1; total time=   0.1s\n",
      "[CV 7/10] END ........................alpha=50, l1_ratio=0.1; total time=   0.0s\n",
      "[CV 8/10] END ........................alpha=50, l1_ratio=0.1; total time=   0.0s\n",
      "[CV 9/10] END ........................alpha=50, l1_ratio=0.1; total time=   0.0s\n",
      "[CV 10/10] END .......................alpha=50, l1_ratio=0.1; total time=   0.0s\n",
      "[CV 1/10] END ........................alpha=50, l1_ratio=0.5; total time=   0.0s\n",
      "[CV 2/10] END ........................alpha=50, l1_ratio=0.5; total time=   0.1s\n",
      "[CV 3/10] END ........................alpha=50, l1_ratio=0.5; total time=   0.1s\n",
      "[CV 4/10] END ........................alpha=50, l1_ratio=0.5; total time=   0.0s\n",
      "[CV 5/10] END ........................alpha=50, l1_ratio=0.5; total time=   0.1s\n",
      "[CV 6/10] END ........................alpha=50, l1_ratio=0.5; total time=   0.0s\n",
      "[CV 7/10] END ........................alpha=50, l1_ratio=0.5; total time=   0.0s\n",
      "[CV 8/10] END ........................alpha=50, l1_ratio=0.5; total time=   0.1s\n",
      "[CV 9/10] END ........................alpha=50, l1_ratio=0.5; total time=   0.0s\n",
      "[CV 10/10] END .......................alpha=50, l1_ratio=0.5; total time=   0.0s\n",
      "[CV 1/10] END ........................alpha=50, l1_ratio=0.7; total time=   0.1s\n",
      "[CV 2/10] END ........................alpha=50, l1_ratio=0.7; total time=   0.1s\n",
      "[CV 3/10] END ........................alpha=50, l1_ratio=0.7; total time=   0.1s\n",
      "[CV 4/10] END ........................alpha=50, l1_ratio=0.7; total time=   0.1s\n",
      "[CV 5/10] END ........................alpha=50, l1_ratio=0.7; total time=   0.1s\n",
      "[CV 6/10] END ........................alpha=50, l1_ratio=0.7; total time=   0.1s\n",
      "[CV 7/10] END ........................alpha=50, l1_ratio=0.7; total time=   0.1s\n",
      "[CV 8/10] END ........................alpha=50, l1_ratio=0.7; total time=   0.1s\n",
      "[CV 9/10] END ........................alpha=50, l1_ratio=0.7; total time=   0.1s\n",
      "[CV 10/10] END .......................alpha=50, l1_ratio=0.7; total time=   0.1s\n",
      "[CV 1/10] END ........................alpha=50, l1_ratio=0.9; total time=   0.2s\n",
      "[CV 2/10] END ........................alpha=50, l1_ratio=0.9; total time=   0.2s\n",
      "[CV 3/10] END ........................alpha=50, l1_ratio=0.9; total time=   0.2s\n",
      "[CV 4/10] END ........................alpha=50, l1_ratio=0.9; total time=   0.2s\n",
      "[CV 5/10] END ........................alpha=50, l1_ratio=0.9; total time=   0.2s\n",
      "[CV 6/10] END ........................alpha=50, l1_ratio=0.9; total time=   0.2s\n",
      "[CV 7/10] END ........................alpha=50, l1_ratio=0.9; total time=   0.2s\n",
      "[CV 8/10] END ........................alpha=50, l1_ratio=0.9; total time=   0.2s\n",
      "[CV 9/10] END ........................alpha=50, l1_ratio=0.9; total time=   0.2s\n",
      "[CV 10/10] END .......................alpha=50, l1_ratio=0.9; total time=   0.2s\n",
      "[CV 1/10] END .......................alpha=50, l1_ratio=0.95; total time=   0.2s\n",
      "[CV 2/10] END .......................alpha=50, l1_ratio=0.95; total time=   0.2s\n",
      "[CV 3/10] END .......................alpha=50, l1_ratio=0.95; total time=   0.2s\n",
      "[CV 4/10] END .......................alpha=50, l1_ratio=0.95; total time=   0.2s\n",
      "[CV 5/10] END .......................alpha=50, l1_ratio=0.95; total time=   0.2s\n",
      "[CV 6/10] END .......................alpha=50, l1_ratio=0.95; total time=   0.2s\n",
      "[CV 7/10] END .......................alpha=50, l1_ratio=0.95; total time=   0.2s\n",
      "[CV 8/10] END .......................alpha=50, l1_ratio=0.95; total time=   0.2s\n",
      "[CV 9/10] END .......................alpha=50, l1_ratio=0.95; total time=   0.2s\n",
      "[CV 10/10] END ......................alpha=50, l1_ratio=0.95; total time=   0.2s\n",
      "[CV 1/10] END .......................alpha=50, l1_ratio=0.99; total time=   0.2s\n",
      "[CV 2/10] END .......................alpha=50, l1_ratio=0.99; total time=   0.2s\n",
      "[CV 3/10] END .......................alpha=50, l1_ratio=0.99; total time=   0.2s\n",
      "[CV 4/10] END .......................alpha=50, l1_ratio=0.99; total time=   0.2s\n",
      "[CV 5/10] END .......................alpha=50, l1_ratio=0.99; total time=   0.2s\n",
      "[CV 6/10] END .......................alpha=50, l1_ratio=0.99; total time=   0.2s\n",
      "[CV 7/10] END .......................alpha=50, l1_ratio=0.99; total time=   0.3s\n",
      "[CV 8/10] END .......................alpha=50, l1_ratio=0.99; total time=   0.2s\n",
      "[CV 9/10] END .......................alpha=50, l1_ratio=0.99; total time=   0.2s\n",
      "[CV 10/10] END ......................alpha=50, l1_ratio=0.99; total time=   0.2s\n",
      "[CV 1/10] END ..........................alpha=50, l1_ratio=1; total time=   0.1s\n",
      "[CV 2/10] END ..........................alpha=50, l1_ratio=1; total time=   0.1s\n",
      "[CV 3/10] END ..........................alpha=50, l1_ratio=1; total time=   0.1s\n",
      "[CV 4/10] END ..........................alpha=50, l1_ratio=1; total time=   0.2s\n",
      "[CV 5/10] END ..........................alpha=50, l1_ratio=1; total time=   0.2s\n",
      "[CV 6/10] END ..........................alpha=50, l1_ratio=1; total time=   0.1s\n",
      "[CV 7/10] END ..........................alpha=50, l1_ratio=1; total time=   0.1s\n",
      "[CV 8/10] END ..........................alpha=50, l1_ratio=1; total time=   0.1s\n",
      "[CV 9/10] END ..........................alpha=50, l1_ratio=1; total time=   0.1s\n",
      "[CV 10/10] END .........................alpha=50, l1_ratio=1; total time=   0.1s\n",
      "[CV 1/10] END .......................alpha=100, l1_ratio=0.1; total time=   0.0s\n",
      "[CV 2/10] END .......................alpha=100, l1_ratio=0.1; total time=   0.0s\n",
      "[CV 3/10] END .......................alpha=100, l1_ratio=0.1; total time=   0.0s\n",
      "[CV 4/10] END .......................alpha=100, l1_ratio=0.1; total time=   0.0s\n",
      "[CV 5/10] END .......................alpha=100, l1_ratio=0.1; total time=   0.0s\n",
      "[CV 6/10] END .......................alpha=100, l1_ratio=0.1; total time=   0.0s\n",
      "[CV 7/10] END .......................alpha=100, l1_ratio=0.1; total time=   0.0s\n",
      "[CV 8/10] END .......................alpha=100, l1_ratio=0.1; total time=   0.0s\n",
      "[CV 9/10] END .......................alpha=100, l1_ratio=0.1; total time=   0.0s\n",
      "[CV 10/10] END ......................alpha=100, l1_ratio=0.1; total time=   0.0s\n",
      "[CV 1/10] END .......................alpha=100, l1_ratio=0.5; total time=   0.0s\n",
      "[CV 2/10] END .......................alpha=100, l1_ratio=0.5; total time=   0.0s\n",
      "[CV 3/10] END .......................alpha=100, l1_ratio=0.5; total time=   0.0s\n",
      "[CV 4/10] END .......................alpha=100, l1_ratio=0.5; total time=   0.0s\n",
      "[CV 5/10] END .......................alpha=100, l1_ratio=0.5; total time=   0.0s\n",
      "[CV 6/10] END .......................alpha=100, l1_ratio=0.5; total time=   0.0s\n",
      "[CV 7/10] END .......................alpha=100, l1_ratio=0.5; total time=   0.0s\n",
      "[CV 8/10] END .......................alpha=100, l1_ratio=0.5; total time=   0.0s\n",
      "[CV 9/10] END .......................alpha=100, l1_ratio=0.5; total time=   0.0s\n",
      "[CV 10/10] END ......................alpha=100, l1_ratio=0.5; total time=   0.0s\n"
     ]
    },
    {
     "name": "stdout",
     "output_type": "stream",
     "text": [
      "[CV 1/10] END .......................alpha=100, l1_ratio=0.7; total time=   0.0s\n",
      "[CV 2/10] END .......................alpha=100, l1_ratio=0.7; total time=   0.0s\n",
      "[CV 3/10] END .......................alpha=100, l1_ratio=0.7; total time=   0.0s\n",
      "[CV 4/10] END .......................alpha=100, l1_ratio=0.7; total time=   0.0s\n",
      "[CV 5/10] END .......................alpha=100, l1_ratio=0.7; total time=   0.0s\n",
      "[CV 6/10] END .......................alpha=100, l1_ratio=0.7; total time=   0.0s\n",
      "[CV 7/10] END .......................alpha=100, l1_ratio=0.7; total time=   0.0s\n",
      "[CV 8/10] END .......................alpha=100, l1_ratio=0.7; total time=   0.0s\n",
      "[CV 9/10] END .......................alpha=100, l1_ratio=0.7; total time=   0.0s\n",
      "[CV 10/10] END ......................alpha=100, l1_ratio=0.7; total time=   0.0s\n",
      "[CV 1/10] END .......................alpha=100, l1_ratio=0.9; total time=   0.2s\n",
      "[CV 2/10] END .......................alpha=100, l1_ratio=0.9; total time=   0.2s\n",
      "[CV 3/10] END .......................alpha=100, l1_ratio=0.9; total time=   0.2s\n",
      "[CV 4/10] END .......................alpha=100, l1_ratio=0.9; total time=   0.2s\n",
      "[CV 5/10] END .......................alpha=100, l1_ratio=0.9; total time=   0.2s\n",
      "[CV 6/10] END .......................alpha=100, l1_ratio=0.9; total time=   0.2s\n",
      "[CV 7/10] END .......................alpha=100, l1_ratio=0.9; total time=   0.2s\n",
      "[CV 8/10] END .......................alpha=100, l1_ratio=0.9; total time=   0.2s\n",
      "[CV 9/10] END .......................alpha=100, l1_ratio=0.9; total time=   0.2s\n",
      "[CV 10/10] END ......................alpha=100, l1_ratio=0.9; total time=   0.2s\n",
      "[CV 1/10] END ......................alpha=100, l1_ratio=0.95; total time=   0.2s\n",
      "[CV 2/10] END ......................alpha=100, l1_ratio=0.95; total time=   0.2s\n",
      "[CV 3/10] END ......................alpha=100, l1_ratio=0.95; total time=   0.2s\n",
      "[CV 4/10] END ......................alpha=100, l1_ratio=0.95; total time=   0.2s\n",
      "[CV 5/10] END ......................alpha=100, l1_ratio=0.95; total time=   0.3s\n",
      "[CV 6/10] END ......................alpha=100, l1_ratio=0.95; total time=   0.2s\n",
      "[CV 7/10] END ......................alpha=100, l1_ratio=0.95; total time=   0.2s\n",
      "[CV 8/10] END ......................alpha=100, l1_ratio=0.95; total time=   0.2s\n",
      "[CV 9/10] END ......................alpha=100, l1_ratio=0.95; total time=   0.2s\n",
      "[CV 10/10] END .....................alpha=100, l1_ratio=0.95; total time=   0.2s\n",
      "[CV 1/10] END ......................alpha=100, l1_ratio=0.99; total time=   0.2s\n",
      "[CV 2/10] END ......................alpha=100, l1_ratio=0.99; total time=   0.2s\n",
      "[CV 3/10] END ......................alpha=100, l1_ratio=0.99; total time=   0.2s\n",
      "[CV 4/10] END ......................alpha=100, l1_ratio=0.99; total time=   0.2s\n",
      "[CV 5/10] END ......................alpha=100, l1_ratio=0.99; total time=   0.2s\n",
      "[CV 6/10] END ......................alpha=100, l1_ratio=0.99; total time=   0.2s\n",
      "[CV 7/10] END ......................alpha=100, l1_ratio=0.99; total time=   0.2s\n",
      "[CV 8/10] END ......................alpha=100, l1_ratio=0.99; total time=   0.2s\n",
      "[CV 9/10] END ......................alpha=100, l1_ratio=0.99; total time=   0.2s\n",
      "[CV 10/10] END .....................alpha=100, l1_ratio=0.99; total time=   0.2s\n",
      "[CV 1/10] END .........................alpha=100, l1_ratio=1; total time=   0.1s\n",
      "[CV 2/10] END .........................alpha=100, l1_ratio=1; total time=   0.1s\n",
      "[CV 3/10] END .........................alpha=100, l1_ratio=1; total time=   0.1s\n",
      "[CV 4/10] END .........................alpha=100, l1_ratio=1; total time=   0.1s\n",
      "[CV 5/10] END .........................alpha=100, l1_ratio=1; total time=   0.1s\n",
      "[CV 6/10] END .........................alpha=100, l1_ratio=1; total time=   0.1s\n",
      "[CV 7/10] END .........................alpha=100, l1_ratio=1; total time=   0.1s\n",
      "[CV 8/10] END .........................alpha=100, l1_ratio=1; total time=   0.1s\n",
      "[CV 9/10] END .........................alpha=100, l1_ratio=1; total time=   0.1s\n",
      "[CV 10/10] END ........................alpha=100, l1_ratio=1; total time=   0.1s\n"
     ]
    },
    {
     "data": {
      "text/plain": [
       "GridSearchCV(cv=10, estimator=ElasticNet(max_iter=100),\n",
       "             param_grid={'alpha': [0.01, 0.02, 0.1, 1, 5, 10, 50, 100],\n",
       "                         'l1_ratio': [0.1, 0.5, 0.7, 0.9, 0.95, 0.99, 1]},\n",
       "             scoring='neg_root_mean_squared_error', verbose=3)"
      ]
     },
     "execution_count": 174,
     "metadata": {},
     "output_type": "execute_result"
    }
   ],
   "source": [
    "grid_model.fit(X_train,y_train)"
   ]
  },
  {
   "cell_type": "code",
   "execution_count": 175,
   "id": "89951247",
   "metadata": {},
   "outputs": [
    {
     "data": {
      "text/plain": [
       "{'alpha': 100, 'l1_ratio': 1}"
      ]
     },
     "execution_count": 175,
     "metadata": {},
     "output_type": "execute_result"
    }
   ],
   "source": [
    "grid_model.best_params_"
   ]
  },
  {
   "cell_type": "markdown",
   "id": "05e9d919",
   "metadata": {},
   "source": [
    "# Best Model Grid Search"
   ]
  },
  {
   "cell_type": "code",
   "execution_count": 176,
   "id": "d5ca227b",
   "metadata": {},
   "outputs": [],
   "source": [
    "y_pred = grid_model.predict(X_test)"
   ]
  },
  {
   "cell_type": "code",
   "execution_count": 177,
   "id": "bf902e2d",
   "metadata": {},
   "outputs": [
    {
     "name": "stdout",
     "output_type": "stream",
     "text": [
      "Model testing performance\n",
      "-------------------------\n",
      "R2_score \t: 0.9178536637418064\n",
      "MAE \t\t: 81565.33746815377\n",
      "MSE \t\t: 10250538410.639187\n",
      "RMSE \t\t: 101244.94264228306\n"
     ]
    }
   ],
   "source": [
    "eval_metrics(y_test,y_pred)"
   ]
  },
  {
   "cell_type": "code",
   "execution_count": 178,
   "id": "02aad306",
   "metadata": {},
   "outputs": [],
   "source": [
    "y_train_pred = grid_model.predict(X_train)"
   ]
  },
  {
   "cell_type": "code",
   "execution_count": 179,
   "id": "76dd1763",
   "metadata": {},
   "outputs": [
    {
     "name": "stdout",
     "output_type": "stream",
     "text": [
      "Model testing performance\n",
      "-------------------------\n",
      "R2_score \t: 0.9183614032590486\n",
      "MAE \t\t: 81083.90315750848\n",
      "MSE \t\t: 10169461791.647236\n",
      "RMSE \t\t: 100843.74939304485\n"
     ]
    }
   ],
   "source": [
    "eval_metrics(y_train, y_train_pred)"
   ]
  },
  {
   "cell_type": "code",
   "execution_count": 180,
   "id": "280eb797",
   "metadata": {},
   "outputs": [
    {
     "data": {
      "text/html": [
       "<div>\n",
       "<style scoped>\n",
       "    .dataframe tbody tr th:only-of-type {\n",
       "        vertical-align: middle;\n",
       "    }\n",
       "\n",
       "    .dataframe tbody tr th {\n",
       "        vertical-align: top;\n",
       "    }\n",
       "\n",
       "    .dataframe thead th {\n",
       "        text-align: right;\n",
       "    }\n",
       "</style>\n",
       "<table border=\"1\" class=\"dataframe\">\n",
       "  <thead>\n",
       "    <tr style=\"text-align: right;\">\n",
       "      <th></th>\n",
       "      <th>grid_train</th>\n",
       "      <th>grid_test</th>\n",
       "    </tr>\n",
       "  </thead>\n",
       "  <tbody>\n",
       "    <tr>\n",
       "      <th>rmse</th>\n",
       "      <td>100843.74939</td>\n",
       "      <td>101244.94264</td>\n",
       "    </tr>\n",
       "    <tr>\n",
       "      <th>mae</th>\n",
       "      <td>81083.90316</td>\n",
       "      <td>81565.33747</td>\n",
       "    </tr>\n",
       "    <tr>\n",
       "      <th>mse</th>\n",
       "      <td>10169461791.64724</td>\n",
       "      <td>10250538410.63919</td>\n",
       "    </tr>\n",
       "    <tr>\n",
       "      <th>R2</th>\n",
       "      <td>0.91836</td>\n",
       "      <td>0.91785</td>\n",
       "    </tr>\n",
       "  </tbody>\n",
       "</table>\n",
       "</div>"
      ],
      "text/plain": [
       "            grid_train         grid_test\n",
       "rmse      100843.74939      101244.94264\n",
       "mae        81083.90316       81565.33747\n",
       "mse  10169461791.64724 10250538410.63919\n",
       "R2             0.91836           0.91785"
      ]
     },
     "execution_count": 180,
     "metadata": {},
     "output_type": "execute_result"
    }
   ],
   "source": [
    "grid_scores = {\"grid_train\": {\"rmse\": np.sqrt(mean_squared_error(y_train, y_train_pred)),\n",
    "                              \"mae\": mean_absolute_error(y_train, y_train_pred),\n",
    "                              \"mse\": mean_squared_error(y_train, y_train_pred),\n",
    "                              \"R2\": r2_score(y_train, y_train_pred)},\n",
    "              \"grid_test\":{\"rmse\": np.sqrt(mean_squared_error(y_test, y_pred)),\n",
    "                              \"mae\": mean_absolute_error(y_test, y_pred),\n",
    "                              \"mse\": mean_squared_error(y_test, y_pred),\n",
    "                              \"R2\": r2_score(y_test, y_pred)}}\n",
    "gs = pd.DataFrame(grid_scores)\n",
    "gs"
   ]
  },
  {
   "cell_type": "code",
   "execution_count": 208,
   "id": "356cb966",
   "metadata": {},
   "outputs": [
    {
     "data": {
      "text/html": [
       "<div>\n",
       "<style scoped>\n",
       "    .dataframe tbody tr th:only-of-type {\n",
       "        vertical-align: middle;\n",
       "    }\n",
       "\n",
       "    .dataframe tbody tr th {\n",
       "        vertical-align: top;\n",
       "    }\n",
       "\n",
       "    .dataframe thead th {\n",
       "        text-align: right;\n",
       "    }\n",
       "</style>\n",
       "<table border=\"1\" class=\"dataframe\">\n",
       "  <thead>\n",
       "    <tr style=\"text-align: right;\">\n",
       "      <th></th>\n",
       "      <th>slm_train</th>\n",
       "      <th>slm_test</th>\n",
       "      <th>lm_train</th>\n",
       "      <th>lm_test</th>\n",
       "      <th>ridge_train</th>\n",
       "      <th>ridge_test</th>\n",
       "      <th>ridge_cv_train</th>\n",
       "      <th>ridge_cv_test</th>\n",
       "      <th>lasso_train</th>\n",
       "      <th>lasso_test</th>\n",
       "      <th>lasso_cv_train</th>\n",
       "      <th>lasso_cv_test</th>\n",
       "      <th>elastic_train</th>\n",
       "      <th>elastic_test</th>\n",
       "      <th>elastic_cv_train</th>\n",
       "      <th>elastic_cv_test</th>\n",
       "      <th>grid_train</th>\n",
       "      <th>grid_test</th>\n",
       "    </tr>\n",
       "  </thead>\n",
       "  <tbody>\n",
       "    <tr>\n",
       "      <th>rmse</th>\n",
       "      <td>196342.38008</td>\n",
       "      <td>194788.29539</td>\n",
       "      <td>97653.83031</td>\n",
       "      <td>108591.04995</td>\n",
       "      <td>100246.78634</td>\n",
       "      <td>102051.52294</td>\n",
       "      <td>100246.78634</td>\n",
       "      <td>102051.52294</td>\n",
       "      <td>100438.65804</td>\n",
       "      <td>101978.13108</td>\n",
       "      <td>100718.22033</td>\n",
       "      <td>101534.29863</td>\n",
       "      <td>109573.39243</td>\n",
       "      <td>110556.43890</td>\n",
       "      <td>100759.49833</td>\n",
       "      <td>101527.40812</td>\n",
       "      <td>100843.74939</td>\n",
       "      <td>101244.94264</td>\n",
       "    </tr>\n",
       "    <tr>\n",
       "      <th>mae</th>\n",
       "      <td>158295.41434</td>\n",
       "      <td>155674.96396</td>\n",
       "      <td>78525.06702</td>\n",
       "      <td>86256.85206</td>\n",
       "      <td>80667.32244</td>\n",
       "      <td>82104.08674</td>\n",
       "      <td>80667.32244</td>\n",
       "      <td>82104.08674</td>\n",
       "      <td>80828.48002</td>\n",
       "      <td>82098.42355</td>\n",
       "      <td>80997.30610</td>\n",
       "      <td>81853.59807</td>\n",
       "      <td>87256.36100</td>\n",
       "      <td>88146.96007</td>\n",
       "      <td>81029.00511</td>\n",
       "      <td>81833.83968</td>\n",
       "      <td>81083.90316</td>\n",
       "      <td>81565.33747</td>\n",
       "    </tr>\n",
       "    <tr>\n",
       "      <th>mse</th>\n",
       "      <td>38550330214.66680</td>\n",
       "      <td>37942480019.09532</td>\n",
       "      <td>9536270574.91490</td>\n",
       "      <td>11792016129.79281</td>\n",
       "      <td>10049418171.92053</td>\n",
       "      <td>10414513334.35382</td>\n",
       "      <td>10049418171.92053</td>\n",
       "      <td>10414513334.35382</td>\n",
       "      <td>10087924029.42817</td>\n",
       "      <td>10399539218.93453</td>\n",
       "      <td>10144159905.64435</td>\n",
       "      <td>10309213799.11417</td>\n",
       "      <td>12006328328.35840</td>\n",
       "      <td>12222726182.89368</td>\n",
       "      <td>10152476503.68810</td>\n",
       "      <td>10307814600.03974</td>\n",
       "      <td>10169461791.64724</td>\n",
       "      <td>10250538410.63919</td>\n",
       "    </tr>\n",
       "    <tr>\n",
       "      <th>R2</th>\n",
       "      <td>0.69052</td>\n",
       "      <td>0.69593</td>\n",
       "      <td>0.92344</td>\n",
       "      <td>0.90550</td>\n",
       "      <td>0.91933</td>\n",
       "      <td>0.91654</td>\n",
       "      <td>0.91933</td>\n",
       "      <td>0.91654</td>\n",
       "      <td>0.91902</td>\n",
       "      <td>0.91666</td>\n",
       "      <td>0.91856</td>\n",
       "      <td>0.91738</td>\n",
       "      <td>0.90362</td>\n",
       "      <td>0.90205</td>\n",
       "      <td>0.91850</td>\n",
       "      <td>0.91739</td>\n",
       "      <td>0.91836</td>\n",
       "      <td>0.91785</td>\n",
       "    </tr>\n",
       "  </tbody>\n",
       "</table>\n",
       "</div>"
      ],
      "text/plain": [
       "             slm_train          slm_test         lm_train           lm_test  \\\n",
       "rmse      196342.38008      194788.29539      97653.83031      108591.04995   \n",
       "mae       158295.41434      155674.96396      78525.06702       86256.85206   \n",
       "mse  38550330214.66680 37942480019.09532 9536270574.91490 11792016129.79281   \n",
       "R2             0.69052           0.69593          0.92344           0.90550   \n",
       "\n",
       "           ridge_train        ridge_test    ridge_cv_train     ridge_cv_test  \\\n",
       "rmse      100246.78634      102051.52294      100246.78634      102051.52294   \n",
       "mae        80667.32244       82104.08674       80667.32244       82104.08674   \n",
       "mse  10049418171.92053 10414513334.35382 10049418171.92053 10414513334.35382   \n",
       "R2             0.91933           0.91654           0.91933           0.91654   \n",
       "\n",
       "           lasso_train        lasso_test    lasso_cv_train     lasso_cv_test  \\\n",
       "rmse      100438.65804      101978.13108      100718.22033      101534.29863   \n",
       "mae        80828.48002       82098.42355       80997.30610       81853.59807   \n",
       "mse  10087924029.42817 10399539218.93453 10144159905.64435 10309213799.11417   \n",
       "R2             0.91902           0.91666           0.91856           0.91738   \n",
       "\n",
       "         elastic_train      elastic_test  elastic_cv_train   elastic_cv_test  \\\n",
       "rmse      109573.39243      110556.43890      100759.49833      101527.40812   \n",
       "mae        87256.36100       88146.96007       81029.00511       81833.83968   \n",
       "mse  12006328328.35840 12222726182.89368 10152476503.68810 10307814600.03974   \n",
       "R2             0.90362           0.90205           0.91850           0.91739   \n",
       "\n",
       "            grid_train         grid_test  \n",
       "rmse      100843.74939      101244.94264  \n",
       "mae        81083.90316       81565.33747  \n",
       "mse  10169461791.64724 10250538410.63919  \n",
       "R2             0.91836           0.91785  "
      ]
     },
     "execution_count": 208,
     "metadata": {},
     "output_type": "execute_result"
    }
   ],
   "source": [
    "pd.concat([ls,mls,rs, rcs,lss,lcs,es, ecs,gs],axis=1)"
   ]
  },
  {
   "cell_type": "code",
   "execution_count": null,
   "id": "14c63eb9",
   "metadata": {},
   "outputs": [],
   "source": []
  },
  {
   "cell_type": "code",
   "execution_count": null,
   "id": "5a10d60c",
   "metadata": {},
   "outputs": [],
   "source": []
  },
  {
   "cell_type": "code",
   "execution_count": null,
   "id": "293e09d4",
   "metadata": {},
   "outputs": [],
   "source": []
  }
 ],
 "metadata": {
  "kernelspec": {
   "display_name": "Python 3",
   "language": "python",
   "name": "python3"
  },
  "language_info": {
   "codemirror_mode": {
    "name": "ipython",
    "version": 3
   },
   "file_extension": ".py",
   "mimetype": "text/x-python",
   "name": "python",
   "nbconvert_exporter": "python",
   "pygments_lexer": "ipython3",
   "version": "3.8.8"
  }
 },
 "nbformat": 4,
 "nbformat_minor": 5
}
